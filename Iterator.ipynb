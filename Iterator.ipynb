{
 "cells": [
  {
   "metadata": {
    "pycharm": {
     "name": "#%% md\n"
    }
   },
   "outputs": [],
   "source": [
    "# Using iterators in PythonLand"
   ],
   "execution_count": null,
   "cell_type": "markdown"
  },
  {
   "metadata": {
    "pycharm": {
     "name": "#%% md\n"
    }
   },
   "outputs": [],
   "source": [
    "## Introduction to iterators"
   ],
   "execution_count": null,
   "cell_type": "markdown"
  },
  {
   "metadata": {
    "pycharm": {
     "name": "#%% md\n"
    }
   },
   "outputs": [],
   "source": [
    "### 2. Iterating with a for loop\n",
    "\n",
    "There's no reason to be scared of iterators because you have actually been working with them for some time now! When you use a for loop to print out each element of a list, you're iterating over the list."
   ],
   "execution_count": null,
   "cell_type": "markdown"
  },
  {
   "cell_type": "code",
   "execution_count": 2,
   "outputs": [
    {
     "name": "stdout",
     "output_type": "stream",
     "text": [
      "0\n",
      "1\n",
      "2\n",
      "3\n",
      "4\n"
     ]
    }
   ],
   "source": [
    "nums = list(range(5))\n",
    "for num in nums:\n",
    "    print(num)"
   ],
   "metadata": {
    "collapsed": false,
    "pycharm": {
     "name": "#%%\n"
    }
   }
  },
  {
   "metadata": {
    "pycharm": {
     "name": "#%% md\n"
    }
   },
   "outputs": [],
   "source": [
    "### 3. Iterating with a for loop\n",
    "\n",
    "You can also use a for loop to iterate over characters in a string such as you see here. You can also use a for loop to iterate a over"
   ],
   "execution_count": null,
   "cell_type": "markdown"
  },
  {
   "cell_type": "code",
   "execution_count": 3,
   "outputs": [
    {
     "name": "stdout",
     "output_type": "stream",
     "text": [
      "I\n",
      "n\n",
      "t\n",
      "e\n",
      "r\n",
      "a\n",
      "t\n",
      "o\n",
      "r\n"
     ]
    }
   ],
   "source": [
    "for letter in \"Interator\":\n",
    "    print(letter)"
   ],
   "metadata": {
    "collapsed": false,
    "pycharm": {
     "name": "#%%\n"
    }
   }
  },
  {
   "metadata": {
    "pycharm": {
     "name": "#%% md\n"
    }
   },
   "outputs": [],
   "source": [
    "### 4. Iterating with a for loop\n",
    "\n",
    "a sequence of numbers produced by a special range object. The reason that we can loop over such objects is that they are special objects"
   ],
   "execution_count": null,
   "cell_type": "markdown"
  },
  {
   "cell_type": "code",
   "execution_count": 4,
   "outputs": [
    {
     "name": "stdout",
     "output_type": "stream",
     "text": [
      "0\n",
      "1\n",
      "2\n",
      "3\n",
      "4\n"
     ]
    }
   ],
   "source": [
    "for i in range(5):\n",
    "    print(i)"
   ],
   "metadata": {
    "collapsed": false,
    "pycharm": {
     "name": "#%%\n"
    }
   }
  },
  {
   "metadata": {
    "pycharm": {
     "name": "#%% md\n"
    }
   },
   "outputs": [],
   "source": [
    "### 5. Iterators vs. iterables\n",
    "\n",
    "called iterables: lists, strings and range objects are all iterables, as are many other Python objects, such as dictionaries and file connections! The actual definition of an iterable is an object that has an associated iter method. Once this iter method is applied to an iterable, an iterator object is created. Under the hood, this is actually what a for loop is doing: it takes an iterable, creates the associated iterator object, and iterates over it! An iterator is defined as an object that has an associated next method that produces the consecutive values. To create an iterator from an iterable,"
   ],
   "execution_count": null,
   "cell_type": "markdown"
  },
  {
   "metadata": {
    "pycharm": {
     "name": "#%% md\n"
    }
   },
   "outputs": [],
   "source": [
    "### 6. Iterating over iterables: next()\n",
    "\n",
    "all we need to do is use the function iter and pass it the iterable. Once we have the iterator defined, we pass it to the function next and this returns the first value. Calling next again on the iterator returns the next value until there are no values left to return and then it throws us a StopIteration error."
   ],
   "execution_count": null,
   "cell_type": "markdown"
  },
  {
   "cell_type": "code",
   "execution_count": 5,
   "outputs": [
    {
     "data": {
      "text/plain": "'D'"
     },
     "execution_count": 5,
     "metadata": {},
     "output_type": "execute_result"
    }
   ],
   "source": [
    "it = iter(\"Da\")\n",
    "next(it)"
   ],
   "metadata": {
    "collapsed": false,
    "pycharm": {
     "name": "#%%\n"
    }
   }
  },
  {
   "cell_type": "code",
   "execution_count": 6,
   "outputs": [
    {
     "data": {
      "text/plain": "'a'"
     },
     "execution_count": 6,
     "metadata": {},
     "output_type": "execute_result"
    }
   ],
   "source": [
    "next(it)"
   ],
   "metadata": {
    "collapsed": false,
    "pycharm": {
     "name": "#%%\n"
    }
   }
  },
  {
   "cell_type": "code",
   "execution_count": 7,
   "outputs": [
    {
     "name": "stdout",
     "output_type": "stream",
     "text": [
      "Iterator object is exhausted there next item in the iterator object\n"
     ]
    }
   ],
   "source": [
    "try:\n",
    "    next(it)\n",
    "except StopIteration:\n",
    "    print(\"Iterator object is exhausted there next item in the iterator object\")"
   ],
   "metadata": {
    "collapsed": false,
    "pycharm": {
     "name": "#%%\n"
    }
   }
  },
  {
   "metadata": {
    "pycharm": {
     "name": "#%% md\n"
    }
   },
   "outputs": [],
   "source": [
    "### 7. Iterating at once with *\n",
    "\n",
    "You can also print all values of an iterator in one fell swoop using the star operator, referred to as the splat operator in some circles. This star operator unpacks all elements of an iterator or an iterable. Be warned, however, once you do so, you cannot do it again as there are no more values to iterate through! We would have to redefine our iterator to do so."
   ],
   "execution_count": null,
   "cell_type": "markdown"
  },
  {
   "cell_type": "code",
   "execution_count": 8,
   "outputs": [
    {
     "name": "stdout",
     "output_type": "stream",
     "text": [
      "p r i n t   a l l\n"
     ]
    }
   ],
   "source": [
    " it = iter(\"print all\")\n",
    "print(*it)"
   ],
   "metadata": {
    "collapsed": false,
    "pycharm": {
     "name": "#%%\n"
    }
   }
  },
  {
   "metadata": {
    "pycharm": {
     "name": "#%% md\n"
    }
   },
   "outputs": [],
   "source": [
    "### 8. Iterating over dictionaries\n",
    "\n",
    "We mentioned before that dictionaries and file connections are iterables as well. To iterate over the key-value pairs of a Python dictionary, we need to unpack them by applying the items method to the dictionary as you can see here."
   ],
   "execution_count": null,
   "cell_type": "markdown"
  },
  {
   "cell_type": "code",
   "execution_count": 9,
   "outputs": [
    {
     "name": "stdout",
     "output_type": "stream",
     "text": [
      "EDA Exploratory Data Analysis\n",
      "SGD Stochastic Gradient Descent \n"
     ]
    }
   ],
   "source": [
    "dictionary = {\"EDA\" : \"Exploratory Data Analysis\" , \"SGD\" : \"Stochastic Gradient Descent \" }\n",
    "for key,value in dictionary.items():\n",
    "    print(key,value)"
   ],
   "metadata": {
    "collapsed": false,
    "pycharm": {
     "name": "#%%\n"
    }
   }
  },
  {
   "metadata": {
    "pycharm": {
     "name": "#%% md\n"
    }
   },
   "outputs": [],
   "source": [
    "### 9. Iterating over file connections\n",
    "\n",
    "With respect to file connections, here you can see how to use the iter and next methods to return the lines from a file, file dot txt. This has been your crash course in the fundamentals of iterables and iterators."
   ],
   "execution_count": null,
   "cell_type": "markdown"
  },
  {
   "cell_type": "code",
   "execution_count": 10,
   "outputs": [
    {
     "data": {
      "text/plain": "'This is first line.\\n'"
     },
     "execution_count": 10,
     "metadata": {},
     "output_type": "execute_result"
    }
   ],
   "source": [
    "file = open(\"data/sample.txt\")\n",
    "it = iter(file)\n",
    "next(it)"
   ],
   "metadata": {
    "collapsed": false,
    "pycharm": {
     "name": "#%%\n"
    }
   }
  },
  {
   "cell_type": "code",
   "execution_count": 11,
   "outputs": [
    {
     "data": {
      "text/plain": "'This is Second line.\\n'"
     },
     "execution_count": 11,
     "metadata": {},
     "output_type": "execute_result"
    }
   ],
   "source": [
    "next(it)"
   ],
   "metadata": {
    "collapsed": false,
    "pycharm": {
     "name": "#%%\n"
    }
   }
  },
  {
   "metadata": {
    "pycharm": {
     "name": "#%% md\n"
    }
   },
   "outputs": [],
   "source": [
    "### 10. Let's practice!\n",
    "\n",
    "Use your gained knowledge wisely and have fun iterating! -"
   ],
   "execution_count": null,
   "cell_type": "markdown"
  },
  {
   "metadata": {
    "pycharm": {
     "name": "#%% md\n"
    }
   },
   "outputs": [],
   "source": [
    "## Iterating over iterables (1)\n",
    "\n",
    "<p>Great, you're familiar with what iterables and iterators are! In this exercise, you will reinforce your knowledge about these by iterating over and printing from iterables and iterators.</p>\n",
    "<p>You are provided with a list of strings <code>flash</code>. You will practice iterating over the list by using a <code>for</code> loop. You will also create an iterator for the list and access the values from the iterator.</p>"
   ],
   "execution_count": null,
   "cell_type": "markdown"
  },
  {
   "cell_type": "code",
   "execution_count": 12,
   "outputs": [],
   "source": [
    "flash = ['jay garrick', 'barry allen', 'wally west', 'bart allen']"
   ],
   "metadata": {
    "collapsed": false,
    "pycharm": {
     "name": "#%%\n"
    }
   }
  },
  {
   "metadata": {
    "pycharm": {
     "name": "#%% md\n"
    }
   },
   "outputs": [],
   "source": [
    "Create a <code>for</code> loop to loop over <code>flash</code> and print the values in the list. Use <code>person</code> as the loop variable."
   ],
   "execution_count": null,
   "cell_type": "markdown"
  },
  {
   "cell_type": "code",
   "execution_count": 13,
   "outputs": [
    {
     "name": "stdout",
     "output_type": "stream",
     "text": [
      "jay garrick\n",
      "barry allen\n",
      "wally west\n",
      "bart allen\n"
     ]
    }
   ],
   "source": [
    "for person in flash:\n",
    "    print(person)"
   ],
   "metadata": {
    "collapsed": false,
    "pycharm": {
     "name": "#%%\n"
    }
   }
  },
  {
   "metadata": {
    "pycharm": {
     "name": "#%% md\n"
    }
   },
   "outputs": [],
   "source": [
    "Create an <em>iterator</em> for the list <code>flash</code> and assign the result to <code>superhero</code>."
   ],
   "execution_count": null,
   "cell_type": "markdown"
  },
  {
   "cell_type": "code",
   "execution_count": 14,
   "outputs": [],
   "source": [
    "superhero = iter(flash)"
   ],
   "metadata": {
    "collapsed": false,
    "pycharm": {
     "name": "#%%\n"
    }
   }
  },
  {
   "metadata": {
    "pycharm": {
     "name": "#%% md\n"
    }
   },
   "outputs": [],
   "source": [
    "Print each of the items from <code>superhero</code> using <code>next()</code> 4 times."
   ],
   "execution_count": null,
   "cell_type": "markdown"
  },
  {
   "cell_type": "code",
   "execution_count": 15,
   "outputs": [
    {
     "name": "stdout",
     "output_type": "stream",
     "text": [
      "jay garrick\n",
      "barry allen\n",
      "wally west\n",
      "bart allen\n"
     ]
    }
   ],
   "source": [
    "print(next(superhero))\n",
    "print(next(superhero))\n",
    "print(next(superhero))\n",
    "print(next(superhero))"
   ],
   "metadata": {
    "collapsed": false,
    "pycharm": {
     "name": "#%%\n"
    }
   }
  },
  {
   "metadata": {
    "pycharm": {
     "name": "#%% md\n"
    }
   },
   "outputs": [],
   "source": [
    "## Iterating over iterables (2)\n",
    "\n",
    "<p>One of the things you learned about in this chapter is that not all iterables are <em>actual</em> lists. A couple of examples that we looked at are <em>strings</em> and the use of the <code>range()</code> function. In this exercise, we will focus on the <code>range()</code> function.</p>\n",
    "<p>You can use <code>range()</code> in a <code>for</code> loop <em>as if</em> it's a list to be iterated over:</p>\n",
    "<pre><code>for i in range(5):\n",
    "    print(i)\n",
    "</code></pre>\n",
    "<p>Recall that <code>range()</code> doesn't actually create the list; instead, it creates a range object with an iterator that produces the values until it reaches the limit (in the example, until the value 4). If <code>range()</code> created the actual list, calling it with a value of $10^{100}$ may not work, especially since a number as big as that may go over a regular computer's memory. The value $10^{100}$ is actually what's called a <strong>Googol</strong> which is a 1 followed by a hundred 0s. That's a huge number!</p>\n",
    "<p>Your task for this exercise is to show that calling <code>range()</code> with $10^{100}$ won't actually pre-create the list.</p>"
   ],
   "execution_count": null,
   "cell_type": "markdown"
  },
  {
   "metadata": {
    "pycharm": {
     "name": "#%% md\n"
    }
   },
   "outputs": [],
   "source": [
    "Create an <strong>iterator</strong> object <code>small_value</code> over <code>range(3)</code> using the function <code>iter()</code>."
   ],
   "execution_count": null,
   "cell_type": "markdown"
  },
  {
   "cell_type": "code",
   "execution_count": 18,
   "outputs": [
    {
     "name": "stdout",
     "output_type": "stream",
     "text": [
      "0\n",
      "1\n",
      "2\n"
     ]
    }
   ],
   "source": [
    "small_value = iter(range(3))\n",
    "# Print the values in small_value\n",
    "print(next(small_value))\n",
    "print(next(small_value))\n",
    "print(next(small_value))"
   ],
   "metadata": {
    "collapsed": false,
    "pycharm": {
     "name": "#%%\n"
    }
   }
  },
  {
   "metadata": {
    "pycharm": {
     "name": "#%% md\n"
    }
   },
   "outputs": [],
   "source": [
    "Using a <code>for</code> loop, iterate over <code>range(3)</code>, printing the value for every iteration. Use <code>num</code> as the loop variable."
   ],
   "execution_count": null,
   "cell_type": "markdown"
  },
  {
   "cell_type": "code",
   "execution_count": 19,
   "outputs": [
    {
     "name": "stdout",
     "output_type": "stream",
     "text": [
      "0\n",
      "1\n",
      "2\n"
     ]
    }
   ],
   "source": [
    "for num in range(3):\n",
    "    print(num)"
   ],
   "metadata": {
    "collapsed": false,
    "pycharm": {
     "name": "#%%\n"
    }
   }
  },
  {
   "metadata": {
    "pycharm": {
     "name": "#%% md\n"
    }
   },
   "outputs": [],
   "source": [
    "Create an <strong>iterator</strong> object <code>googol</code> over <code>range(10 ** 100)</code>."
   ],
   "execution_count": null,
   "cell_type": "markdown"
  },
  {
   "cell_type": "code",
   "execution_count": 20,
   "outputs": [
    {
     "name": "stdout",
     "output_type": "stream",
     "text": [
      "0\n",
      "1\n",
      "2\n",
      "3\n",
      "4\n"
     ]
    }
   ],
   "source": [
    "googol = iter(range(10**100))\n",
    "# Print the first 5 values from googol\n",
    "print(next(googol))\n",
    "print(next(googol))\n",
    "print(next(googol))\n",
    "print(next(googol))\n",
    "print(next(googol))"
   ],
   "metadata": {
    "collapsed": false,
    "pycharm": {
     "name": "#%%\n"
    }
   }
  },
  {
   "metadata": {
    "pycharm": {
     "name": "#%% md\n"
    }
   },
   "outputs": [],
   "source": [
    "## Iterators as function arguments\n",
    "\n",
    "<p>You've been using the <code>iter()</code> function to get an iterator object, as well as the <code>next()</code> function to retrieve the values one by one from the iterator object. </p>\n",
    "<p>There are also functions that take iterators and iterables as arguments. For example, the <code>list()</code> and <code>sum()</code> functions return a list and the sum of elements, respectively. </p>\n",
    "<p>In this exercise, you will use these functions by passing an iterable from <code>range()</code> and then printing the results of the function calls.</p>"
   ],
   "execution_count": null,
   "cell_type": "markdown"
  },
  {
   "metadata": {
    "pycharm": {
     "name": "#%% md\n"
    }
   },
   "outputs": [],
   "source": [
    "Create a <code>range</code> object that would produce the values from 10 to 20 using <code>range()</code>. Assign the result to <code>values</code>."
   ],
   "execution_count": null,
   "cell_type": "markdown"
  },
  {
   "cell_type": "code",
   "execution_count": 25,
   "outputs": [],
   "source": [
    "values = range(10,21)"
   ],
   "metadata": {
    "collapsed": false,
    "pycharm": {
     "name": "#%%\n"
    }
   }
  },
  {
   "metadata": {
    "pycharm": {
     "name": "#%% md\n"
    }
   },
   "outputs": [],
   "source": [
    "Use the <code>list()</code> function to create a list of values from the range object <code>values</code>. Assign the result to <code>values_list</code>."
   ],
   "execution_count": null,
   "cell_type": "markdown"
  },
  {
   "cell_type": "code",
   "execution_count": 26,
   "outputs": [
    {
     "data": {
      "text/plain": "[10, 11, 12, 13, 14, 15, 16, 17, 18, 19, 20]"
     },
     "execution_count": 26,
     "metadata": {},
     "output_type": "execute_result"
    }
   ],
   "source": [
    "values_list = list(values)\n",
    "values_list"
   ],
   "metadata": {
    "collapsed": false,
    "pycharm": {
     "name": "#%%\n"
    }
   }
  },
  {
   "metadata": {
    "pycharm": {
     "name": "#%% md\n"
    }
   },
   "outputs": [],
   "source": [
    "Use the <code>sum()</code> function to get the sum of the values from 10 to 20 from the range object <code>values</code>. Assign the result to <code>values_sum</code>."
   ],
   "execution_count": null,
   "cell_type": "markdown"
  },
  {
   "cell_type": "code",
   "execution_count": 27,
   "outputs": [
    {
     "data": {
      "text/plain": "165"
     },
     "execution_count": 27,
     "metadata": {},
     "output_type": "execute_result"
    }
   ],
   "source": [
    "values_sum = sum(values)\n",
    "values_sum"
   ],
   "metadata": {
    "collapsed": false,
    "pycharm": {
     "name": "#%%\n"
    }
   }
  },
  {
   "metadata": {
    "pycharm": {
     "name": "#%% md\n"
    }
   },
   "outputs": [],
   "source": [
    "## Playing with iterators"
   ],
   "execution_count": null,
   "cell_type": "markdown"
  },
  {
   "metadata": {
    "pycharm": {
     "name": "#%% md\n"
    }
   },
   "outputs": [],
   "source": [
    "### 1. Playing with iterators\n",
    "\n",
    "We're now going to dive a bit deeper into the world of iterables and iterators by checking out some very cool, very useful functions. The first function, enumerate, will allow us to add a counter to any iterable while the second function, zip, will allow us to stitch together an arbitrary number of iterables. Let's begin:"
   ],
   "execution_count": null,
   "cell_type": "markdown"
  },
  {
   "metadata": {
    "pycharm": {
     "name": "#%% md\n"
    }
   },
   "outputs": [],
   "source": [
    "### 2. Using enumerate()\n",
    "\n",
    "enumerate is a function that takes any iterable as argument, such as a list, and returns a special enumerate object, which consists of pairs containing the elements of the original iterable, along with their index within the iterable. We can use the function list to turn this enumerate object into a list of tuples and print it to see what it contains. The enumerate object itself"
   ],
   "execution_count": null,
   "cell_type": "markdown"
  },
  {
   "cell_type": "code",
   "execution_count": 28,
   "outputs": [
    {
     "name": "stdout",
     "output_type": "stream",
     "text": [
      "<class 'enumerate'>\n"
     ]
    }
   ],
   "source": [
    "avengers = ['hawkeye','iron man' ,  'thor'    ,  'quicksilver']\n",
    "e = enumerate(avengers)\n",
    "print(type(e))"
   ],
   "metadata": {
    "collapsed": false,
    "pycharm": {
     "name": "#%%\n"
    }
   }
  },
  {
   "cell_type": "code",
   "execution_count": 29,
   "outputs": [
    {
     "name": "stdout",
     "output_type": "stream",
     "text": [
      "[(0, 'hawkeye'), (1, 'iron man'), (2, 'thor'), (3, 'quicksilver')]\n"
     ]
    }
   ],
   "source": [
    "e_list = list(e)\n",
    "print(e_list)"
   ],
   "metadata": {
    "collapsed": false,
    "pycharm": {
     "name": "#%%\n"
    }
   }
  },
  {
   "metadata": {
    "pycharm": {
     "name": "#%% md\n"
    }
   },
   "outputs": [],
   "source": [
    "### 3. enumerate() and unpack\n",
    "\n",
    "is also an iterable and we can loop over it while unpacking its elements using the clause for index, value in enumerate(avengers). It is the default behavior of enumerate to begin indexing at 0. However, you can alter this with a second argument, start, which you can see here."
   ],
   "execution_count": null,
   "cell_type": "markdown"
  },
  {
   "cell_type": "code",
   "execution_count": 30,
   "outputs": [
    {
     "name": "stdout",
     "output_type": "stream",
     "text": [
      "0 hawkeye\n",
      "1 iron man\n",
      "2 thor\n",
      "3 quicksilver\n"
     ]
    }
   ],
   "source": [
    "for index,value in enumerate(avengers):\n",
    "    print(index,value)"
   ],
   "metadata": {
    "collapsed": false,
    "pycharm": {
     "name": "#%%\n"
    }
   }
  },
  {
   "cell_type": "code",
   "execution_count": 31,
   "outputs": [
    {
     "name": "stdout",
     "output_type": "stream",
     "text": [
      "10 hawkeye\n",
      "11 iron man\n",
      "12 thor\n",
      "13 quicksilver\n"
     ]
    }
   ],
   "source": [
    "for index,value in enumerate(avengers,start=10):\n",
    "    print(index,value)"
   ],
   "metadata": {
    "collapsed": false,
    "pycharm": {
     "name": "#%%\n"
    }
   }
  },
  {
   "metadata": {
    "pycharm": {
     "name": "#%% md\n"
    }
   },
   "outputs": [],
   "source": [
    "### 4. Using zip()\n",
    "\n",
    "Now let's move on to zip, which accepts an arbitrary number of iterables and returns an iterator of tuples. Here we have two lists, one of the avengers, the other of their names. Zipping them together creates a zip object which is an iterator of tuples. We can turn this zip object into a list and print the list. The first element is a tuple containing the first elements of each list that was zipped. The second element is a tuple containing the second elements of each list that was zipped and so on."
   ],
   "execution_count": null,
   "cell_type": "markdown"
  },
  {
   "cell_type": "code",
   "execution_count": 32,
   "outputs": [
    {
     "name": "stdout",
     "output_type": "stream",
     "text": [
      "<class 'zip'>\n"
     ]
    }
   ],
   "source": [
    "avengers=['hawkeye','ironman','thor','quicksilver']\n",
    "names=['barton','stark','odinson','maximoff']\n",
    "\n",
    "z =zip(avengers,names)\n",
    "print(type(zip(z)))\n",
    "\n"
   ],
   "metadata": {
    "collapsed": false,
    "pycharm": {
     "name": "#%%\n"
    }
   }
  },
  {
   "cell_type": "code",
   "execution_count": 33,
   "outputs": [
    {
     "name": "stdout",
     "output_type": "stream",
     "text": [
      "[('hawkeye', 'barton'), ('ironman', 'stark'), ('thor', 'odinson'), ('quicksilver', 'maximoff')]\n"
     ]
    }
   ],
   "source": [
    "z_list = list(z)\n",
    "print(z_list)"
   ],
   "metadata": {
    "collapsed": false,
    "pycharm": {
     "name": "#%%\n"
    }
   }
  },
  {
   "metadata": {
    "pycharm": {
     "name": "#%% md\n"
    }
   },
   "outputs": [],
   "source": [
    "### 5. zip() and unpack\n",
    "\n",
    "Alternatively, we could use a for loop to iterate over the zip object and print the tuples. We could also"
   ],
   "execution_count": null,
   "cell_type": "markdown"
  },
  {
   "cell_type": "code",
   "execution_count": 34,
   "outputs": [
    {
     "name": "stdout",
     "output_type": "stream",
     "text": [
      "hawkeye barton\n",
      "ironman stark\n",
      "thor odinson\n",
      "quicksilver maximoff\n"
     ]
    }
   ],
   "source": [
    "for z1,z2 in zip(avengers,names):\n",
    "    print(z1,z2)"
   ],
   "metadata": {
    "collapsed": false,
    "pycharm": {
     "name": "#%%\n"
    }
   }
  },
  {
   "metadata": {
    "pycharm": {
     "name": "#%% md\n"
    }
   },
   "outputs": [],
   "source": [
    "### 6. Print zip with *\n",
    "\n",
    "have used the splat operator to print all the elements! Now it's your turn to play with these useful functions."
   ],
   "execution_count": null,
   "cell_type": "markdown"
  },
  {
   "cell_type": "code",
   "execution_count": 36,
   "outputs": [
    {
     "name": "stdout",
     "output_type": "stream",
     "text": [
      "('hawkeye', 'barton') ('ironman', 'stark') ('thor', 'odinson') ('quicksilver', 'maximoff')\n"
     ]
    }
   ],
   "source": [
    "z =zip(avengers,names)\n",
    "print(*z)"
   ],
   "metadata": {
    "collapsed": false,
    "pycharm": {
     "name": "#%%\n"
    }
   }
  },
  {
   "metadata": {
    "pycharm": {
     "name": "#%% md\n"
    }
   },
   "outputs": [],
   "source": [
    "### 7. Let's practice!\n",
    "\n",
    "Enjoy! -"
   ],
   "execution_count": null,
   "cell_type": "markdown"
  },
  {
   "metadata": {
    "pycharm": {
     "name": "#%% md\n"
    }
   },
   "outputs": [],
   "source": [
    "## Using enumerate\n",
    "\n",
    "<p>You're really getting the hang of using iterators, great job! </p>\n",
    "<p>You've just gained several new ideas on iterators from the last exercise and one of them is the <code>enumerate()</code> function. Recall that <code>enumerate()</code> returns an <code>enumerate</code> object that produces a sequence of tuples, and each of the tuples is an <em>index-value</em> pair.</p>\n",
    "<p>In this exercise, you are given a list of strings <code>mutants</code> and you will practice using <code>enumerate()</code> on it by printing out a list of tuples and unpacking the tuples using a <code>for</code> loop.</p>"
   ],
   "execution_count": null,
   "cell_type": "markdown"
  },
  {
   "cell_type": "code",
   "execution_count": 37,
   "outputs": [],
   "source": [
    "mutants=['charlesxavier','bobbydrake','kurtwagner','maxeisenhardt','kittypryde']"
   ],
   "metadata": {
    "collapsed": false,
    "pycharm": {
     "name": "#%%\n"
    }
   }
  },
  {
   "metadata": {
    "pycharm": {
     "name": "#%% md\n"
    }
   },
   "outputs": [],
   "source": [
    "Create a list of tuples from <code>mutants</code> and assign the result to <code>mutant_list</code>. Make sure you generate the tuples using <code>enumerate()</code> and turn the result from it into a list using <code>list()</code>."
   ],
   "execution_count": null,
   "cell_type": "markdown"
  },
  {
   "cell_type": "code",
   "execution_count": 38,
   "outputs": [
    {
     "name": "stdout",
     "output_type": "stream",
     "text": [
      "[(0, 'charlesxavier'), (1, 'bobbydrake'), (2, 'kurtwagner'), (3, 'maxeisenhardt'), (4, 'kittypryde')]\n"
     ]
    }
   ],
   "source": [
    "mutant_list = list(enumerate(mutants))\n",
    "print(mutant_list)"
   ],
   "metadata": {
    "collapsed": false,
    "pycharm": {
     "name": "#%%\n"
    }
   }
  },
  {
   "metadata": {
    "pycharm": {
     "name": "#%% md\n"
    }
   },
   "outputs": [],
   "source": [
    "Complete the first <code>for</code> loop by unpacking the tuples generated by calling <code>enumerate()</code> on <code>mutants</code>. Use <code>index1</code> for the index and <code>value1</code> for the value when unpacking the tuple."
   ],
   "execution_count": null,
   "cell_type": "markdown"
  },
  {
   "cell_type": "code",
   "execution_count": 39,
   "outputs": [
    {
     "name": "stdout",
     "output_type": "stream",
     "text": [
      "0 charlesxavier\n",
      "1 bobbydrake\n",
      "2 kurtwagner\n",
      "3 maxeisenhardt\n",
      "4 kittypryde\n"
     ]
    }
   ],
   "source": [
    "for index1,value1 in enumerate(mutants):\n",
    "    print(index1,value1)"
   ],
   "metadata": {
    "collapsed": false,
    "pycharm": {
     "name": "#%%\n"
    }
   }
  },
  {
   "metadata": {
    "pycharm": {
     "name": "#%% md\n"
    }
   },
   "outputs": [],
   "source": [
    "Complete the second <code>for</code> loop similarly as with the first, but this time change the starting index to start from <code>1</code> by passing it in as an argument to the <code>start</code> parameter of <code>enumerate()</code>. Use <code>index2</code> for the index and <code>value2</code> for the value when unpacking the tuple."
   ],
   "execution_count": null,
   "cell_type": "markdown"
  },
  {
   "cell_type": "code",
   "execution_count": 40,
   "outputs": [
    {
     "name": "stdout",
     "output_type": "stream",
     "text": [
      "1 charlesxavier\n",
      "2 bobbydrake\n",
      "3 kurtwagner\n",
      "4 maxeisenhardt\n",
      "5 kittypryde\n"
     ]
    }
   ],
   "source": [
    "for index2,value2 in enumerate(mutants,start=1):\n",
    "    print(index2,value2)"
   ],
   "metadata": {
    "collapsed": false,
    "pycharm": {
     "name": "#%%\n"
    }
   }
  },
  {
   "metadata": {
    "pycharm": {
     "name": "#%% md\n"
    }
   },
   "outputs": [],
   "source": [
    "## Using zip\n",
    "\n",
    "<p>Another interesting function that you've learned is <code>zip()</code>, which takes any number of iterables and returns a <code>zip</code> object that is an iterator of tuples. If you wanted to print the values of a <code>zip</code> object, you can convert it into a list and then print it. Printing just a <code>zip</code> object will not return the values unless you unpack it first. In this exercise, you will explore this for yourself.</p>\n",
    "<p>Three lists of strings are pre-loaded: <code>mutants</code>, <code>aliases</code>, and <code>powers</code>. First, you will use <code>list()</code> and <code>zip()</code> on these lists to generate a list of tuples. Then, you will create a <code>zip</code> object using <code>zip()</code>. Finally, you will unpack this <code>zip</code> object in a <code>for</code> loop to print the values in each tuple. Observe the different output generated by printing the list of tuples, then the <code>zip</code> object, and finally, the tuple values in the <code>for</code> loop.</p>"
   ],
   "execution_count": null,
   "cell_type": "markdown"
  },
  {
   "cell_type": "code",
   "execution_count": 41,
   "outputs": [],
   "source": [
    "aliases = ['prof x', 'iceman', 'nightcrawler', 'magneto', 'shadowcat']\n",
    "powers= ['telepathy','thermokinesis','teleportation','magnetokinesis','intangibility']\n"
   ],
   "metadata": {
    "collapsed": false,
    "pycharm": {
     "name": "#%%\n"
    }
   }
  },
  {
   "metadata": {
    "pycharm": {
     "name": "#%% md\n"
    }
   },
   "outputs": [],
   "source": [
    "Using <code>zip()</code> with <code>list()</code>, create a <em>list</em> of <em>tuples</em> from the three lists <code>mutants</code>, <code>aliases</code>, and <code>powers</code> (in that order) and assign the result to <code>mutant_data</code>."
   ],
   "execution_count": null,
   "cell_type": "markdown"
  },
  {
   "cell_type": "code",
   "execution_count": 42,
   "outputs": [
    {
     "name": "stdout",
     "output_type": "stream",
     "text": [
      "[('charlesxavier', 'prof x', 'telepathy'), ('bobbydrake', 'iceman', 'thermokinesis'), ('kurtwagner', 'nightcrawler', 'teleportation'), ('maxeisenhardt', 'magneto', 'magnetokinesis'), ('kittypryde', 'shadowcat', 'intangibility')]\n"
     ]
    }
   ],
   "source": [
    "mutant_data = list(zip(mutants,aliases,powers))\n",
    "print(mutant_data)"
   ],
   "metadata": {
    "collapsed": false,
    "pycharm": {
     "name": "#%%\n"
    }
   }
  },
  {
   "metadata": {
    "pycharm": {
     "name": "#%% md\n"
    }
   },
   "outputs": [],
   "source": [
    "Using <code>zip()</code>, create a <em>zip object</em> called <code>mutant_zip</code> from the three lists <code>mutants</code>, <code>aliases</code>, and <code>powers</code>."
   ],
   "execution_count": null,
   "cell_type": "markdown"
  },
  {
   "cell_type": "code",
   "execution_count": 43,
   "outputs": [
    {
     "name": "stdout",
     "output_type": "stream",
     "text": [
      "<zip object at 0x000001F2C910C500>\n"
     ]
    }
   ],
   "source": [
    "mutant_zip = zip(mutants,aliases,powers)\n",
    "print(mutant_zip)"
   ],
   "metadata": {
    "collapsed": false,
    "pycharm": {
     "name": "#%%\n"
    }
   }
  },
  {
   "metadata": {
    "pycharm": {
     "name": "#%% md\n"
    }
   },
   "outputs": [],
   "source": [
    "Complete the <code>for</code> loop by unpacking the <code>zip</code> object you created and printing the tuple values. Use <code>value1</code>, <code>value2</code>, <code>value3</code> for the values from each of <code>mutants</code>, <code>aliases</code>, and <code>powers</code>, in that order."
   ],
   "execution_count": null,
   "cell_type": "markdown"
  },
  {
   "cell_type": "code",
   "execution_count": 44,
   "outputs": [
    {
     "name": "stdout",
     "output_type": "stream",
     "text": [
      "charlesxavier prof x telepathy\n",
      "bobbydrake iceman thermokinesis\n",
      "kurtwagner nightcrawler teleportation\n",
      "maxeisenhardt magneto magnetokinesis\n",
      "kittypryde shadowcat intangibility\n"
     ]
    }
   ],
   "source": [
    "for value1,value2,value3 in mutant_zip:\n",
    "    print(value1, value2, value3)"
   ],
   "metadata": {
    "collapsed": false,
    "pycharm": {
     "name": "#%%\n"
    }
   }
  },
  {
   "metadata": {
    "pycharm": {
     "name": "#%% md\n"
    }
   },
   "outputs": [],
   "source": [
    "## Using * and zip to 'unzip'\n",
    "\n",
    "<p>You know how to use <code>zip()</code> as well as how to print out values from a <code>zip</code> object. Excellent!</p>\n",
    "<p>Let's play around with <code>zip()</code> a little more. There is no <em>unzip</em> function for doing the reverse of what <code>zip()</code> does. We can, however, reverse what has been <code>zip</code>ped together by using <code>zip()</code> with a little help from <code>*</code>! <code>*</code> unpacks an <em>iterable</em> such as a list or a tuple into <em>positional arguments</em> in a function call.</p>\n",
    "<p>In this exercise, you will use <code>*</code> in a call to <code>zip()</code> to unpack the tuples produced by <code>zip()</code>. </p>\n",
    "<p>Two tuples of strings, <code>mutants</code> and <code>powers</code> have been pre-loaded.</p>"
   ],
   "execution_count": null,
   "cell_type": "markdown"
  },
  {
   "metadata": {
    "pycharm": {
     "name": "#%% md\n"
    }
   },
   "outputs": [],
   "source": [
    "Create a <code>zip</code> object by using <code>zip()</code> on <code>mutants</code> and <code>powers</code>, in that order. Assign the result to <code>z1</code>."
   ],
   "execution_count": null,
   "cell_type": "markdown"
  },
  {
   "cell_type": "code",
   "execution_count": 55,
   "outputs": [],
   "source": [
    "z1 = zip(mutants,powers)"
   ],
   "metadata": {
    "collapsed": false,
    "pycharm": {
     "name": "#%%\n"
    }
   }
  },
  {
   "metadata": {
    "pycharm": {
     "name": "#%% md\n"
    }
   },
   "outputs": [],
   "source": [
    "Print the tuples in <code>z1</code> by unpacking them into positional arguments using the <code>*</code> operator in a <code>print()</code> call."
   ],
   "execution_count": null,
   "cell_type": "markdown"
  },
  {
   "cell_type": "code",
   "execution_count": 56,
   "outputs": [
    {
     "name": "stdout",
     "output_type": "stream",
     "text": [
      "('charlesxavier', 'telepathy') ('bobbydrake', 'thermokinesis') ('kurtwagner', 'teleportation') ('maxeisenhardt', 'magnetokinesis') ('kittypryde', 'intangibility')\n"
     ]
    }
   ],
   "source": [
    "print(*z1)"
   ],
   "metadata": {
    "collapsed": false,
    "pycharm": {
     "name": "#%%\n"
    }
   }
  },
  {
   "metadata": {
    "pycharm": {
     "name": "#%% md\n"
    }
   },
   "outputs": [],
   "source": [
    "Because the previous <code>print()</code> call would have exhausted the elements in <code>z1</code>, recreate the <code>zip</code> object you defined earlier and assign the result again to <code>z1</code>."
   ],
   "execution_count": null,
   "cell_type": "markdown"
  },
  {
   "cell_type": "code",
   "execution_count": 57,
   "outputs": [],
   "source": [
    "z1 = zip(mutants,powers)"
   ],
   "metadata": {
    "collapsed": false,
    "pycharm": {
     "name": "#%%\n"
    }
   }
  },
  {
   "metadata": {
    "pycharm": {
     "name": "#%% md\n"
    }
   },
   "outputs": [],
   "source": [
    "'Unzip' the tuples in <code>z1</code> by unpacking them into positional arguments using the <code>*</code> operator in a <code>zip()</code> call. Assign the results to <code>result1</code> and <code>result2</code>, in that order."
   ],
   "execution_count": null,
   "cell_type": "markdown"
  },
  {
   "cell_type": "code",
   "execution_count": 58,
   "outputs": [],
   "source": [
    "result1,result2 = zip(*z1)"
   ],
   "metadata": {
    "collapsed": false,
    "pycharm": {
     "name": "#%%\n"
    }
   }
  },
  {
   "metadata": {
    "pycharm": {
     "name": "#%% md\n"
    }
   },
   "outputs": [],
   "source": [
    "The last <code>print()</code> statements prints the output of comparing <code>result1</code> to <code>mutants</code> and <code>result2</code> to <code>powers</code>. Click <code>Submit Answer</code> to see if the unpacked <code>result1</code> and <code>result2</code> are equivalent to <code>mutants</code> and <code>powers</code>, respectively."
   ],
   "execution_count": null,
   "cell_type": "markdown"
  },
  {
   "cell_type": "code",
   "execution_count": 59,
   "outputs": [
    {
     "data": {
      "text/plain": "('charlesxavier', 'bobbydrake', 'kurtwagner', 'maxeisenhardt', 'kittypryde')"
     },
     "execution_count": 59,
     "metadata": {},
     "output_type": "execute_result"
    }
   ],
   "source": [
    "result1"
   ],
   "metadata": {
    "collapsed": false,
    "pycharm": {
     "name": "#%%\n"
    }
   }
  },
  {
   "cell_type": "code",
   "execution_count": 60,
   "outputs": [
    {
     "name": "stdout",
     "output_type": "stream",
     "text": [
      "False\n",
      "False\n"
     ]
    }
   ],
   "source": [
    "print(result1 == mutants)\n",
    "print(result2 == powers)"
   ],
   "metadata": {
    "collapsed": false,
    "pycharm": {
     "name": "#%%\n"
    }
   }
  },
  {
   "metadata": {
    "pycharm": {
     "name": "#%% md\n"
    }
   },
   "outputs": [],
   "source": [
    "## Using iterators to load large files into memory"
   ],
   "execution_count": null,
   "cell_type": "markdown"
  },
  {
   "metadata": {
    "pycharm": {
     "name": "#%% md\n"
    }
   },
   "outputs": [],
   "source": [
    "### 1. Using iterators to load large files into memory\n",
    "\n",
    "Now that you're more comfortable with iterables, iterators and how they work, we're going to check out a particular use case that is pertinent to the world of Data Science:"
   ],
   "execution_count": null,
   "cell_type": "markdown"
  },
  {
   "metadata": {
    "pycharm": {
     "name": "#%% md\n"
    }
   },
   "outputs": [],
   "source": [
    "### 2. Loading data in chunks\n",
    "\n",
    "dealing with large amounts of data. Let's say that you are pulling data from a file, database or API and there's so much of it, just so much data, that you can't hold it in memory. One solution is to load the data in chunks, perform the desired operation or operations on each chuck, store the result, discard the chunk and then load the next chunk; this sounds like a place where an iterator could be useful!To surmount this challenge, we are going to use the pandas function read_csv, which provides a wonderful option whereby you can load data in chunks and iterate over them. All we need to do is to specify the chunk using the argument yep, you guessed it: chunksize. As with much of what we do in Data Science, this is best illustrated by an example."
   ],
   "execution_count": null,
   "cell_type": "markdown"
  },
  {
   "metadata": {
    "pycharm": {
     "name": "#%% md\n"
    }
   },
   "outputs": [],
   "source": [
    "### 3. Iterating over data\n",
    "\n",
    "Let's say that we have a csv with a column called 'x' of numbers and I want to compute the sum of all the numbers in that column. However, the file is too large to store in memory. We first import pandas and then initialize an empty list result to hold the result of each iteration. We then use the read_csv function, utilizing the argument chunksize, setting it to the size of the chunks I want to read in. In this example, we use a chunk size of 1,000. You can play around with it. The object created by the read_csv call is an iterable so I can can iterate over it, using a for loop, in which each chunk will be a DataFrame. Within the for loop, that is, on each iteration, we compute the sum of the column of interest and we append it to the list result. Once this is executed, we can take the sum of the list result and this gives us our total sum of the column of interest. Iterators to the rescue!"
   ],
   "execution_count": null,
   "cell_type": "markdown"
  },
  {
   "cell_type": "code",
   "execution_count": 63,
   "outputs": [
    {
     "name": "stdout",
     "output_type": "stream",
     "text": [
      "1921212098802.0\n"
     ]
    }
   ],
   "source": [
    "import pandas as pd\n",
    "result =[]\n",
    "for chunk in pd.read_csv(\"data/world_ind_pop_data.csv\",chunksize=1000):\n",
    "    result.append(sum(chunk[\"Total Population\"]))\n",
    "total = sum(result)\n",
    "print(total)"
   ],
   "metadata": {
    "collapsed": false,
    "pycharm": {
     "name": "#%%\n"
    }
   }
  },
  {
   "metadata": {
    "pycharm": {
     "name": "#%% md\n"
    }
   },
   "outputs": [],
   "source": [
    "### 4. Iterating over data\n",
    "\n",
    "Also note that we need not have used a list to store each result - we could have initialized total to zero before iterating over the file and added each sum during the iteration procedure, as you see here. Now things get really cool: you're going to use an iterator to load Twitter data in chunks and perform a similar computation that you did in the prequel to this course."
   ],
   "execution_count": null,
   "cell_type": "markdown"
  },
  {
   "cell_type": "code",
   "execution_count": 65,
   "outputs": [
    {
     "name": "stdout",
     "output_type": "stream",
     "text": [
      "(1000, 5)\n",
      "(1000, 5)\n",
      "(1000, 5)\n",
      "(1000, 5)\n",
      "(1000, 5)\n",
      "(1000, 5)\n",
      "(1000, 5)\n",
      "(1000, 5)\n",
      "(1000, 5)\n",
      "(1000, 5)\n",
      "(1000, 5)\n",
      "(1000, 5)\n",
      "(1000, 5)\n",
      "(374, 5)\n",
      "1921212098802.0\n"
     ]
    }
   ],
   "source": [
    "import pandas as pd\n",
    "total = 0\n",
    "for chunk in pd.read_csv(\"data/world_ind_pop_data.csv\",chunksize=1000):\n",
    "    print(chunk.shape)\n",
    "    total = total + (sum(chunk[\"Total Population\"]))\n",
    "\n",
    "print(total)"
   ],
   "metadata": {
    "collapsed": false,
    "pycharm": {
     "name": "#%%\n"
    }
   }
  },
  {
   "metadata": {
    "pycharm": {
     "name": "#%% md\n"
    }
   },
   "outputs": [],
   "source": [
    "### 5. Let's practice!\n",
    "\n",
    "Then you're going to write a function that does the same. Happy iterating, friend! -"
   ],
   "execution_count": null,
   "cell_type": "markdown"
  },
  {
   "metadata": {
    "pycharm": {
     "name": "#%% md\n"
    }
   },
   "outputs": [],
   "source": [
    "## Processing large amounts of Twitter data\n",
    "\n",
    "<p>Sometimes, the data we have to process reaches a size that is too much for a computer's memory to handle. This is a common problem faced by data scientists. A solution to this is to process an entire data source chunk by chunk, instead of a single go all at once.</p>\n",
    "<p>In this exercise, you will do just that. You will process a large csv file of Twitter data in the same way that you processed <code>'tweets.csv'</code> in <a href=\"https://campus.datacamp.com/courses/python-data-science-toolbox-part-1/writing-your-own-functions?ex=12\" target=\"_blank\" rel=\"noopener noreferrer\"><em>Bringing it all together</em></a> exercises of the prequel course, but this time, working on it in chunks of 10 entries at a time. </p>\n",
    "<p>If you are interested in learning how to access Twitter data so you can work with it on your own system, refer to <a href=\"https://www.datacamp.com/courses/importing-data-in-python-part-2\" target=\"_blank\" rel=\"noopener noreferrer\">Part 2</a> of the DataCamp course on Importing Data in Python. </p>\n",
    "<p>The pandas package has been imported as <code>pd</code> and the file <code>'tweets.csv'</code> is in your current directory for your use.</p>\n",
    "<p><em>Be aware that this is real data from Twitter and as such there is always a risk that it may contain profanity or other offensive content (in this exercise, and any following exercises that also use real Twitter data).</em></p>"
   ],
   "execution_count": null,
   "cell_type": "markdown"
  },
  {
   "metadata": {
    "pycharm": {
     "name": "#%% md\n"
    }
   },
   "outputs": [],
   "source": [
    "Initialize an empty dictionary <code>counts_dict</code> for storing the results of processing the Twitter data."
   ],
   "execution_count": null,
   "cell_type": "markdown"
  },
  {
   "cell_type": "code",
   "execution_count": 67,
   "outputs": [],
   "source": [
    "counts_dict = {}"
   ],
   "metadata": {
    "collapsed": false,
    "pycharm": {
     "name": "#%%\n"
    }
   }
  },
  {
   "metadata": {
    "pycharm": {
     "name": "#%% md\n"
    }
   },
   "outputs": [],
   "source": [
    "Iterate over the <code>'tweets.csv'</code> file by using a <code>for</code> loop. Use the loop variable <code>chunk</code> and iterate over the call to <code>pd.read_csv()</code> with a <code>chunksize</code> of 10."
   ],
   "execution_count": null,
   "cell_type": "markdown"
  },
  {
   "metadata": {
    "pycharm": {
     "name": "#%% md\n"
    }
   },
   "outputs": [],
   "source": [
    "In the inner loop, iterate over the column <code>'lang'</code> in <code>chunk</code> by using a <code>for</code> loop. Use the loop variable <code>entry</code>."
   ],
   "execution_count": null,
   "cell_type": "markdown"
  },
  {
   "cell_type": "code",
   "execution_count": 68,
   "outputs": [
    {
     "name": "stdout",
     "output_type": "stream",
     "text": [
      "{'en': 97, 'et': 1, 'und': 2}\n"
     ]
    }
   ],
   "source": [
    "for chunk in pd.read_csv(\"data/tweets.csv\",chunksize=10):\n",
    "    for entry in chunk[\"lang\"]:\n",
    "        if entry in counts_dict.keys():\n",
    "            counts_dict[entry] += 1\n",
    "        else:\n",
    "            counts_dict[entry] = 1\n",
    "\n",
    "print(counts_dict)\n"
   ],
   "metadata": {
    "collapsed": false,
    "pycharm": {
     "name": "#%%\n"
    }
   }
  },
  {
   "metadata": {
    "pycharm": {
     "name": "#%% md\n"
    }
   },
   "outputs": [],
   "source": [
    "## Extracting information for large amounts of Twitter data\n",
    "\n",
    "<p>Great job chunking out that file in the previous exercise. You now know how to deal with situations where you need to process a very large file and that's a very useful skill to have!</p>\n",
    "<p>It's good to know how to process a file in smaller, more manageable chunks, but it can become very tedious having to write and rewrite the same code for the same task each time. In this exercise, you will be making your code more <em>reusable</em> by putting your work in the last exercise in a <em>function definition</em>.</p>\n",
    "<p>The pandas package has been imported as <code>pd</code> and the file <code>'tweets.csv'</code> is in your current directory for your use.</p>"
   ],
   "execution_count": null,
   "cell_type": "markdown"
  },
  {
   "metadata": {
    "pycharm": {
     "name": "#%% md\n"
    }
   },
   "outputs": [],
   "source": [
    "Define the function <code>count_entries()</code>, which has 3 parameters. The first parameter is <code>csv_file</code> for the filename, the second is <code>c_size</code> for the chunk size, and the last is <code>colname</code> for the column name."
   ],
   "execution_count": null,
   "cell_type": "markdown"
  },
  {
   "metadata": {
    "pycharm": {
     "name": "#%% md\n"
    }
   },
   "outputs": [],
   "source": [
    "Iterate over the file in <code>csv_file</code> file by using a <code>for</code> loop. Use the loop variable <code>chunk</code> and iterate over the call to <code>pd.read_csv()</code>, passing <code>c_size</code> to <code>chunksize</code>."
   ],
   "execution_count": null,
   "cell_type": "markdown"
  },
  {
   "metadata": {
    "pycharm": {
     "name": "#%% md\n"
    }
   },
   "outputs": [],
   "source": [
    "In the inner loop, iterate over the column given by <code>colname</code> in <code>chunk</code> by using a <code>for</code> loop. Use the loop variable <code>entry</code>."
   ],
   "execution_count": null,
   "cell_type": "markdown"
  },
  {
   "metadata": {
    "pycharm": {
     "name": "#%% md\n"
    }
   },
   "outputs": [],
   "source": [
    "Call the <code>count_entries()</code> function by passing to it the filename <code>'tweets.csv'</code>, the size of chunks <code>10</code>, and the name of the column to count, <code>'lang'</code>. Assign the result of the call to the variable <code>result_counts</code>."
   ],
   "execution_count": null,
   "cell_type": "markdown"
  },
  {
   "cell_type": "code",
   "execution_count": 69,
   "outputs": [
    {
     "name": "stdout",
     "output_type": "stream",
     "text": [
      "{'en': 97, 'et': 1, 'und': 2}\n"
     ]
    }
   ],
   "source": [
    "# Define count_entries()\n",
    "def count_entries(csv_file,c_size,colname):\n",
    "    \"\"\"Return a dictionary with counts of\n",
    "    occurrences as value for each key.\"\"\"\n",
    "\n",
    "    # Initialize an empty dictionary: counts_dict\n",
    "    counts_dict = {}\n",
    "\n",
    "    # Iterate over the file chunk by chunk\n",
    "    for chunk in pd.read_csv(csv_file,chunksize=c_size):\n",
    "\n",
    "        # Iterate over the column in DataFrame\n",
    "        for entry in chunk[colname]:\n",
    "            if entry in counts_dict.keys():\n",
    "                counts_dict[entry] += 1\n",
    "            else:\n",
    "                counts_dict[entry] = 1\n",
    "\n",
    "    # Return counts_dict\n",
    "    return counts_dict\n",
    "\n",
    "# Call count_entries(): result_counts\n",
    "result_counts = count_entries(\"data/tweets.csv\",10,\"lang\")\n",
    "\n",
    "# Print result_counts\n",
    "print(result_counts)"
   ],
   "metadata": {
    "collapsed": false,
    "pycharm": {
     "name": "#%%\n"
    }
   }
  },
  {
   "metadata": {
    "pycharm": {
     "name": "#%% md\n"
    }
   },
   "outputs": [],
   "source": [
    "## Congratulations!"
   ],
   "execution_count": null,
   "cell_type": "markdown"
  },
  {
   "metadata": {
    "pycharm": {
     "name": "#%% md\n"
    }
   },
   "outputs": [],
   "source": [
    "### 1. Congratulations!\n",
    "\n",
    "Congratulations, you've now grappled with the nuts and bolts of iterators in Python Land and survived. You've even applied your newfound skills to an example from the world of big data: loading and working on a file chunk by chunk!"
   ],
   "execution_count": null,
   "cell_type": "markdown"
  },
  {
   "metadata": {
    "pycharm": {
     "name": "#%% md\n"
    }
   },
   "outputs": [],
   "source": [
    "### 2. What’s next?\n",
    "\n",
    "What's up next, I hear you ask? Well, that's a great question. We've got some of the most important Pythonista tools in store: comprehensions and generators. These terms may not mean much to you yet, but soon you won't be able to forget them. In fact, you may even want more because they are that useful. List comprehensions, for example, allow us to create lists from other lists or from columns of DataFrames, among many other objects. Why would we want to do this? Check this out, for example. Let's say that we have a DataFrame with a column of time-stamped data and we want to extract the year from it. We could extract the column from the DataFrame, loop over its entries using, for example, a for loop, and within the for loop, extract the desired information. In that case, we would have had to initialize an empty list in which to store the retrieved data. A list comprehension, however, allows us to perform this entire operation, in a single line of code and it's waaaaaaay more efficient than the equivalent for loop code. This is one of a number of Pythonista Data Science chops that you'll learn in the rest of this course."
   ],
   "execution_count": null,
   "cell_type": "markdown"
  },
  {
   "metadata": {
    "pycharm": {
     "name": "#%% md\n"
    }
   },
   "outputs": [],
   "source": [
    "### 3. Let's practice!\n",
    "\n",
    "Moreover, the entire final chapter will be dedicated to using the skills you're developing to extract meaningful information from a real-world dataset, the World Bank World Development Indicators dataset which, according to the World Bank, 'presents the most current and accurate global development data available, and includes national, regional and global estimates.' See you in the next Chapter!"
   ],
   "execution_count": null,
   "cell_type": "markdown"
  },
  {
   "metadata": {
    "pycharm": {
     "name": "#%% md\n"
    }
   },
   "outputs": [],
   "source": [
    "# List comprehensions and generators"
   ],
   "execution_count": null,
   "cell_type": "markdown"
  },
  {
   "metadata": {
    "pycharm": {
     "name": "#%% md\n"
    }
   },
   "outputs": [],
   "source": [
    "## List comprehensions"
   ],
   "execution_count": null,
   "cell_type": "markdown"
  },
  {
   "metadata": {
    "pycharm": {
     "name": "#%% md\n"
    }
   },
   "outputs": [],
   "source": [
    "### 1. List comprehensions\n",
    "\n",
    "Let's say that you have a list of numbers and you want to create a new list of numbers that's the same as the old list, except that each number has 1 added to it."
   ],
   "execution_count": null,
   "cell_type": "markdown"
  },
  {
   "cell_type": "code",
   "execution_count": 70,
   "outputs": [],
   "source": [
    "nums = [345,346,6,74,5,36,45]"
   ],
   "metadata": {
    "collapsed": false,
    "pycharm": {
     "name": "#%%\n"
    }
   }
  },
  {
   "metadata": {
    "pycharm": {
     "name": "#%% md\n"
    }
   },
   "outputs": [],
   "source": [
    "### 2. Populate a list with a for loop\n",
    "\n",
    "You could initialize a new empty list, loop through the old list, add 1 to each entry and append all new values to the new list, but for loops are inefficient, both computationally and in terms of coding time and space, particularly when you could do this in one line of code. \"One line of code?\" I hear you asking."
   ],
   "execution_count": null,
   "cell_type": "markdown"
  },
  {
   "cell_type": "code",
   "execution_count": 71,
   "outputs": [
    {
     "name": "stdout",
     "output_type": "stream",
     "text": [
      "[346, 347, 7, 75, 6, 37, 46]\n"
     ]
    }
   ],
   "source": [
    "new_nums =[]\n",
    "for num in nums:\n",
    "    new_nums.append(num +1)\n",
    "print(new_nums)"
   ],
   "metadata": {
    "collapsed": false,
    "pycharm": {
     "name": "#%%\n"
    }
   }
  },
  {
   "metadata": {
    "pycharm": {
     "name": "#%% md\n"
    }
   },
   "outputs": [],
   "source": [
    "### 3. A list comprehension\n",
    "\n",
    "Welcome to the wonderful world of list comprehensions! The syntax is as follows: within square brackets, you write the values you wish to create, otherwise known as the output expression, followed by the for clause referencing the original list. So in our case, you open the square bracket, followed by num + 1 for num in nums and then you close the square bracket. This is a list comprehension and creates precisely the desired list!"
   ],
   "execution_count": null,
   "cell_type": "markdown"
  },
  {
   "cell_type": "code",
   "execution_count": 72,
   "outputs": [
    {
     "name": "stdout",
     "output_type": "stream",
     "text": [
      "[346, 347, 7, 75, 6, 37, 46]\n"
     ]
    }
   ],
   "source": [
    "new_nums = [num+1 for num in nums]\n",
    "print(new_nums)"
   ],
   "metadata": {
    "collapsed": false,
    "pycharm": {
     "name": "#%%\n"
    }
   }
  },
  {
   "metadata": {
    "pycharm": {
     "name": "#%% md\n"
    }
   },
   "outputs": [],
   "source": [
    "### 4. For loop and list comprehension syntax\n",
    "\n",
    "See here the relationship between the for loop syntax and the list comprehension syntax. The power of list comprehensions is not merely relegated to the world of lists, however, you can write a list comprehension over any iterable."
   ],
   "execution_count": null,
   "cell_type": "markdown"
  },
  {
   "metadata": {
    "pycharm": {
     "name": "#%% md\n"
    }
   },
   "outputs": [],
   "source": [
    "### 5. List comprehension with range()\n",
    "\n",
    "Here's an example of a list comprehension using a range object. To summarize,"
   ],
   "execution_count": null,
   "cell_type": "markdown"
  },
  {
   "cell_type": "code",
   "execution_count": 73,
   "outputs": [
    {
     "name": "stdout",
     "output_type": "stream",
     "text": [
      "[0, 1, 2, 3, 4, 5, 6, 7, 8, 9, 10]\n"
     ]
    }
   ],
   "source": [
    "result = [num for num in range(11)]\n",
    "print(result)"
   ],
   "metadata": {
    "collapsed": false,
    "pycharm": {
     "name": "#%%\n"
    }
   }
  },
  {
   "metadata": {
    "pycharm": {
     "name": "#%% md\n"
    }
   },
   "outputs": [],
   "source": [
    "### 6. List comprehensions\n",
    "\n",
    "list comprehensions collapse for loops for building lists into a single line and the required components are 1) an iterable, 2) an iterator variable that represents the members of the iterable and 3) an output expression. That's it. You can also use list comprehensions in place of nested for loops."
   ],
   "execution_count": null,
   "cell_type": "markdown"
  },
  {
   "metadata": {
    "pycharm": {
     "name": "#%% md\n"
    }
   },
   "outputs": [],
   "source": [
    "### 7. Nested loops (1)\n",
    "\n",
    "For example, lets say that we wanted to create a list of all pairs of integers where the first integer is between 0 and 1 and the second between 6 and 7. This nested for loop would produce the required result. The question is, can we do the same with a list comprehension? And the answer is, yes, as follows."
   ],
   "execution_count": null,
   "cell_type": "markdown"
  },
  {
   "cell_type": "code",
   "execution_count": 74,
   "outputs": [
    {
     "name": "stdout",
     "output_type": "stream",
     "text": [
      "[(0, 6), (0, 7), (1, 6), (1, 7)]\n"
     ]
    }
   ],
   "source": [
    "pairs_1 =[]\n",
    "\n",
    "for num1 in range(2):\n",
    "    for num2 in range(6,8):\n",
    "        pairs_1.append((num1,num2))\n",
    "\n",
    "print(pairs_1)"
   ],
   "metadata": {
    "collapsed": false,
    "pycharm": {
     "name": "#%%\n"
    }
   }
  },
  {
   "metadata": {
    "pycharm": {
     "name": "#%% md\n"
    }
   },
   "outputs": [],
   "source": [
    "### 8. Nested loops (2)\n",
    "\n",
    "Once again, within the square brackets, place the desired output expression followed by the two required for loop clauses. You may observe that while it keeps to a single line of code, we sacrifice some readability of the code as a tradeoff, so you'll have to consider if you'd like to use list comprehensions in cases such as this. The more often you use this, the more you get used to reading list comprehensions, so readability may not be a problem for you later on. But do remember that others may have to read your code as well!"
   ],
   "execution_count": null,
   "cell_type": "markdown"
  },
  {
   "cell_type": "code",
   "execution_count": 75,
   "outputs": [
    {
     "name": "stdout",
     "output_type": "stream",
     "text": [
      "[(0, 6), (0, 7), (1, 6), (1, 7)]\n"
     ]
    }
   ],
   "source": [
    "pairs_1 = [ (num1,num2) for num1 in range(2) for num2 in range(6,8)]\n",
    "print(pairs_1)"
   ],
   "metadata": {
    "collapsed": false,
    "pycharm": {
     "name": "#%%\n"
    }
   }
  },
  {
   "metadata": {
    "pycharm": {
     "name": "#%% md\n"
    }
   },
   "outputs": [],
   "source": [
    "### 9. Let's practice!\n",
    "\n",
    "Now you've seen a few list comprehensions, it's your turn to write some! -"
   ],
   "execution_count": null,
   "cell_type": "markdown"
  },
  {
   "metadata": {
    "pycharm": {
     "name": "#%% md\n"
    }
   },
   "outputs": [],
   "source": [
    "## Writing list comprehensions\n",
    "\n",
    "<p>You now have all the knowledge necessary to begin writing list comprehensions! Your job in this exercise is to write a list comprehension\n",
    "that produces a list of the squares of the numbers ranging from 0 to 9.</p>"
   ],
   "execution_count": null,
   "cell_type": "markdown"
  },
  {
   "metadata": {
    "pycharm": {
     "name": "#%% md\n"
    }
   },
   "outputs": [],
   "source": [
    "Using the range of numbers from <code>0</code> to <code>9</code> as your iterable and <code>i</code> as your iterator variable, write a list comprehension that produces a list of numbers consisting of the squared values of <code>i</code>."
   ],
   "execution_count": null,
   "cell_type": "markdown"
  },
  {
   "cell_type": "code",
   "execution_count": 76,
   "outputs": [
    {
     "name": "stdout",
     "output_type": "stream",
     "text": [
      "[0, 1, 4, 9, 16, 25, 36, 49, 64, 81]\n"
     ]
    }
   ],
   "source": [
    "square = [i**2 for i in range(0,10)]\n",
    "print(square)"
   ],
   "metadata": {
    "collapsed": false,
    "pycharm": {
     "name": "#%%\n"
    }
   }
  },
  {
   "metadata": {
    "pycharm": {
     "name": "#%% md\n"
    }
   },
   "outputs": [],
   "source": [
    "## Nested list comprehensions\n",
    "\n",
    "<p>Great! At this point, you have a good grasp of the basic syntax of list comprehensions. Let's push your code-writing skills a little further. In this exercise, you will be writing a list comprehension <em>within</em> another list comprehension, or nested list comprehensions. It sounds a little tricky, but you can do it!</p>\n",
    "<p>Let's step aside for a while from strings. One of the ways in which lists can be used are in representing multi-dimension objects such as <strong>matrices</strong>. Matrices can be represented as a list of lists in Python. For example a 5 x 5 matrix with values <code>0</code> to <code>4</code> in each row can be written as:</p>\n",
    "<pre><code>matrix = [[0, 1, 2, 3, 4],\n",
    "          [0, 1, 2, 3, 4],\n",
    "          [0, 1, 2, 3, 4],\n",
    "          [0, 1, 2, 3, 4],\n",
    "          [0, 1, 2, 3, 4]]\n",
    "</code></pre>\n",
    "<p>Your task is to recreate this matrix by using nested listed comprehensions. Recall that you can create one of the rows of the matrix with a single list comprehension. To create the list of lists, you simply have to supply the list comprehension as the <strong>output expression</strong> of the overall list comprehension:</p>\n",
    "<p><code>[</code>[<em>output expression</em>] <code>for</code> <em>iterator variable</em> <code>in</code> <em>iterable</em><code>]</code></p>\n",
    "<p>Note that here, the <strong>output expression</strong> is itself a list comprehension.</p>"
   ],
   "execution_count": null,
   "cell_type": "markdown"
  },
  {
   "metadata": {
    "pycharm": {
     "name": "#%% md\n"
    }
   },
   "outputs": [],
   "source": [
    "In the inner list comprehension - that is, the <strong>output expression</strong> of the nested list comprehension - create a list of values from <code>0</code> to <code>4</code> using <code>range()</code>. Use <code>col</code> as the iterator variable."
   ],
   "execution_count": null,
   "cell_type": "markdown"
  },
  {
   "cell_type": "code",
   "execution_count": 77,
   "outputs": [
    {
     "name": "stdout",
     "output_type": "stream",
     "text": [
      "[[0, 1, 2, 3, 4], [0, 1, 2, 3, 4], [0, 1, 2, 3, 4], [0, 1, 2, 3, 4], [0, 1, 2, 3, 4]]\n"
     ]
    }
   ],
   "source": [
    "matrix = [[col for col in range(5)] for _ in range(5)]\n",
    "print(matrix)"
   ],
   "metadata": {
    "collapsed": false,
    "pycharm": {
     "name": "#%%\n"
    }
   }
  },
  {
   "metadata": {
    "pycharm": {
     "name": "#%% md\n"
    }
   },
   "outputs": [],
   "source": [
    "In the <strong>iterable</strong> part of your nested list comprehension, use <code>range()</code> to count 5 rows - that is, create a list of values from <code>0</code> to <code>4</code>. Use <code>row</code> as the iterator variable; note that you won't be needing this variable to create values in the list of lists."
   ],
   "execution_count": null,
   "cell_type": "markdown"
  },
  {
   "metadata": {
    "pycharm": {
     "name": "#%% md\n"
    }
   },
   "outputs": [],
   "source": [
    "## Advanced comprehensions"
   ],
   "execution_count": null,
   "cell_type": "markdown"
  },
  {
   "metadata": {
    "pycharm": {
     "name": "#%% md\n"
    }
   },
   "outputs": [],
   "source": [
    "### 1. Advanced comprehensions\n",
    "\n",
    "Now that you know the basics of list comprehensions, lets check out some more"
   ],
   "execution_count": null,
   "cell_type": "markdown"
  },
  {
   "metadata": {
    "pycharm": {
     "name": "#%% md\n"
    }
   },
   "outputs": [],
   "source": [
    "### 2. Conditionals in comprehensions\n",
    "\n",
    "advanced comprehension capabilities, such as conditionals! Here we see that we can filter the output of a list comprehension using a conditional on the iterable: in this example, the resulting list is the square of the values in range(10) under the condition that the value itself is even. If you have not seen it before, the percent operation that you see being used in the comprehension is called the modulo operator. We can look at the Python documentation to see how the modulo operator is used and it shows that it produces the remainder from the division of the first argument by the second. Thus an integer modulo two is equal to zero if and only if the integer is even."
   ],
   "execution_count": null,
   "cell_type": "markdown"
  },
  {
   "cell_type": "code",
   "execution_count": 78,
   "outputs": [
    {
     "data": {
      "text/plain": "[0, 4, 16, 36, 64]"
     },
     "execution_count": 78,
     "metadata": {},
     "output_type": "execute_result"
    }
   ],
   "source": [
    "[num**2 for num in range(10) if num % 2 ==0]"
   ],
   "metadata": {
    "collapsed": false,
    "pycharm": {
     "name": "#%%\n"
    }
   }
  },
  {
   "metadata": {
    "pycharm": {
     "name": "#%% md\n"
    }
   },
   "outputs": [],
   "source": [
    "### 3. Conditionals in comprehensions\n",
    "\n",
    "We can also condition the list comprehension on the output expression. Here, for an even integer we output its square. In any other case, signified by the else clause, that is for odd integers, we output 0."
   ],
   "execution_count": null,
   "cell_type": "markdown"
  },
  {
   "cell_type": "code",
   "execution_count": 79,
   "outputs": [
    {
     "data": {
      "text/plain": "[0, 0, 4, 0, 16, 0, 36, 0, 64, 0]"
     },
     "execution_count": 79,
     "metadata": {},
     "output_type": "execute_result"
    }
   ],
   "source": [
    "[num**2 if num%2 == 0 else 0 for num in range(10)]"
   ],
   "metadata": {
    "collapsed": false,
    "pycharm": {
     "name": "#%%\n"
    }
   }
  },
  {
   "metadata": {
    "pycharm": {
     "name": "#%% md\n"
    }
   },
   "outputs": [],
   "source": [
    "### 4. Dict comprehensions\n",
    "\n",
    "Now we can also write dictionary comprehensions to create new dictionaries from iterables. The syntax is almost the same as in list comprehensions and there are 2 differences. One, we use curly braces instead of square brackets. Two, the key and value are separated by a colon in the output expression as we can see here. In this example, we are creating a dictionary with keys positive integers and corresponding values the respective negative integers."
   ],
   "execution_count": null,
   "cell_type": "markdown"
  },
  {
   "cell_type": "code",
   "execution_count": 80,
   "outputs": [
    {
     "name": "stdout",
     "output_type": "stream",
     "text": [
      "{0: 0, 1: -1, 2: -2, 3: -3, 4: -4, 5: -5, 6: -6, 7: -7, 8: -8, 9: -9}\n"
     ]
    }
   ],
   "source": [
    "pos_neg = {num:-num for num in range(10)}\n",
    "print(pos_neg)"
   ],
   "metadata": {
    "collapsed": false,
    "pycharm": {
     "name": "#%%\n"
    }
   }
  },
  {
   "metadata": {
    "pycharm": {
     "name": "#%% md\n"
    }
   },
   "outputs": [],
   "source": [
    "### 5. Let's practice!\n",
    "\n",
    "Now that we have a grasp on advanced list comprehensions and dictionary comprehensions, it's time to practice! -"
   ],
   "execution_count": null,
   "cell_type": "markdown"
  },
  {
   "metadata": {
    "pycharm": {
     "name": "#%% md\n"
    }
   },
   "outputs": [],
   "source": [
    "## Using conditionals in comprehensions (1)\n",
    "\n",
    "<p>You've been using list comprehensions to build lists of values, sometimes using operations to create these values. </p>\n",
    "<p>An interesting mechanism in list comprehensions is that you can also create lists with values that meet only a certain condition. One way of doing this is by using conditionals on iterator variables. In this exercise, you will do exactly that!</p>\n",
    "<p>Recall from the exercise that you can apply a conditional statement to test the iterator variable by adding an <code>if</code> statement in the optional <em>predicate expression</em> part after the <code>for</code> statement in the comprehension: </p>\n",
    "<p><code>[</code> <em>output expression</em> <code>for</code> <em>iterator variable</em> <code>in</code> <em>iterable</em> <code>if</code> <em>predicate expression</em> <code>]</code>. </p>\n",
    "<p>You will use this recipe to write a list comprehension for this exercise. You are given a list of strings <code>fellowship</code> and, using a list comprehension, you will create a list that only includes the members of <code>fellowship</code> that have 7 characters or more.</p>"
   ],
   "execution_count": null,
   "cell_type": "markdown"
  },
  {
   "cell_type": "code",
   "execution_count": 82,
   "outputs": [],
   "source": [
    "fellowship = ['frodo', 'samwise', 'merry', 'aragorn', 'legolas', 'boromir', 'gimli']"
   ],
   "metadata": {
    "collapsed": false,
    "pycharm": {
     "name": "#%%\n"
    }
   }
  },
  {
   "metadata": {
    "pycharm": {
     "name": "#%% md\n"
    }
   },
   "outputs": [],
   "source": [
    "Use <code>member</code> as the iterator variable in the list comprehension. For the conditional, use <code>len()</code> to evaluate the iterator variable. Note that you only want strings with 7 characters or more."
   ],
   "execution_count": null,
   "cell_type": "markdown"
  },
  {
   "cell_type": "code",
   "execution_count": 83,
   "outputs": [
    {
     "name": "stdout",
     "output_type": "stream",
     "text": [
      "['samwise', 'aragorn', 'legolas', 'boromir']\n"
     ]
    }
   ],
   "source": [
    "new_fellowship = [member for member in fellowship if len(member)>6]\n",
    "print(new_fellowship)"
   ],
   "metadata": {
    "collapsed": false,
    "pycharm": {
     "name": "#%%\n"
    }
   }
  },
  {
   "metadata": {
    "pycharm": {
     "name": "#%% md\n"
    }
   },
   "outputs": [],
   "source": [
    "## Using conditionals in comprehensions (2)\n",
    "\n",
    "<p>In the previous exercise, you used an <code>if</code> conditional statement in the <em>predicate expression</em> part of a list comprehension to evaluate an iterator variable. In this exercise, you will use an <code>if-else</code> statement on the <em>output expression</em> of the list.</p>\n",
    "<p>You will work on the same list, <code>fellowship</code> and, using a list comprehension and an <code>if-else</code> conditional statement in the output expression, create a list that keeps members of <code>fellowship</code> with 7 or more characters and replaces others with an empty string. Use <code>member</code> as the iterator variable in the list comprehension.</p>"
   ],
   "execution_count": null,
   "cell_type": "markdown"
  },
  {
   "metadata": {
    "pycharm": {
     "name": "#%% md\n"
    }
   },
   "outputs": [],
   "source": [
    "In the output expression, keep the string as-is <strong>if</strong> the number of characters is &gt;= 7, <strong>else</strong> replace it with an <em>empty string</em> - that is, <code>''</code> or <code>\"\"</code>."
   ],
   "execution_count": null,
   "cell_type": "markdown"
  },
  {
   "cell_type": "code",
   "execution_count": 84,
   "outputs": [
    {
     "name": "stdout",
     "output_type": "stream",
     "text": [
      "['', 'samwise', '', 'aragorn', 'legolas', 'boromir', '']\n"
     ]
    }
   ],
   "source": [
    "new_fellowship = [member if len(member)>6 else \"\" for member in fellowship]\n",
    "print(new_fellowship)"
   ],
   "metadata": {
    "collapsed": false,
    "pycharm": {
     "name": "#%%\n"
    }
   }
  },
  {
   "metadata": {
    "pycharm": {
     "name": "#%% md\n"
    }
   },
   "outputs": [],
   "source": [
    "## Dict comprehensions\n",
    "\n",
    "<p>Comprehensions aren't relegated merely to the world of lists. There are many other objects you can build using comprehensions, such as dictionaries, pervasive objects in Data Science. You will create a dictionary using the comprehension syntax for this exercise. In this case, the comprehension is called a <strong>dict comprehension</strong>.</p>\n",
    "<p>Recall that the main difference between a <em>list comprehension</em> and a <em>dict comprehension</em> is the use of curly braces <code>{}</code> instead of <code>[]</code>. Additionally, members of the dictionary are created using a colon <code>:</code>, as in <code>&lt;key&gt; : &lt;value&gt;</code>.</p>\n",
    "<p>You are given a list of strings <code>fellowship</code> and, using a <strong>dict comprehension</strong>, create a dictionary with the members of the list as the keys and the length of each string as the corresponding values.</p>"
   ],
   "execution_count": null,
   "cell_type": "markdown"
  },
  {
   "cell_type": "code",
   "execution_count": 85,
   "outputs": [
    {
     "name": "stdout",
     "output_type": "stream",
     "text": [
      "{'frodo': 5, 'samwise': 7, 'merry': 5, 'aragorn': 7, 'legolas': 7, 'boromir': 7, 'gimli': 5}\n"
     ]
    }
   ],
   "source": [
    "new_fellowship ={member :len(member) for member in fellowship}\n",
    "print(new_fellowship)"
   ],
   "metadata": {
    "collapsed": false,
    "pycharm": {
     "name": "#%%\n"
    }
   }
  },
  {
   "metadata": {
    "pycharm": {
     "name": "#%% md\n"
    }
   },
   "outputs": [],
   "source": [
    "## Introduction to generator expressions"
   ],
   "execution_count": null,
   "cell_type": "markdown"
  },
  {
   "metadata": {
    "pycharm": {
     "name": "#%% md\n"
    }
   },
   "outputs": [],
   "source": [
    "### 1. Introduction to generator expressions\n",
    "\n",
    "Now that you're getting a bit more comfortable with comprehensions, we're going to check out generators, which are related to comprehensions in way that will soon become evident."
   ],
   "execution_count": null,
   "cell_type": "markdown"
  },
  {
   "metadata": {
    "pycharm": {
     "name": "#%% md\n"
    }
   },
   "outputs": [],
   "source": [
    "### 2. Generator expressions\n",
    "\n",
    "Recall that this list comprehension will create a list of the first 10 even numbers. Now lets replace the square brackets with round parentheses and voila! Something called a generator object has been created."
   ],
   "execution_count": null,
   "cell_type": "markdown"
  },
  {
   "cell_type": "code",
   "execution_count": 86,
   "outputs": [
    {
     "data": {
      "text/plain": "[0, 2, 4, 6, 8, 10, 12, 14, 16, 18]"
     },
     "execution_count": 86,
     "metadata": {},
     "output_type": "execute_result"
    }
   ],
   "source": [
    "[2*num for num in range(10)]"
   ],
   "metadata": {
    "collapsed": false,
    "pycharm": {
     "name": "#%%\n"
    }
   }
  },
  {
   "cell_type": "code",
   "execution_count": 87,
   "outputs": [
    {
     "data": {
      "text/plain": "<generator object <genexpr> at 0x000001F2CBE473C0>"
     },
     "execution_count": 87,
     "metadata": {},
     "output_type": "execute_result"
    }
   ],
   "source": [
    "(2*num for num in range(10))"
   ],
   "metadata": {
    "collapsed": false,
    "pycharm": {
     "name": "#%%\n"
    }
   }
  },
  {
   "metadata": {
    "pycharm": {
     "name": "#%% md\n"
    }
   },
   "outputs": [],
   "source": [
    "### 3. List comprehensions vs. generators\n",
    "\n",
    "Now the question on everybody's lips is, \"What is this generator object?\" Well, a generator is like a list comprehension except it does not store the list in memory: it does not construct the list, but is an object we can iterate over to produce elements of the list as required."
   ],
   "execution_count": null,
   "cell_type": "markdown"
  },
  {
   "metadata": {
    "pycharm": {
     "name": "#%% md\n"
    }
   },
   "outputs": [],
   "source": [
    "### 4. Printing values from generators (1)\n",
    "\n",
    "Here we can see that looping over a generator expression produces the elements of the analogous list. We can also pass a generator to the function list to create the list. Moreover,"
   ],
   "execution_count": null,
   "cell_type": "markdown"
  },
  {
   "cell_type": "code",
   "execution_count": 88,
   "outputs": [
    {
     "name": "stdout",
     "output_type": "stream",
     "text": [
      "0\n",
      "1\n",
      "2\n",
      "3\n",
      "4\n",
      "5\n"
     ]
    }
   ],
   "source": [
    "result = (num for num in range(6))\n",
    "for num in result:\n",
    "    print(num)"
   ],
   "metadata": {
    "collapsed": false,
    "pycharm": {
     "name": "#%%\n"
    }
   }
  },
  {
   "cell_type": "code",
   "execution_count": 90,
   "outputs": [
    {
     "data": {
      "text/plain": "[0, 1, 2, 3, 4, 5]"
     },
     "execution_count": 90,
     "metadata": {},
     "output_type": "execute_result"
    }
   ],
   "source": [
    "result = (num for num in range(6))\n",
    "list(result)"
   ],
   "metadata": {
    "collapsed": false,
    "pycharm": {
     "name": "#%%\n"
    }
   }
  },
  {
   "metadata": {
    "pycharm": {
     "name": "#%% md\n"
    }
   },
   "outputs": [],
   "source": [
    "### 5. Printing values from generators (2)\n",
    "\n",
    "like any other iterator, we can pass a generator to the function next in order to iterate through its elements. For the geeks like me, this is an example of something called lazy evaluation, whereby the evaluation of the expression is delayed until its value is needed. This can help a great deal when working with extremely large sequences as you don't want to store the entire list in memory, which is what comprehensions would do; you want to generate elements of the sequence on the fly."
   ],
   "execution_count": null,
   "cell_type": "markdown"
  },
  {
   "cell_type": "code",
   "execution_count": 1,
   "outputs": [
    {
     "name": "stdout",
     "output_type": "stream",
     "text": [
      "0\n",
      "1\n",
      "2\n",
      "3\n",
      "4\n"
     ]
    }
   ],
   "source": [
    "result = (num for num in range(6))\n",
    "print(next(result))\n",
    "print(next(result))\n",
    "print(next(result))\n",
    "print(next(result))\n",
    "print(next(result))"
   ],
   "metadata": {
    "collapsed": false,
    "pycharm": {
     "name": "#%%\n"
    }
   }
  },
  {
   "metadata": {
    "pycharm": {
     "name": "#%% md\n"
    }
   },
   "outputs": [],
   "source": [
    "### 6. Generators vs. list comprehensions\n",
    "\n",
    "Let's say that we wanted to iterate over a very large sequence of numbers, such as from 0 up to 10 to the power of a million, or at least wanted to do so until another condition was satisfied. Look what happens when I try to build such an iterable list using a comprehension on DataCamp's servers."
   ],
   "execution_count": null,
   "cell_type": "markdown"
  },
  {
   "metadata": {
    "pycharm": {
     "name": "#%% md\n"
    }
   },
   "outputs": [],
   "source": [
    "### 7. Generators vs. list comprehensions\n",
    "\n",
    "My colleagues disconnect me because the list I'm trying to create can't even be stored in memory! Be warned though, don't try this at home, on our servers or yours!"
   ],
   "execution_count": null,
   "cell_type": "markdown"
  },
  {
   "metadata": {
    "pycharm": {
     "name": "#%% md\n"
    }
   },
   "outputs": [],
   "source": [
    "### 8. Generators vs. list comprehensions\n",
    "\n",
    "Check this out, however: I can easily create the analogous generator object because it does not yet create the entire list."
   ],
   "execution_count": null,
   "cell_type": "markdown"
  },
  {
   "cell_type": "code",
   "execution_count": 2,
   "outputs": [
    {
     "data": {
      "text/plain": "<generator object <genexpr> at 0x000001D88E2932E0>"
     },
     "execution_count": 2,
     "metadata": {},
     "output_type": "execute_result"
    }
   ],
   "source": [
    "(num for num in range(10*100000000))"
   ],
   "metadata": {
    "collapsed": false,
    "pycharm": {
     "name": "#%%\n"
    }
   }
  },
  {
   "metadata": {
    "pycharm": {
     "name": "#%% md\n"
    }
   },
   "outputs": [],
   "source": [
    "### 9. Conditionals in generator expressions\n",
    "\n",
    "What's really cool is that anything we can do in a list comprehension such as filtering and applying conditionals, we can also do in a generator expression, such as you see here. You'll get a whole bunch of practice with this in the upcoming exercises."
   ],
   "execution_count": null,
   "cell_type": "markdown"
  },
  {
   "cell_type": "code",
   "execution_count": 4,
   "outputs": [
    {
     "name": "stdout",
     "output_type": "stream",
     "text": [
      "[0, 2, 4, 6, 8]\n"
     ]
    }
   ],
   "source": [
    "even_nums = (num for num in range(10) if num %2 ==0)\n",
    "print(list(even_nums))"
   ],
   "metadata": {
    "collapsed": false,
    "pycharm": {
     "name": "#%%\n"
    }
   }
  },
  {
   "metadata": {
    "pycharm": {
     "name": "#%% md\n"
    }
   },
   "outputs": [],
   "source": [
    "### 10. Generator functions\n",
    "\n",
    "The last thing to discuss before you get coding is the ability to write generator functions. Generator functions are functions that, when called, produce generator objects. Generator functions are written with the syntax of any other user-defined function, however instead of returning values using the keyword return, they yield sequences of values using the keyword yield."
   ],
   "execution_count": null,
   "cell_type": "markdown"
  },
  {
   "metadata": {
    "pycharm": {
     "name": "#%% md\n"
    }
   },
   "outputs": [],
   "source": [
    "### 11. Build a generator function\n",
    "\n",
    "Here I have defined a generator function that, when called with a number n, produces a generator object that generates integers 0 though n. We can see within the function definition that i is initialized to 0 and that the first time the generator object is called, it yields i equal to 0. It then adds one to i and will then yield one on the next iteration and so on. The while loop is true until i equals equals n and then the generator ceases to yield values."
   ],
   "execution_count": null,
   "cell_type": "markdown"
  },
  {
   "cell_type": "code",
   "execution_count": 6,
   "outputs": [],
   "source": [
    "def num_sequence(n):\n",
    "    \"\"\"Generate values from 0 to n.\"\"\"\n",
    "    i = 0\n",
    "    while i <n:\n",
    "        yield i\n",
    "        i = i + 1"
   ],
   "metadata": {
    "collapsed": false,
    "pycharm": {
     "name": "#%%\n"
    }
   }
  },
  {
   "metadata": {
    "pycharm": {
     "name": "#%% md\n"
    }
   },
   "outputs": [],
   "source": [
    "### 12. Use a generator function\n",
    "\n",
    "This generator function can be called as you do any other function. Here I call the generator function with the argument, 5. We see that it produces a generator object and that we can iterate over this generator object with a for loop to print the values it yields. Generator functions are a powerful and customizable way to create generators."
   ],
   "execution_count": null,
   "cell_type": "markdown"
  },
  {
   "cell_type": "code",
   "execution_count": 7,
   "outputs": [
    {
     "name": "stdout",
     "output_type": "stream",
     "text": [
      "<class 'generator'>\n"
     ]
    }
   ],
   "source": [
    "result = num_sequence(5)\n",
    "print(type(result))\n"
   ],
   "metadata": {
    "collapsed": false,
    "pycharm": {
     "name": "#%%\n"
    }
   }
  },
  {
   "cell_type": "code",
   "execution_count": 8,
   "outputs": [
    {
     "name": "stdout",
     "output_type": "stream",
     "text": [
      "0\n",
      "1\n",
      "2\n",
      "3\n",
      "4\n"
     ]
    }
   ],
   "source": [
    "for item in result:\n",
    "    print(item)"
   ],
   "metadata": {
    "collapsed": false,
    "pycharm": {
     "name": "#%%\n"
    }
   }
  },
  {
   "metadata": {
    "pycharm": {
     "name": "#%% md\n"
    }
   },
   "outputs": [],
   "source": [
    "### 13. Let's practice!\n",
    "\n",
    "You'll have much practice with these in the coming exercises. Happy generating! -"
   ],
   "execution_count": null,
   "cell_type": "markdown"
  },
  {
   "metadata": {
    "pycharm": {
     "name": "#%% md\n"
    }
   },
   "outputs": [],
   "source": [
    "## Write your own generator expressions\n",
    "\n",
    "<p>You are familiar with what generators and generator expressions are, as well as its difference from list comprehensions. In this exercise, you will practice building generator expressions on your own. </p>\n",
    "<p>Recall that generator expressions basically have the same syntax as list comprehensions, except that it uses parentheses <code>()</code> instead of brackets <code>[]</code>; this should make things feel familiar! Furthermore, if you have ever iterated over a dictionary with <code>.items()</code>, or used the <code>range()</code> function, for example, you have already encountered and used generators before, without knowing it! When you use these functions, Python creates generators for you behind the scenes.</p>\n",
    "<p>Now, you will start simple by creating a generator object that produces numeric values.</p>"
   ],
   "execution_count": null,
   "cell_type": "markdown"
  },
  {
   "metadata": {
    "pycharm": {
     "name": "#%% md\n"
    }
   },
   "outputs": [],
   "source": [
    "Create a generator object that will produce values from <code>0</code> to <code>30</code>. Assign the result to <code>result</code> and use <code>num</code> as the iterator variable in the generator expression."
   ],
   "execution_count": null,
   "cell_type": "markdown"
  },
  {
   "cell_type": "code",
   "execution_count": 9,
   "outputs": [],
   "source": [
    "result = (num for num in range(31))"
   ],
   "metadata": {
    "collapsed": false,
    "pycharm": {
     "name": "#%%\n"
    }
   }
  },
  {
   "metadata": {
    "pycharm": {
     "name": "#%% md\n"
    }
   },
   "outputs": [],
   "source": [
    "Print the first <code>5</code> values by using <code>next()</code> appropriately in <code>print()</code>."
   ],
   "execution_count": null,
   "cell_type": "markdown"
  },
  {
   "cell_type": "code",
   "execution_count": 10,
   "outputs": [
    {
     "name": "stdout",
     "output_type": "stream",
     "text": [
      "0\n",
      "1\n",
      "2\n",
      "3\n",
      "4\n"
     ]
    }
   ],
   "source": [
    "print(next(result))\n",
    "print(next(result))\n",
    "print(next(result))\n",
    "print(next(result))\n",
    "print(next(result))"
   ],
   "metadata": {
    "collapsed": false,
    "pycharm": {
     "name": "#%%\n"
    }
   }
  },
  {
   "metadata": {
    "pycharm": {
     "name": "#%% md\n"
    }
   },
   "outputs": [],
   "source": [
    "Print the rest of the values by using a <code>for</code> loop to iterate over the generator object."
   ],
   "execution_count": null,
   "cell_type": "markdown"
  },
  {
   "cell_type": "code",
   "execution_count": 11,
   "outputs": [
    {
     "name": "stdout",
     "output_type": "stream",
     "text": [
      "5\n",
      "6\n",
      "7\n",
      "8\n",
      "9\n",
      "10\n",
      "11\n",
      "12\n",
      "13\n",
      "14\n",
      "15\n",
      "16\n",
      "17\n",
      "18\n",
      "19\n",
      "20\n",
      "21\n",
      "22\n",
      "23\n",
      "24\n",
      "25\n",
      "26\n",
      "27\n",
      "28\n",
      "29\n",
      "30\n"
     ]
    }
   ],
   "source": [
    "for value in result:\n",
    "    print(value)"
   ],
   "metadata": {
    "collapsed": false,
    "pycharm": {
     "name": "#%%\n"
    }
   }
  },
  {
   "metadata": {
    "pycharm": {
     "name": "#%% md\n"
    }
   },
   "outputs": [],
   "source": [
    "## Changing the output in generator expressions\n",
    "\n",
    "<p>Great! At this point, you already know how to write a basic generator expression. In this exercise, you will push this idea a little further by adding to the output expression of a generator expression. Because generator expressions and list comprehensions are so alike in syntax, this should be a familiar task for you!</p>\n",
    "<p>You are given a list of strings <code>lannister</code> and, using a generator expression, create a generator object that you will iterate over to print its values.</p>"
   ],
   "execution_count": null,
   "cell_type": "markdown"
  },
  {
   "cell_type": "code",
   "execution_count": 12,
   "outputs": [],
   "source": [
    "lannister = ['cersei', 'jaime', 'tywin', 'tyrion', 'joffrey']"
   ],
   "metadata": {
    "collapsed": false,
    "pycharm": {
     "name": "#%%\n"
    }
   }
  },
  {
   "metadata": {
    "pycharm": {
     "name": "#%% md\n"
    }
   },
   "outputs": [],
   "source": [
    "Write a generator expression that will generate the <strong>lengths</strong> of each string in <code>lannister</code>. Use <code>person</code> as the iterator variable. Assign the result to <code>lengths</code>."
   ],
   "execution_count": null,
   "cell_type": "markdown"
  },
  {
   "cell_type": "code",
   "execution_count": 13,
   "outputs": [],
   "source": [
    "lengths = (len(person) for person in lannister)"
   ],
   "metadata": {
    "collapsed": false,
    "pycharm": {
     "name": "#%%\n"
    }
   }
  },
  {
   "metadata": {
    "pycharm": {
     "name": "#%% md\n"
    }
   },
   "outputs": [],
   "source": [
    "Supply the correct iterable in the <code>for</code> loop for printing the values in the generator object."
   ],
   "execution_count": null,
   "cell_type": "markdown"
  },
  {
   "cell_type": "code",
   "execution_count": 14,
   "outputs": [
    {
     "name": "stdout",
     "output_type": "stream",
     "text": [
      "6\n",
      "5\n",
      "5\n",
      "6\n",
      "7\n"
     ]
    }
   ],
   "source": [
    "for value in lengths:\n",
    "    print(value)"
   ],
   "metadata": {
    "collapsed": false,
    "pycharm": {
     "name": "#%%\n"
    }
   }
  },
  {
   "metadata": {
    "pycharm": {
     "name": "#%% md\n"
    }
   },
   "outputs": [],
   "source": [
    "## Build a generator\n",
    "\n",
    "<p>In previous exercises, you've dealt mainly with writing generator expressions, which uses comprehension syntax. Being able to use comprehension syntax for generator expressions made your work so much easier!</p>\n",
    "<p>Now, recall from the exercise that not only are there generator expressions, there are <em>generator functions</em> as well. <strong>Generator functions</strong> are functions that, like generator expressions, yield a series of values, instead of returning a single value. A generator function is defined as you do a regular function, but whenever it generates a value, it uses the keyword <code>yield</code> instead of <code>return</code>. </p>\n",
    "<p>In this exercise, you will create a generator function with a similar mechanism as the generator expression you defined in the previous exercise: </p>\n",
    "<pre><code>lengths = (len(person) for person in lannister)\n",
    "</code></pre>"
   ],
   "execution_count": null,
   "cell_type": "markdown"
  },
  {
   "metadata": {
    "pycharm": {
     "name": "#%% md\n"
    }
   },
   "outputs": [],
   "source": [
    "Complete the function header for the function <code>get_lengths()</code> that has a single parameter, <code>input_list</code>."
   ],
   "execution_count": null,
   "cell_type": "markdown"
  },
  {
   "metadata": {
    "pycharm": {
     "name": "#%% md\n"
    }
   },
   "outputs": [],
   "source": [
    "In the <code>for</code> loop in the function definition, <code>yield</code> the <em>length</em> of the strings in <code>input_list</code>."
   ],
   "execution_count": null,
   "cell_type": "markdown"
  },
  {
   "metadata": {
    "pycharm": {
     "name": "#%% md\n"
    }
   },
   "outputs": [],
   "source": [
    "Complete the iterable part of the <code>for</code> loop for printing the values generated by the <code>get_lengths()</code> generator function. Supply the call to <code>get_lengths()</code>, passing in the list <code>lannister</code>."
   ],
   "execution_count": null,
   "cell_type": "markdown"
  },
  {
   "cell_type": "code",
   "execution_count": 15,
   "outputs": [
    {
     "name": "stdout",
     "output_type": "stream",
     "text": [
      "6\n",
      "5\n",
      "5\n",
      "6\n",
      "7\n"
     ]
    }
   ],
   "source": [
    "# Define generator function get_lengths\n",
    "def get_lengths(input_list):\n",
    "    \"\"\"Generator function that yields the\n",
    "    length of the strings in input_list.\"\"\"\n",
    "\n",
    "    # Yield the length of a string\n",
    "    for person in input_list:\n",
    "        yield len(person)\n",
    "\n",
    "# Print the values generated by get_lengths()\n",
    "for value in get_lengths(lannister):\n",
    "    print(value)"
   ],
   "metadata": {
    "collapsed": false,
    "pycharm": {
     "name": "#%%\n"
    }
   }
  },
  {
   "metadata": {
    "pycharm": {
     "name": "#%% md\n"
    }
   },
   "outputs": [],
   "source": [
    "## Wrapping up comprehensions and generators."
   ],
   "execution_count": null,
   "cell_type": "markdown"
  },
  {
   "metadata": {
    "pycharm": {
     "name": "#%% md\n"
    }
   },
   "outputs": [],
   "source": [
    "### 1. Wrapping up comprehensions and generators.\n",
    "\n",
    "It's now time to apply your new and hard-won skills to the Data Science domain. In the following exercises, you'll use list comprehensions to wrangle important information from the time-stamped data of real tweets. I want to remind you of the structure and syntax of a list comprehension:"
   ],
   "execution_count": null,
   "cell_type": "markdown"
  },
  {
   "metadata": {
    "pycharm": {
     "name": "#%% md\n"
    }
   },
   "outputs": [],
   "source": [
    "### 2. Re-cap: list comprehensions\n",
    "\n",
    "in its most basic form, it is enclosed in square brackets and is structured as output expression for iterator variable in iterable. More advanced comprehensions can include conditionals on the output expression and/or conditionals on the iterable."
   ],
   "execution_count": null,
   "cell_type": "markdown"
  },
  {
   "metadata": {
    "pycharm": {
     "name": "#%% md\n"
    }
   },
   "outputs": [],
   "source": [
    "### 3. Let's practice!\n",
    "\n",
    "After you complete the upcoming exercises, I'll see you in the next Chapter. Therein, we will not teach any new material. We'll be consolidating everything that we've learned so far in these two Python Data Science Toolbox courses using an extended case study. This chapter will be dedicated to using the skills you're developing to extract meaningful information from a real-world dataset, the World Bank World Development Indicators dataset. Happy hacking, and see you there!"
   ],
   "execution_count": null,
   "cell_type": "markdown"
  },
  {
   "metadata": {
    "pycharm": {
     "name": "#%% md\n"
    }
   },
   "outputs": [],
   "source": [
    "## List comprehensions for time-stamped data\n",
    "\n",
    "<p>You will now make use of what you've learned from this chapter to solve a simple data extraction problem. You will also be introduced to a data structure, the pandas <strong>Series</strong>, in this exercise. We won't elaborate on it much here, but what you should know is that it is a data structure that you will be working with a lot of times when analyzing data from pandas DataFrames. You can think of DataFrame columns as single-dimension arrays called Series. </p>\n",
    "<p>In this exercise, you will be using a list comprehension to extract the time from time-stamped Twitter data. The pandas package has been imported as <code>pd</code> and the file <code>'tweets.csv'</code> has been imported as the <code>df</code> DataFrame for your use.</p>"
   ],
   "execution_count": null,
   "cell_type": "markdown"
  },
  {
   "cell_type": "code",
   "execution_count": 18,
   "outputs": [
    {
     "data": {
      "text/plain": "   contributors  coordinates                      created_at  \\\n0           NaN          NaN  Tue Mar 29 23:40:17 +0000 2016   \n1           NaN          NaN  Tue Mar 29 23:40:17 +0000 2016   \n2           NaN          NaN  Tue Mar 29 23:40:17 +0000 2016   \n3           NaN          NaN  Tue Mar 29 23:40:17 +0000 2016   \n4           NaN          NaN  Tue Mar 29 23:40:17 +0000 2016   \n\n                                            entities  \\\n0  {'hashtags': [], 'user_mentions': [{'screen_na...   \n1  {'hashtags': [{'text': 'cruzsexscandal', 'indi...   \n2  {'hashtags': [], 'user_mentions': [], 'symbols...   \n3  {'hashtags': [], 'user_mentions': [], 'symbols...   \n4  {'hashtags': [], 'user_mentions': [{'screen_na...   \n\n                                   extended_entities  favorite_count  \\\n0  {'media': [{'sizes': {'large': {'w': 1024, 'h'...               0   \n1  {'media': [{'sizes': {'large': {'w': 500, 'h':...               0   \n2                                                NaN               0   \n3                                                NaN               0   \n4                                                NaN               0   \n\n   favorited filter_level  geo                  id  ...  quoted_status_id  \\\n0      False          low  NaN  714960401759387648  ...               NaN   \n1      False          low  NaN  714960401977319424  ...               NaN   \n2      False          low  NaN  714960402426236928  ...               NaN   \n3      False          low  NaN  714960402367561730  ...      7.149239e+17   \n4      False          low  NaN  714960402149416960  ...               NaN   \n\n  quoted_status_id_str  retweet_count  retweeted  \\\n0                  NaN              0      False   \n1                  NaN              0      False   \n2                  NaN              0      False   \n3         7.149239e+17              0      False   \n4                  NaN              0      False   \n\n                                    retweeted_status  \\\n0  {'retweeted': False, 'text': \".@krollbondratin...   \n1  {'retweeted': False, 'text': '@dmartosko Cruz ...   \n2                                                NaN   \n3                                                NaN   \n4  {'retweeted': False, 'text': 'The anti-America...   \n\n                                              source  \\\n0  <a href=\"http://twitter.com\" rel=\"nofollow\">Tw...   \n1  <a href=\"http://twitter.com\" rel=\"nofollow\">Tw...   \n2  <a href=\"http://www.facebook.com/twitter\" rel=...   \n3  <a href=\"http://twitter.com/download/android\" ...   \n4  <a href=\"http://twitter.com/download/iphone\" r...   \n\n                                                text   timestamp_ms truncated  \\\n0  RT @bpolitics: .@krollbondrating's Christopher...  1459294817758     False   \n1  RT @HeidiAlpine: @dmartosko Cruz video found.....  1459294817810     False   \n2  Njihuni me Zonjën Trump !!! | Ekskluzive https...  1459294817917     False   \n3  Your an idiot she shouldn't have tried to grab...  1459294817903     False   \n4  RT @AlanLohner: The anti-American D.C. elites ...  1459294817851     False   \n\n                                                user  \n0  {'utc_offset': 3600, 'profile_image_url_https'...  \n1  {'utc_offset': None, 'profile_image_url_https'...  \n2  {'utc_offset': 7200, 'profile_image_url_https'...  \n3  {'utc_offset': None, 'profile_image_url_https'...  \n4  {'utc_offset': -18000, 'profile_image_url_http...  \n\n[5 rows x 31 columns]",
      "text/html": "<div>\n<style scoped>\n    .dataframe tbody tr th:only-of-type {\n        vertical-align: middle;\n    }\n\n    .dataframe tbody tr th {\n        vertical-align: top;\n    }\n\n    .dataframe thead th {\n        text-align: right;\n    }\n</style>\n<table border=\"1\" class=\"dataframe\">\n  <thead>\n    <tr style=\"text-align: right;\">\n      <th></th>\n      <th>contributors</th>\n      <th>coordinates</th>\n      <th>created_at</th>\n      <th>entities</th>\n      <th>extended_entities</th>\n      <th>favorite_count</th>\n      <th>favorited</th>\n      <th>filter_level</th>\n      <th>geo</th>\n      <th>id</th>\n      <th>...</th>\n      <th>quoted_status_id</th>\n      <th>quoted_status_id_str</th>\n      <th>retweet_count</th>\n      <th>retweeted</th>\n      <th>retweeted_status</th>\n      <th>source</th>\n      <th>text</th>\n      <th>timestamp_ms</th>\n      <th>truncated</th>\n      <th>user</th>\n    </tr>\n  </thead>\n  <tbody>\n    <tr>\n      <th>0</th>\n      <td>NaN</td>\n      <td>NaN</td>\n      <td>Tue Mar 29 23:40:17 +0000 2016</td>\n      <td>{'hashtags': [], 'user_mentions': [{'screen_na...</td>\n      <td>{'media': [{'sizes': {'large': {'w': 1024, 'h'...</td>\n      <td>0</td>\n      <td>False</td>\n      <td>low</td>\n      <td>NaN</td>\n      <td>714960401759387648</td>\n      <td>...</td>\n      <td>NaN</td>\n      <td>NaN</td>\n      <td>0</td>\n      <td>False</td>\n      <td>{'retweeted': False, 'text': \".@krollbondratin...</td>\n      <td>&lt;a href=\"http://twitter.com\" rel=\"nofollow\"&gt;Tw...</td>\n      <td>RT @bpolitics: .@krollbondrating's Christopher...</td>\n      <td>1459294817758</td>\n      <td>False</td>\n      <td>{'utc_offset': 3600, 'profile_image_url_https'...</td>\n    </tr>\n    <tr>\n      <th>1</th>\n      <td>NaN</td>\n      <td>NaN</td>\n      <td>Tue Mar 29 23:40:17 +0000 2016</td>\n      <td>{'hashtags': [{'text': 'cruzsexscandal', 'indi...</td>\n      <td>{'media': [{'sizes': {'large': {'w': 500, 'h':...</td>\n      <td>0</td>\n      <td>False</td>\n      <td>low</td>\n      <td>NaN</td>\n      <td>714960401977319424</td>\n      <td>...</td>\n      <td>NaN</td>\n      <td>NaN</td>\n      <td>0</td>\n      <td>False</td>\n      <td>{'retweeted': False, 'text': '@dmartosko Cruz ...</td>\n      <td>&lt;a href=\"http://twitter.com\" rel=\"nofollow\"&gt;Tw...</td>\n      <td>RT @HeidiAlpine: @dmartosko Cruz video found.....</td>\n      <td>1459294817810</td>\n      <td>False</td>\n      <td>{'utc_offset': None, 'profile_image_url_https'...</td>\n    </tr>\n    <tr>\n      <th>2</th>\n      <td>NaN</td>\n      <td>NaN</td>\n      <td>Tue Mar 29 23:40:17 +0000 2016</td>\n      <td>{'hashtags': [], 'user_mentions': [], 'symbols...</td>\n      <td>NaN</td>\n      <td>0</td>\n      <td>False</td>\n      <td>low</td>\n      <td>NaN</td>\n      <td>714960402426236928</td>\n      <td>...</td>\n      <td>NaN</td>\n      <td>NaN</td>\n      <td>0</td>\n      <td>False</td>\n      <td>NaN</td>\n      <td>&lt;a href=\"http://www.facebook.com/twitter\" rel=...</td>\n      <td>Njihuni me Zonjën Trump !!! | Ekskluzive https...</td>\n      <td>1459294817917</td>\n      <td>False</td>\n      <td>{'utc_offset': 7200, 'profile_image_url_https'...</td>\n    </tr>\n    <tr>\n      <th>3</th>\n      <td>NaN</td>\n      <td>NaN</td>\n      <td>Tue Mar 29 23:40:17 +0000 2016</td>\n      <td>{'hashtags': [], 'user_mentions': [], 'symbols...</td>\n      <td>NaN</td>\n      <td>0</td>\n      <td>False</td>\n      <td>low</td>\n      <td>NaN</td>\n      <td>714960402367561730</td>\n      <td>...</td>\n      <td>7.149239e+17</td>\n      <td>7.149239e+17</td>\n      <td>0</td>\n      <td>False</td>\n      <td>NaN</td>\n      <td>&lt;a href=\"http://twitter.com/download/android\" ...</td>\n      <td>Your an idiot she shouldn't have tried to grab...</td>\n      <td>1459294817903</td>\n      <td>False</td>\n      <td>{'utc_offset': None, 'profile_image_url_https'...</td>\n    </tr>\n    <tr>\n      <th>4</th>\n      <td>NaN</td>\n      <td>NaN</td>\n      <td>Tue Mar 29 23:40:17 +0000 2016</td>\n      <td>{'hashtags': [], 'user_mentions': [{'screen_na...</td>\n      <td>NaN</td>\n      <td>0</td>\n      <td>False</td>\n      <td>low</td>\n      <td>NaN</td>\n      <td>714960402149416960</td>\n      <td>...</td>\n      <td>NaN</td>\n      <td>NaN</td>\n      <td>0</td>\n      <td>False</td>\n      <td>{'retweeted': False, 'text': 'The anti-America...</td>\n      <td>&lt;a href=\"http://twitter.com/download/iphone\" r...</td>\n      <td>RT @AlanLohner: The anti-American D.C. elites ...</td>\n      <td>1459294817851</td>\n      <td>False</td>\n      <td>{'utc_offset': -18000, 'profile_image_url_http...</td>\n    </tr>\n  </tbody>\n</table>\n<p>5 rows × 31 columns</p>\n</div>"
     },
     "execution_count": 18,
     "metadata": {},
     "output_type": "execute_result"
    }
   ],
   "source": [
    "import pandas as pd\n",
    "df = pd.read_csv(\"data/tweets.csv\")\n",
    "df.head()"
   ],
   "metadata": {
    "collapsed": false,
    "pycharm": {
     "name": "#%%\n"
    }
   }
  },
  {
   "metadata": {
    "pycharm": {
     "name": "#%% md\n"
    }
   },
   "outputs": [],
   "source": [
    "Extract the column <code>'created_at'</code> from <code>df</code> and assign the result to <code>tweet_time</code>. Fun fact: the extracted column in <code>tweet_time</code> here is a Series data structure!"
   ],
   "execution_count": null,
   "cell_type": "markdown"
  },
  {
   "cell_type": "code",
   "execution_count": 25,
   "outputs": [
    {
     "name": "stdout",
     "output_type": "stream",
     "text": [
      "<class 'pandas.core.series.Series'>\n"
     ]
    }
   ],
   "source": [
    "tweet_time = df[\"created_at\"]\n",
    "print(type(tweet_time))\n"
   ],
   "metadata": {
    "collapsed": false,
    "pycharm": {
     "name": "#%%\n"
    }
   }
  },
  {
   "metadata": {
    "pycharm": {
     "name": "#%% md\n"
    }
   },
   "outputs": [],
   "source": [
    "Create a list comprehension that extracts the time from each row in <code>tweet_time</code>. Each row is a string that represents a timestamp, and you will access the <em>12th to 19th characters</em> in the string to extract the time. Use <code>entry</code> as the <em>iterator variable</em> and assign the result to <code>tweet_clock_time</code>. Remember that Python uses 0-based indexing!"
   ],
   "execution_count": null,
   "cell_type": "markdown"
  },
  {
   "cell_type": "code",
   "execution_count": 31,
   "outputs": [
    {
     "data": {
      "text/plain": "'23:40:17'"
     },
     "execution_count": 31,
     "metadata": {},
     "output_type": "execute_result"
    }
   ],
   "source": [
    "\"Tue Mar 29 23:40:17 +0000 2016\"[11:19]"
   ],
   "metadata": {
    "collapsed": false,
    "pycharm": {
     "name": "#%%\n"
    }
   }
  },
  {
   "cell_type": "code",
   "execution_count": 32,
   "outputs": [
    {
     "data": {
      "text/plain": "['23:40:17',\n '23:40:17',\n '23:40:17',\n '23:40:17',\n '23:40:17',\n '23:40:17',\n '23:40:18',\n '23:40:17',\n '23:40:18',\n '23:40:18',\n '23:40:18',\n '23:40:17',\n '23:40:18',\n '23:40:18',\n '23:40:17',\n '23:40:18',\n '23:40:18',\n '23:40:17',\n '23:40:18',\n '23:40:17',\n '23:40:18',\n '23:40:18',\n '23:40:18',\n '23:40:18',\n '23:40:17',\n '23:40:18',\n '23:40:18',\n '23:40:17',\n '23:40:18',\n '23:40:18',\n '23:40:18',\n '23:40:18',\n '23:40:18',\n '23:40:18',\n '23:40:18',\n '23:40:18',\n '23:40:18',\n '23:40:18',\n '23:40:18',\n '23:40:18',\n '23:40:18',\n '23:40:18',\n '23:40:18',\n '23:40:18',\n '23:40:18',\n '23:40:18',\n '23:40:18',\n '23:40:18',\n '23:40:18',\n '23:40:18',\n '23:40:18',\n '23:40:18',\n '23:40:18',\n '23:40:18',\n '23:40:18',\n '23:40:18',\n '23:40:18',\n '23:40:18',\n '23:40:18',\n '23:40:18',\n '23:40:19',\n '23:40:18',\n '23:40:18',\n '23:40:18',\n '23:40:19',\n '23:40:19',\n '23:40:19',\n '23:40:18',\n '23:40:19',\n '23:40:19',\n '23:40:19',\n '23:40:18',\n '23:40:19',\n '23:40:19',\n '23:40:19',\n '23:40:18',\n '23:40:19',\n '23:40:19',\n '23:40:19',\n '23:40:19',\n '23:40:19',\n '23:40:19',\n '23:40:19',\n '23:40:19',\n '23:40:19',\n '23:40:19',\n '23:40:19',\n '23:40:19',\n '23:40:19',\n '23:40:19',\n '23:40:19',\n '23:40:19',\n '23:40:19',\n '23:40:19',\n '23:40:19',\n '23:40:19',\n '23:40:19',\n '23:40:19',\n '23:40:19',\n '23:40:19']"
     },
     "execution_count": 32,
     "metadata": {},
     "output_type": "execute_result"
    }
   ],
   "source": [
    "tweet_clock_time = [entry[11:19] for entry in tweet_time]\n",
    "tweet_clock_time"
   ],
   "metadata": {
    "collapsed": false,
    "pycharm": {
     "name": "#%%\n"
    }
   }
  },
  {
   "metadata": {
    "pycharm": {
     "name": "#%% md\n"
    }
   },
   "outputs": [],
   "source": [
    "## Conditional list comprehensions for time-stamped data\n",
    "\n",
    "<p>Great, you've successfully extracted the data of interest, the time, from a pandas DataFrame! Let's tweak your work further by adding a conditional that further specifies which entries to select.</p>\n",
    "<p>In this exercise, you will be using a list comprehension to extract the time from time-stamped Twitter data. You will add a conditional expression to the list comprehension so that you only select the times in which <code>entry[17:19]</code> is equal to <code>'19'</code>. The pandas package has been imported as <code>pd</code> and the file <code>'tweets.csv'</code> has been imported as the <code>df</code> DataFrame for your use.</p>"
   ],
   "execution_count": null,
   "cell_type": "markdown"
  },
  {
   "metadata": {
    "pycharm": {
     "name": "#%% md\n"
    }
   },
   "outputs": [],
   "source": [
    "Extract the column <code>'created_at'</code> from <code>df</code> and assign the result to <code>tweet_time</code>."
   ],
   "execution_count": null,
   "cell_type": "markdown"
  },
  {
   "cell_type": "code",
   "execution_count": 33,
   "outputs": [],
   "source": [
    "tweet_time = df[\"created_at\"]"
   ],
   "metadata": {
    "collapsed": false,
    "pycharm": {
     "name": "#%%\n"
    }
   }
  },
  {
   "metadata": {
    "pycharm": {
     "name": "#%% md\n"
    }
   },
   "outputs": [],
   "source": [
    "Create a list comprehension that extracts the time from each row in <code>tweet_time</code>. Each row is a string that represents a timestamp, and you will access the <em>12th to 19th characters</em> in the string to extract the time. Use <code>entry</code> as the <em>iterator variable</em> and assign the result to <code>tweet_clock_time</code>. Additionally, add a conditional expression that checks whether <code>entry[17:19]</code> is equal to <code>'19'</code>."
   ],
   "execution_count": null,
   "cell_type": "markdown"
  },
  {
   "cell_type": "code",
   "execution_count": 34,
   "outputs": [
    {
     "name": "stdout",
     "output_type": "stream",
     "text": [
      "['23:40:19', '23:40:19', '23:40:19', '23:40:19', '23:40:19', '23:40:19', '23:40:19', '23:40:19', '23:40:19', '23:40:19', '23:40:19', '23:40:19', '23:40:19', '23:40:19', '23:40:19', '23:40:19', '23:40:19', '23:40:19', '23:40:19', '23:40:19', '23:40:19', '23:40:19', '23:40:19', '23:40:19', '23:40:19', '23:40:19', '23:40:19', '23:40:19', '23:40:19', '23:40:19', '23:40:19', '23:40:19', '23:40:19', '23:40:19']\n"
     ]
    }
   ],
   "source": [
    "tweet_clock_time = [entry[11:19] for entry in tweet_time if  entry[17:19] == \"19\"]\n",
    "print(tweet_clock_time)"
   ],
   "metadata": {
    "collapsed": false,
    "pycharm": {
     "name": "#%%\n"
    }
   }
  },
  {
   "metadata": {
    "pycharm": {
     "name": "#%% md\n"
    }
   },
   "outputs": [],
   "source": [
    "# Bringing it all together!"
   ],
   "execution_count": null,
   "cell_type": "markdown"
  },
  {
   "metadata": {
    "pycharm": {
     "name": "#%% md\n"
    }
   },
   "outputs": [],
   "source": [
    "## Welcome to the case study!"
   ],
   "execution_count": null,
   "cell_type": "markdown"
  },
  {
   "metadata": {
    "pycharm": {
     "name": "#%% md\n"
    }
   },
   "outputs": [],
   "source": [
    "### 1. Welcome to the case study!\n",
    "\n",
    "Ok so in this course, along with its prequel, you have learnt a formidable number of serious Pythonista Data Science chops. It's now time to flex those muscles and see what metal you're made of! In this chapter, you'll use your recently-gained skills of writing user-defined functions, iterators, list comprehensions and generators to wrangle and extract meaningful information from a real-world dataset,"
   ],
   "execution_count": null,
   "cell_type": "markdown"
  },
  {
   "metadata": {
    "pycharm": {
     "name": "#%% md\n"
    }
   },
   "outputs": [],
   "source": [
    "### 2. World bank data\n",
    "\n",
    "the World Bank World Development Indicators dataset. This dataset contains data on 217 world economies for over half a century, from 1960 up until 2015. The data contains hundreds of indicators from population, electricity consumption and CO2 emissions to literacy rates, unemployment and mortality rates. In the following few exercises, you'll use dictionaries, zipping, user-defined functions, and list comprehensions to wrangle some of this wonderfully rich dataset. Let's quickly recap these tools:"
   ],
   "execution_count": null,
   "cell_type": "markdown"
  },
  {
   "metadata": {
    "pycharm": {
     "name": "#%% md\n"
    }
   },
   "outputs": [],
   "source": [
    "### 3. Using zip()\n",
    "\n",
    "The zip function accepts an arbitrary number of iterables and returns an iterator of tuples. We bring back our two lists from before, one of the avengers, the other of their names. Passing these to the zip function creates a zip object which is an iterator of tuples. We can turn them into a list and then print this list."
   ],
   "execution_count": null,
   "cell_type": "markdown"
  },
  {
   "metadata": {
    "pycharm": {
     "name": "#%% md\n"
    }
   },
   "outputs": [],
   "source": [
    "### 4. Defining a function\n",
    "\n",
    "For writing functions, function headers begin with the keyword def, followed by the function name, arguments inside parentheses and a colon. We then have the function body, with the docstrings enclosed in triple quotation marks; the rest of the function body performs the computation that the function does and closes with the keyword return, followed by the value or values to return."
   ],
   "execution_count": null,
   "cell_type": "markdown"
  },
  {
   "metadata": {
    "pycharm": {
     "name": "#%% md\n"
    }
   },
   "outputs": [],
   "source": [
    "### 5. Re-cap: list comprehensions\n",
    "\n",
    "Comprehensions, in their most basic forms, are enclosed in square brackets and are structured as output expression for iterator variable in iterable. More advanced comprehensions can include conditionals on the output expression and/or conditionals on the iterable."
   ],
   "execution_count": null,
   "cell_type": "markdown"
  },
  {
   "metadata": {
    "pycharm": {
     "name": "#%% md\n"
    }
   },
   "outputs": [],
   "source": [
    "### 6. Let's practice!\n",
    "\n",
    "Now that we've recapped all the tools that you'll need to hack away at this dataset in the next few exercises, let's get hacking! -"
   ],
   "execution_count": null,
   "cell_type": "markdown"
  },
  {
   "metadata": {
    "pycharm": {
     "name": "#%% md\n"
    }
   },
   "outputs": [],
   "source": [
    "## Dictionaries for data science\n",
    "\n",
    "<p>For this exercise, you'll use what you've learned about the <code>zip()</code> function and combine two lists into a dictionary. </p>\n",
    "<p>These lists are actually extracted from a <a href=\"https://datacatalog.worldbank.org/search/dataset/0037712\" target=\"_blank\" rel=\"noopener noreferrer\">bigger dataset file of world development indicators from the World Bank.</a> For pedagogical purposes, we have pre-processed this dataset into the lists that you'll be working with.  </p>\n",
    "<p>The first list <code>feature_names</code> contains header names of the dataset and the second list <code>row_vals</code> contains actual values of a row from the dataset, corresponding to each of the header names.</p>"
   ],
   "execution_count": null,
   "cell_type": "markdown"
  },
  {
   "cell_type": "code",
   "execution_count": 35,
   "outputs": [],
   "source": [
    "feature_names = ['CountryName',\n",
    "                 'CountryCode',\n",
    "                 'IndicatorName',\n",
    "                 'IndicatorCode',\n",
    "                 'Year',\n",
    "                 'Value']\n",
    "row_vals = ['Arab World',\n",
    "            'ARB',\n",
    "            'Adolescent fertility rate (births per 1,000 women ages 15-19)',\n",
    "            'SP.ADO.TFRT',\n",
    "            '1960',\n",
    "            '133.56090740552298']\n"
   ],
   "metadata": {
    "collapsed": false,
    "pycharm": {
     "name": "#%%\n"
    }
   }
  },
  {
   "cell_type": "markdown",
   "source": [
    "Create a zip object by calling <code>zip()</code> and passing to it <code>feature_names</code> and <code>row_vals</code>. Assign the result to <code>zipped_lists</code>."
   ],
   "metadata": {
    "collapsed": false,
    "pycharm": {
     "name": "#%% md\n"
    }
   }
  },
  {
   "cell_type": "code",
   "execution_count": 41,
   "outputs": [],
   "source": [
    "zipped_lists = zip(feature_names,row_vals)"
   ],
   "metadata": {
    "collapsed": false,
    "pycharm": {
     "name": "#%%\n"
    }
   }
  },
  {
   "metadata": {
    "pycharm": {
     "name": "#%% md\n"
    }
   },
   "outputs": [],
   "source": [
    "Create a dictionary from the <code>zipped_lists</code> zip object by calling <code>dict()</code> with <code>zipped_lists</code>. Assign the resulting dictionary to <code>rs_dict</code>."
   ],
   "execution_count": null,
   "cell_type": "markdown"
  },
  {
   "cell_type": "code",
   "execution_count": 42,
   "outputs": [
    {
     "name": "stdout",
     "output_type": "stream",
     "text": [
      "{'CountryName': 'Arab World', 'CountryCode': 'ARB', 'IndicatorName': 'Adolescent fertility rate (births per 1,000 women ages 15-19)', 'IndicatorCode': 'SP.ADO.TFRT', 'Year': '1960', 'Value': '133.56090740552298'}\n"
     ]
    }
   ],
   "source": [
    "rs_dict = dict(zipped_lists)\n",
    "print(rs_dict)"
   ],
   "metadata": {
    "collapsed": false,
    "pycharm": {
     "name": "#%%\n"
    }
   }
  },
  {
   "metadata": {
    "pycharm": {
     "name": "#%% md\n"
    }
   },
   "outputs": [],
   "source": [
    "## Writing a function to help you\n",
    "\n",
    "<p>Suppose you needed to repeat the same process done in the previous exercise to many, many rows of data. Rewriting your code again and again could become very tedious, repetitive, and unmaintainable.</p>\n",
    "<p>In this exercise, you will create a function to house the code you wrote earlier to make things easier and much more concise. Why? This way, you only need to call the function and supply the appropriate lists to create your dictionaries! Again, the lists <code>feature_names</code> and <code>row_vals</code> are preloaded and these contain the header names of the dataset and actual values of a row from the dataset, respectively.</p>"
   ],
   "execution_count": null,
   "cell_type": "markdown"
  },
  {
   "metadata": {
    "pycharm": {
     "name": "#%% md\n"
    }
   },
   "outputs": [],
   "source": [
    "Define the function <code>lists2dict()</code> with two parameters: first is <code>list1</code> and second is <code>list2</code>."
   ],
   "execution_count": null,
   "cell_type": "markdown"
  },
  {
   "metadata": {
    "pycharm": {
     "name": "#%% md\n"
    }
   },
   "outputs": [],
   "source": [
    "Return the resulting dictionary <code>rs_dict</code> in <code>lists2dict()</code>."
   ],
   "execution_count": null,
   "cell_type": "markdown"
  },
  {
   "metadata": {
    "pycharm": {
     "name": "#%% md\n"
    }
   },
   "outputs": [],
   "source": [
    "Call the <code>lists2dict()</code> function with the arguments <code>feature_names</code> and <code>row_vals</code>. Assign the result of the function call to <code>rs_fxn</code>."
   ],
   "execution_count": null,
   "cell_type": "markdown"
  },
  {
   "cell_type": "code",
   "execution_count": 43,
   "outputs": [],
   "source": [
    "def list2dict(list1,list2):\n",
    "    zipped_lists = zip(list1,list2)\n",
    "    rs_dict = dict(zipped_lists)\n",
    "    return  rs_dict\n"
   ],
   "metadata": {
    "collapsed": false,
    "pycharm": {
     "name": "#%%\n"
    }
   }
  },
  {
   "cell_type": "code",
   "execution_count": 44,
   "outputs": [
    {
     "name": "stdout",
     "output_type": "stream",
     "text": [
      "{'CountryName': 'Arab World', 'CountryCode': 'ARB', 'IndicatorName': 'Adolescent fertility rate (births per 1,000 women ages 15-19)', 'IndicatorCode': 'SP.ADO.TFRT', 'Year': '1960', 'Value': '133.56090740552298'}\n"
     ]
    }
   ],
   "source": [
    "rs_fxn = list2dict(feature_names,row_vals)\n",
    "print(rs_fxn)"
   ],
   "metadata": {
    "collapsed": false,
    "pycharm": {
     "name": "#%%\n"
    }
   }
  },
  {
   "cell_type": "markdown",
   "source": [
    "## Using a list comprehension\n",
    "\n",
    "<p>This time, you're going to use the <code>lists2dict()</code> function you defined in the last exercise to turn a bunch of lists into a list of dictionaries with the help of a list comprehension.</p>\n",
    "<p>The <code>lists2dict()</code> function has already been preloaded, together with a couple of lists, <code>feature_names</code> and <code>row_lists</code>. <code>feature_names</code> contains the header names of the World Bank dataset and <code>row_lists</code> is a list of lists, where each sublist is a list of actual values of a row from the dataset.</p>\n",
    "<p>Your goal is to use a list comprehension to generate a list of dicts, where the <em>keys</em> are the header names and the <em>values</em> are the row entries.</p>"
   ],
   "metadata": {
    "collapsed": false,
    "pycharm": {
     "name": "#%% md\n"
    }
   }
  },
  {
   "cell_type": "code",
   "execution_count": 53,
   "outputs": [],
   "source": [
    "import pickle\n",
    "with open(\"data/row\" ,\"rb\") as f:\n",
    "    row_lists = pickle.load(f)"
   ],
   "metadata": {
    "collapsed": false,
    "pycharm": {
     "name": "#%%\n"
    }
   }
  },
  {
   "cell_type": "markdown",
   "source": [
    "Inspect the contents of <code>row_lists</code> by printing the first two lists in <code>row_lists</code>."
   ],
   "metadata": {
    "collapsed": false,
    "pycharm": {
     "name": "#%% md\n"
    }
   }
  },
  {
   "cell_type": "markdown",
   "source": [
    "Create a list comprehension that generates a dictionary using <code>lists2dict()</code> for each sublist in <code>row_lists</code>. The keys are from the <code>feature_names</code> list and the values are the row entries in <code>row_lists</code>. Use <code>sublist</code> as your iterator variable and assign the resulting list of dictionaries to <code>list_of_dicts</code>."
   ],
   "metadata": {
    "collapsed": false,
    "pycharm": {
     "name": "#%% md\n"
    }
   }
  },
  {
   "cell_type": "markdown",
   "source": [
    "Look at the first two dictionaries in <code>list_of_dicts</code> by printing them out."
   ],
   "metadata": {
    "collapsed": false,
    "pycharm": {
     "name": "#%% md\n"
    }
   }
  },
  {
   "cell_type": "code",
   "execution_count": 56,
   "outputs": [
    {
     "name": "stdout",
     "output_type": "stream",
     "text": [
      "['Arab World', 'ARB', 'Adolescent fertility rate (births per 1,000 women ages 15-19)', 'SP.ADO.TFRT', '1960', '133.56090740552298']\n",
      "['Arab World', 'ARB', 'Age dependency ratio (% of working-age population)', 'SP.POP.DPND', '1960', '87.7976011532547']\n",
      "{'CountryName': 'Arab World', 'CountryCode': 'ARB', 'IndicatorName': 'Adolescent fertility rate (births per 1,000 women ages 15-19)', 'IndicatorCode': 'SP.ADO.TFRT', 'Year': '1960', 'Value': '133.56090740552298'}\n"
     ]
    }
   ],
   "source": [
    "# Print the first two lists in row_lists\n",
    "print(row_lists[0])\n",
    "print(row_lists[1])\n",
    "\n",
    "# Turn list of lists into list of dicts: list_of_dicts\n",
    "list_of_dicts = [list2dict(feature_names,sublist) for sublist in row_lists]\n",
    "\n",
    "# Print the first two dictionaries in list_of_dicts\n",
    "print(list_of_dicts[0])\n"
   ],
   "metadata": {
    "collapsed": false,
    "pycharm": {
     "name": "#%%\n"
    }
   }
  },
  {
   "metadata": {
    "pycharm": {
     "name": "#%% md\n"
    }
   },
   "outputs": [],
   "source": [
    "## Turning this all into a DataFrame\n",
    "\n",
    "<p>You've zipped lists together, created a function to house your code, and even used the function in a list comprehension to generate a list of dictionaries. That was a lot of work and you did a great job!</p>\n",
    "<p>You will now use all of these to convert the list of dictionaries into a pandas DataFrame. You will see how convenient it is to generate a DataFrame from dictionaries with the <code>DataFrame()</code> function from the pandas package. </p>\n",
    "<p>The <code>lists2dict()</code> function, <code>feature_names</code> list, and <code>row_lists</code> list have been preloaded for this exercise.</p>\n",
    "<p>Go for it!</p>"
   ],
   "execution_count": null,
   "cell_type": "markdown"
  },
  {
   "metadata": {
    "pycharm": {
     "name": "#%% md\n"
    }
   },
   "outputs": [],
   "source": [
    "To use the <code>DataFrame()</code> function you need, first import the pandas package with the alias <code>pd</code>."
   ],
   "execution_count": null,
   "cell_type": "markdown"
  },
  {
   "metadata": {
    "pycharm": {
     "name": "#%% md\n"
    }
   },
   "outputs": [],
   "source": [
    "Create a DataFrame from the list of dictionaries in <code>list_of_dicts</code> by calling <code>pd.DataFrame()</code>. Assign the resulting DataFrame to <code>df</code>."
   ],
   "execution_count": null,
   "cell_type": "markdown"
  },
  {
   "metadata": {
    "pycharm": {
     "name": "#%% md\n"
    }
   },
   "outputs": [],
   "source": [
    "Inspect the contents of <code>df</code> printing the head of the DataFrame. Head of the DataFrame <code>df</code> can be accessed by calling <code>df.head()</code>."
   ],
   "execution_count": null,
   "cell_type": "markdown"
  },
  {
   "cell_type": "code",
   "execution_count": 59,
   "outputs": [
    {
     "name": "stdout",
     "output_type": "stream",
     "text": [
      "  CountryName CountryCode                                      IndicatorName  \\\n",
      "0  Arab World         ARB  Adolescent fertility rate (births per 1,000 wo...   \n",
      "1  Arab World         ARB  Age dependency ratio (% of working-age populat...   \n",
      "2  Arab World         ARB  Age dependency ratio, old (% of working-age po...   \n",
      "3  Arab World         ARB  Age dependency ratio, young (% of working-age ...   \n",
      "4  Arab World         ARB        Arms exports (SIPRI trend indicator values)   \n",
      "\n",
      "    IndicatorCode  Year               Value  \n",
      "0     SP.ADO.TFRT  1960  133.56090740552298  \n",
      "1     SP.POP.DPND  1960    87.7976011532547  \n",
      "2  SP.POP.DPND.OL  1960   6.634579191565161  \n",
      "3  SP.POP.DPND.YG  1960   81.02332950839141  \n",
      "4  MS.MIL.XPRT.KD  1960           3000000.0  \n"
     ]
    }
   ],
   "source": [
    "\n",
    "\n",
    "# Turn list of lists into list of dicts: list_of_dicts\n",
    "list_of_dicts = [list2dict(feature_names, sublist) for sublist in row_lists]\n",
    "\n",
    "# Turn list of dicts into a DataFrame: df\n",
    "df = pd.DataFrame(list_of_dicts)\n",
    "\n",
    "# Print the head of the DataFrame\n",
    "print(df.head())\n"
   ],
   "metadata": {
    "collapsed": false,
    "pycharm": {
     "name": "#%%\n"
    }
   }
  },
  {
   "metadata": {
    "pycharm": {
     "name": "#%% md\n"
    }
   },
   "outputs": [],
   "source": [
    "## Using Python generators for streaming data"
   ],
   "execution_count": null,
   "cell_type": "markdown"
  },
  {
   "metadata": {
    "pycharm": {
     "name": "#%% md\n"
    }
   },
   "outputs": [],
   "source": [
    "### 1. Using Python generators for streaming data\n",
    "\n",
    "Congratulations on your first foray into the World Bank's World Indicators dataset! Having played around with some of the data, we're now going to step back a bit and look at importing the dataset, which is pretty large. We already saw that, for a large dataset,"
   ],
   "execution_count": null,
   "cell_type": "markdown"
  },
  {
   "metadata": {
    "pycharm": {
     "name": "#%% md\n"
    }
   },
   "outputs": [],
   "source": [
    "### 2. Generators for the large data limit\n",
    "\n",
    "we can use an iterator to load it in chunks. We can also write a generator to load it in line by line and one of the really cool things about this method is that if the data is streaming, that is, if new lines are being written to the file you're reading, this method will keep on reading and processing the file until there are no lines left for it to read. In the following exercises,"
   ],
   "execution_count": null,
   "cell_type": "markdown"
  },
  {
   "metadata": {
    "pycharm": {
     "name": "#%% md\n"
    }
   },
   "outputs": [],
   "source": [
    "### 3. Build a generator function\n",
    "\n",
    "you'll be writing a generator function that can process large amounts of data, so let me remind you of our typical example of a generator function:Here is a generator function that, when called with a number n, produces a generator object that generates integers 0 though n. In the function definition, i is initialized to 0. The first time the generator object is called, it yields i equal to 0. It then adds one to i and will then yield one on the next iteration and so on. The while loop is true until i equals equals n and then the generator ceases to yield values. In the exercises, you'll be writing a generator function that, on each iteration, reads a new line of the file!"
   ],
   "execution_count": null,
   "cell_type": "markdown"
  },
  {
   "metadata": {
    "pycharm": {
     "name": "#%% md\n"
    }
   },
   "outputs": [],
   "source": [
    "### 4. Let's practice!\n",
    "\n",
    "Now head over to the exercises and try your hand at writing a generator that can read streaming data. You'll once again be playing around with the World Bank's World Indicators dataset. Enjoy!"
   ],
   "execution_count": null,
   "cell_type": "markdown"
  },
  {
   "metadata": {
    "pycharm": {
     "name": "#%% md\n"
    }
   },
   "outputs": [],
   "source": [
    "## Processing data in chunks (1)\n",
    "\n",
    "<p>Sometimes, data sources can be so large in size that storing the entire dataset in memory becomes too resource-intensive. In this exercise, you will process the first 1000 rows of a file line by line, to create a dictionary of the counts of how many times each country appears in a column in the dataset.</p>\n",
    "<p>The csv file <code>'world_dev_ind.csv'</code> is in your current directory for your use. To begin, you need to open a connection to this file using what is known as a context manager. For example, the command <code>with open('datacamp.csv') as datacamp</code> binds the csv file <code>'datacamp.csv'</code> as <code>datacamp</code> in the context manager. Here, the <code>with</code> statement is the context manager, and its purpose is to ensure that resources are efficiently allocated when opening a connection to a file.</p>\n",
    "<p>If you'd like to learn more about context managers, refer to the <a href=\"https://www.datacamp.com/courses/importing-data-in-python-part-1\" target=\"_blank\" rel=\"noopener noreferrer\">DataCamp course on Importing Data in Python.</a></p>"
   ],
   "execution_count": null,
   "cell_type": "markdown"
  },
  {
   "metadata": {
    "pycharm": {
     "name": "#%% md\n"
    }
   },
   "outputs": [],
   "source": [
    "Use <code>open()</code> to bind the csv file <code>'world_dev_ind.csv'</code> as <code>file</code> in the context manager."
   ],
   "execution_count": null,
   "cell_type": "markdown"
  },
  {
   "cell_type": "code",
   "execution_count": 60,
   "outputs": [
    {
     "name": "stdout",
     "output_type": "stream",
     "text": [
      "{'Arab World': 5, 'Caribbean small states': 5, 'Central Europe and the Baltics': 5, 'East Asia & Pacific (all income levels)': 5, 'East Asia & Pacific (developing only)': 5, 'Euro area': 5, 'Europe & Central Asia (all income levels)': 5, 'Europe & Central Asia (developing only)': 5, 'European Union': 5, 'Fragile and conflict affected situations': 5, 'Heavily indebted poor countries (HIPC)': 5, 'High income': 5, 'High income: nonOECD': 5, 'High income: OECD': 5, 'Latin America & Caribbean (all income levels)': 5, 'Latin America & Caribbean (developing only)': 5, 'Least developed countries: UN classification': 5, 'Low & middle income': 5, 'Low income': 5, 'Lower middle income': 5, 'Middle East & North Africa (all income levels)': 5, 'Middle East & North Africa (developing only)': 5, 'Middle income': 5, 'North America': 5, 'OECD members': 5, 'Other small states': 5, 'Pacific island small states': 5, 'Small states': 5, 'South Asia': 5, 'Sub-Saharan Africa (all income levels)': 5, 'Sub-Saharan Africa (developing only)': 5, 'Upper middle income': 5, 'World': 4, 'Afghanistan': 4, 'Albania': 4, 'Algeria': 4, 'American Samoa': 4, 'Andorra': 4, 'Angola': 4, 'Antigua and Barbuda': 4, 'Argentina': 4, 'Armenia': 4, 'Aruba': 4, 'Australia': 4, 'Austria': 4, 'Azerbaijan': 4, '\"Bahamas': 4, 'Bahrain': 4, 'Bangladesh': 4, 'Barbados': 4, 'Belarus': 4, 'Belgium': 4, 'Belize': 4, 'Benin': 4, 'Bermuda': 4, 'Bhutan': 4, 'Bolivia': 4, 'Bosnia and Herzegovina': 4, 'Botswana': 4, 'Brazil': 4, 'Brunei Darussalam': 4, 'Bulgaria': 4, 'Burkina Faso': 4, 'Burundi': 4, 'Cabo Verde': 4, 'Cambodia': 4, 'Cameroon': 4, 'Canada': 4, 'Cayman Islands': 4, 'Central African Republic': 4, 'Chad': 4, 'Channel Islands': 4, 'Chile': 4, 'China': 4, 'Colombia': 4, 'Comoros': 4, '\"Congo': 8, 'Costa Rica': 4, \"Cote d'Ivoire\": 4, 'Croatia': 4, 'Cuba': 4, 'Curacao': 4, 'Cyprus': 4, 'Czech Republic': 4, 'Denmark': 4, 'Djibouti': 4, 'Dominica': 4, 'Dominican Republic': 4, 'Ecuador': 4, '\"Egypt': 4, 'El Salvador': 4, 'Equatorial Guinea': 4, 'Eritrea': 4, 'Estonia': 4, 'Ethiopia': 4, 'Faeroe Islands': 4, 'Fiji': 4, 'Finland': 4, 'France': 4, 'French Polynesia': 4, 'Gabon': 4, '\"Gambia': 4, 'Georgia': 4, 'Germany': 4, 'Ghana': 4, 'Greece': 4, 'Greenland': 4, 'Grenada': 4, 'Guam': 4, 'Guatemala': 4, 'Guinea': 4, 'Guinea-Bissau': 4, 'Guyana': 4, 'Haiti': 4, 'Honduras': 4, '\"Hong Kong SAR': 4, 'Hungary': 4, 'Iceland': 4, 'India': 4, 'Indonesia': 4, '\"Iran': 4, 'Iraq': 4, 'Ireland': 4, 'Isle of Man': 4, 'Israel': 4, 'Italy': 4, 'Jamaica': 4, 'Japan': 4, 'Jordan': 4, 'Kazakhstan': 4, 'Kenya': 4, 'Kiribati': 4, '\"Korea': 8, 'Kuwait': 4, 'Kyrgyz Republic': 4, 'Lao PDR': 4, 'Latvia': 4, 'Lebanon': 4, 'Lesotho': 4, 'Liberia': 4, 'Libya': 4, 'Liechtenstein': 4, 'Lithuania': 4, 'Luxembourg': 4, '\"Macao SAR': 4, '\"Macedonia': 4, 'Madagascar': 4, 'Malawi': 4, 'Malaysia': 4, 'Maldives': 4, 'Mali': 4, 'Malta': 4, 'Marshall Islands': 4, 'Mauritania': 4, 'Mauritius': 4, 'Mexico': 4, '\"Micronesia': 4, 'Moldova': 4, 'Monaco': 4, 'Mongolia': 4, 'Montenegro': 4, 'Morocco': 4, 'Mozambique': 4, 'Myanmar': 4, 'Namibia': 4, 'Nepal': 4, 'Netherlands': 4, 'New Caledonia': 4, 'New Zealand': 4, 'Nicaragua': 4, 'Niger': 4, 'Nigeria': 4, 'Northern Mariana Islands': 4, 'Norway': 4, 'Oman': 4, 'Pakistan': 4, 'Palau': 4, 'Panama': 4, 'Papua New Guinea': 4, 'Paraguay': 4, 'Peru': 4, 'Philippines': 4, 'Poland': 4, 'Portugal': 4, 'Puerto Rico': 4, 'Qatar': 4, 'Romania': 4, 'Russian Federation': 4, 'Rwanda': 4, 'Samoa': 4, 'San Marino': 4, 'Sao Tome and Principe': 4, 'Saudi Arabia': 4, 'Senegal': 4, 'Seychelles': 4, 'Sierra Leone': 4, 'Singapore': 4, 'Slovak Republic': 4, 'Slovenia': 4, 'Solomon Islands': 4, 'Somalia': 4, 'South Africa': 4, 'South Sudan': 4, 'Spain': 4, 'Sri Lanka': 4, 'St. Kitts and Nevis': 4, 'St. Lucia': 4, 'St. Vincent and the Grenadines': 4, 'Sudan': 4, 'Suriname': 4, 'Swaziland': 4, 'Sweden': 4, 'Switzerland': 4, 'Syrian Arab Republic': 4, 'Tajikistan': 4, 'Tanzania': 4, 'Thailand': 4, 'Timor-Leste': 4, 'Togo': 4, 'Tonga': 4, 'Trinidad and Tobago': 4, 'Tunisia': 4, 'Turkey': 4, 'Turkmenistan': 4, 'Turks and Caicos Islands': 4, 'Tuvalu': 4, 'Uganda': 4, 'Ukraine': 4, 'United Arab Emirates': 4, 'United Kingdom': 4, 'United States': 4, 'Uruguay': 4, 'Uzbekistan': 4, 'Vanuatu': 4, '\"Venezuela': 4, 'Vietnam': 4, 'Virgin Islands (U.S.)': 4, '\"Yemen': 4, 'Zambia': 4, 'Zimbabwe': 4}\n"
     ]
    }
   ],
   "source": [
    "with open(\"data/world_ind_pop_data.csv\") as file:\n",
    "    file.readline()\n",
    "    counts_dict ={}\n",
    "    for j in range(1000):\n",
    "        line  = file.readline().split(\",\")\n",
    "        first_col = line[0]\n",
    "\n",
    "        if first_col in counts_dict.keys():\n",
    "            counts_dict[first_col] +=1\n",
    "\n",
    "        else:\n",
    "            counts_dict[first_col] = 1\n",
    "\n",
    "print(counts_dict)"
   ],
   "metadata": {
    "collapsed": false,
    "pycharm": {
     "name": "#%%\n"
    }
   }
  },
  {
   "metadata": {
    "pycharm": {
     "name": "#%% md\n"
    }
   },
   "outputs": [],
   "source": [
    "Complete the <code>for</code> loop so that it iterates <strong>1000</strong> times to perform the loop body and process only the first 1000 rows of data of the file."
   ],
   "execution_count": null,
   "cell_type": "markdown"
  },
  {
   "metadata": {
    "pycharm": {
     "name": "#%% md\n"
    }
   },
   "outputs": [],
   "source": [
    "## Writing a generator to load data in chunks (2)\n",
    "\n",
    "<p>In the previous exercise, you processed a file line by line for a given number of lines. What if, however, you want to do this for the entire file? </p>\n",
    "<p>In this case, it would be useful to use <strong>generators</strong>. Generators allow users to <a href=\"https://www.blog.pythonlibrary.org/2014/01/27/python-201-an-intro-to-generators/\" target=\"_blank\" rel=\"noopener noreferrer\"><em>lazily evaluate</em></a> data. \n",
    "This concept of <em>lazy evaluation</em> is useful when you have to deal with very large datasets because it lets you generate values in an efficient manner by <em>yielding</em> only chunks of data at a time instead of the whole thing at once.</p>\n",
    "<p>In this exercise, you will define a generator function <code>read_large_file()</code> that produces a generator object which yields a single line from a file each time <code>next()</code> is called on it. The csv file <code>'world_dev_ind.csv'</code> is in your current directory for your use.</p>\n",
    "<p>Note that when you open a connection to a file, the resulting file object is already a generator! So out in the wild, you won't have to explicitly create generator objects in cases such as this. However, for pedagogical reasons, we are having you practice how to do this here with the <code>read_large_file()</code> function. Go for it!</p>"
   ],
   "execution_count": null,
   "cell_type": "markdown"
  },
  {
   "metadata": {
    "pycharm": {
     "name": "#%% md\n"
    }
   },
   "outputs": [],
   "source": [
    "In the function <code>read_large_file()</code>, read a line from <code>file_object</code> by using the method <code>readline()</code>. Assign the result to <code>data</code>."
   ],
   "execution_count": null,
   "cell_type": "markdown"
  },
  {
   "metadata": {
    "pycharm": {
     "name": "#%% md\n"
    }
   },
   "outputs": [],
   "source": [
    "In the function <code>read_large_file()</code>, <code>yield</code> the line read from the file <code>data</code>."
   ],
   "execution_count": null,
   "cell_type": "markdown"
  },
  {
   "metadata": {
    "pycharm": {
     "name": "#%% md\n"
    }
   },
   "outputs": [],
   "source": [
    "In the context manager, create a generator object <code>gen_file</code> by calling your generator function <code>read_large_file()</code> and passing <code>file</code> to it."
   ],
   "execution_count": null,
   "cell_type": "markdown"
  },
  {
   "metadata": {
    "pycharm": {
     "name": "#%% md\n"
    }
   },
   "outputs": [],
   "source": [
    "Print the first three lines produced by the generator object <code>gen_file</code> using <code>next()</code>."
   ],
   "execution_count": null,
   "cell_type": "markdown"
  },
  {
   "cell_type": "code",
   "execution_count": 63,
   "outputs": [
    {
     "name": "stdout",
     "output_type": "stream",
     "text": [
      "CountryName,CountryCode,Year,Total Population,Urban population (% of total)\n",
      "\n",
      "Arab World,ARB,1960,92495902.0,31.285384211605397\n",
      "\n",
      "Caribbean small states,CSS,1960,4190810.0,31.5974898513652\n",
      "\n"
     ]
    }
   ],
   "source": [
    "# Define read_large_file()\n",
    "def read_large_file(file_object):\n",
    "    \"\"\"A generator function to read a large file lazily.\"\"\"\n",
    "\n",
    "    # Loop indefinitely until the end of the file\n",
    "    while True:\n",
    "\n",
    "        # Read a line from the file: data\n",
    "        data = file_object.readline()\n",
    "\n",
    "        # Break if this is the end of the file\n",
    "        if not data:\n",
    "            break\n",
    "\n",
    "        # Yield the line of data\n",
    "        yield data\n",
    "\n",
    "# Open a connection to the file\n",
    "with open('data/world_ind_pop_data.csv') as file:\n",
    "\n",
    "    # Create a generator object for the file: gen_file\n",
    "    gen_file = read_large_file(file)\n",
    "\n",
    "    # Print the first three lines of the file\n",
    "    print(next(gen_file))\n",
    "    print(next(gen_file))\n",
    "    print(next(gen_file))"
   ],
   "metadata": {
    "collapsed": false,
    "pycharm": {
     "name": "#%%\n"
    }
   }
  },
  {
   "metadata": {
    "pycharm": {
     "name": "#%% md\n"
    }
   },
   "outputs": [],
   "source": [
    "## Writing a generator to load data in chunks (3)\n",
    "\n",
    "<p>Great! You've just created a generator function that you can use to help you process large files. </p>\n",
    "<p>Now let's use your generator function to process the World Bank dataset like you did previously. You will process the file line by line, to create a dictionary of the counts of how many times each country appears in a column in the dataset. For this exercise, however, you won't process just 1000 rows of data, you'll process the entire dataset!</p>\n",
    "<p>The generator function <code>read_large_file()</code> and the csv file <code>'world_dev_ind.csv'</code> are preloaded and ready for your use. Go for it!</p>"
   ],
   "execution_count": null,
   "cell_type": "markdown"
  },
  {
   "metadata": {
    "pycharm": {
     "name": "#%% md\n"
    }
   },
   "outputs": [],
   "source": [
    "Bind the file <code>'world_dev_ind.csv'</code> to <code>file</code> in the context manager with <code>open()</code>."
   ],
   "execution_count": null,
   "cell_type": "markdown"
  },
  {
   "metadata": {
    "pycharm": {
     "name": "#%% md\n"
    }
   },
   "outputs": [],
   "source": [
    "Complete the <code>for</code> loop so that it iterates over the generator from the call to <code>read_large_file()</code> to process all the rows of the file."
   ],
   "execution_count": null,
   "cell_type": "markdown"
  },
  {
   "cell_type": "code",
   "execution_count": 64,
   "outputs": [
    {
     "name": "stdout",
     "output_type": "stream",
     "text": [
      "{'CountryName': 1, 'Arab World': 55, 'Caribbean small states': 55, 'Central Europe and the Baltics': 55, 'East Asia & Pacific (all income levels)': 55, 'East Asia & Pacific (developing only)': 55, 'Euro area': 55, 'Europe & Central Asia (all income levels)': 55, 'Europe & Central Asia (developing only)': 55, 'European Union': 55, 'Fragile and conflict affected situations': 55, 'Heavily indebted poor countries (HIPC)': 55, 'High income': 55, 'High income: nonOECD': 55, 'High income: OECD': 55, 'Latin America & Caribbean (all income levels)': 55, 'Latin America & Caribbean (developing only)': 55, 'Least developed countries: UN classification': 55, 'Low & middle income': 55, 'Low income': 55, 'Lower middle income': 55, 'Middle East & North Africa (all income levels)': 55, 'Middle East & North Africa (developing only)': 55, 'Middle income': 55, 'North America': 55, 'OECD members': 55, 'Other small states': 55, 'Pacific island small states': 55, 'Small states': 55, 'South Asia': 55, 'Sub-Saharan Africa (all income levels)': 55, 'Sub-Saharan Africa (developing only)': 55, 'Upper middle income': 55, 'World': 55, 'Afghanistan': 55, 'Albania': 55, 'Algeria': 55, 'American Samoa': 55, 'Andorra': 55, 'Angola': 55, 'Antigua and Barbuda': 55, 'Argentina': 55, 'Armenia': 55, 'Aruba': 55, 'Australia': 55, 'Austria': 55, 'Azerbaijan': 55, '\"Bahamas': 55, 'Bahrain': 55, 'Bangladesh': 55, 'Barbados': 55, 'Belarus': 55, 'Belgium': 55, 'Belize': 55, 'Benin': 55, 'Bermuda': 55, 'Bhutan': 55, 'Bolivia': 55, 'Bosnia and Herzegovina': 55, 'Botswana': 55, 'Brazil': 55, 'Brunei Darussalam': 55, 'Bulgaria': 55, 'Burkina Faso': 55, 'Burundi': 55, 'Cabo Verde': 55, 'Cambodia': 55, 'Cameroon': 55, 'Canada': 55, 'Cayman Islands': 55, 'Central African Republic': 55, 'Chad': 55, 'Channel Islands': 55, 'Chile': 55, 'China': 55, 'Colombia': 55, 'Comoros': 55, '\"Congo': 110, 'Costa Rica': 55, \"Cote d'Ivoire\": 55, 'Croatia': 55, 'Cuba': 55, 'Curacao': 55, 'Cyprus': 55, 'Czech Republic': 55, 'Denmark': 55, 'Djibouti': 55, 'Dominica': 55, 'Dominican Republic': 55, 'Ecuador': 55, '\"Egypt': 55, 'El Salvador': 55, 'Equatorial Guinea': 55, 'Eritrea': 55, 'Estonia': 55, 'Ethiopia': 55, 'Faeroe Islands': 55, 'Fiji': 55, 'Finland': 55, 'France': 55, 'French Polynesia': 55, 'Gabon': 55, '\"Gambia': 55, 'Georgia': 55, 'Germany': 55, 'Ghana': 55, 'Greece': 55, 'Greenland': 55, 'Grenada': 55, 'Guam': 55, 'Guatemala': 55, 'Guinea': 55, 'Guinea-Bissau': 55, 'Guyana': 55, 'Haiti': 55, 'Honduras': 55, '\"Hong Kong SAR': 55, 'Hungary': 55, 'Iceland': 55, 'India': 55, 'Indonesia': 55, '\"Iran': 55, 'Iraq': 55, 'Ireland': 55, 'Isle of Man': 55, 'Israel': 55, 'Italy': 55, 'Jamaica': 55, 'Japan': 55, 'Jordan': 55, 'Kazakhstan': 55, 'Kenya': 55, 'Kiribati': 55, '\"Korea': 110, 'Kuwait': 52, 'Kyrgyz Republic': 55, 'Lao PDR': 55, 'Latvia': 55, 'Lebanon': 55, 'Lesotho': 55, 'Liberia': 55, 'Libya': 55, 'Liechtenstein': 55, 'Lithuania': 55, 'Luxembourg': 55, '\"Macao SAR': 55, '\"Macedonia': 55, 'Madagascar': 55, 'Malawi': 55, 'Malaysia': 55, 'Maldives': 55, 'Mali': 55, 'Malta': 55, 'Marshall Islands': 55, 'Mauritania': 55, 'Mauritius': 55, 'Mexico': 55, '\"Micronesia': 55, 'Moldova': 55, 'Monaco': 55, 'Mongolia': 55, 'Montenegro': 55, 'Morocco': 55, 'Mozambique': 55, 'Myanmar': 55, 'Namibia': 55, 'Nepal': 55, 'Netherlands': 55, 'New Caledonia': 55, 'New Zealand': 55, 'Nicaragua': 55, 'Niger': 55, 'Nigeria': 55, 'Northern Mariana Islands': 55, 'Norway': 55, 'Oman': 55, 'Pakistan': 55, 'Palau': 55, 'Panama': 55, 'Papua New Guinea': 55, 'Paraguay': 55, 'Peru': 55, 'Philippines': 55, 'Poland': 55, 'Portugal': 55, 'Puerto Rico': 55, 'Qatar': 55, 'Romania': 55, 'Russian Federation': 55, 'Rwanda': 55, 'Samoa': 55, 'San Marino': 55, 'Sao Tome and Principe': 55, 'Saudi Arabia': 55, 'Senegal': 55, 'Seychelles': 55, 'Sierra Leone': 55, 'Singapore': 55, 'Slovak Republic': 55, 'Slovenia': 55, 'Solomon Islands': 55, 'Somalia': 55, 'South Africa': 55, 'South Sudan': 55, 'Spain': 55, 'Sri Lanka': 55, 'St. Kitts and Nevis': 55, 'St. Lucia': 55, 'St. Vincent and the Grenadines': 55, 'Sudan': 55, 'Suriname': 55, 'Swaziland': 55, 'Sweden': 55, 'Switzerland': 55, 'Syrian Arab Republic': 55, 'Tajikistan': 55, 'Tanzania': 55, 'Thailand': 55, 'Timor-Leste': 55, 'Togo': 55, 'Tonga': 55, 'Trinidad and Tobago': 55, 'Tunisia': 55, 'Turkey': 55, 'Turkmenistan': 55, 'Turks and Caicos Islands': 55, 'Tuvalu': 55, 'Uganda': 55, 'Ukraine': 55, 'United Arab Emirates': 55, 'United Kingdom': 55, 'United States': 55, 'Uruguay': 55, 'Uzbekistan': 55, 'Vanuatu': 55, '\"Venezuela': 55, 'Vietnam': 55, 'Virgin Islands (U.S.)': 55, '\"Yemen': 55, 'Zambia': 55, 'Zimbabwe': 55, 'Serbia': 25, 'West Bank and Gaza': 25, 'Sint Maarten (Dutch part)': 17}\n"
     ]
    }
   ],
   "source": [
    "# Initialize an empty dictionary: counts_dict\n",
    "counts_dict = {}\n",
    "\n",
    "# Open a connection to the file\n",
    "with open(\"data/world_ind_pop_data.csv\") as file:\n",
    "\n",
    "    # Iterate over the generator from read_large_file()\n",
    "    for line in read_large_file(file):\n",
    "\n",
    "        row = line.split(',')\n",
    "        first_col = row[0]\n",
    "\n",
    "        if first_col in counts_dict.keys():\n",
    "            counts_dict[first_col] += 1\n",
    "        else:\n",
    "            counts_dict[first_col] = 1\n",
    "\n",
    "# Print\n",
    "print(counts_dict)"
   ],
   "metadata": {
    "collapsed": false,
    "pycharm": {
     "name": "#%%\n"
    }
   }
  },
  {
   "metadata": {
    "pycharm": {
     "name": "#%% md\n"
    }
   },
   "outputs": [],
   "source": [
    "## Using pandas' read_csv iterator for streaming data"
   ],
   "execution_count": null,
   "cell_type": "markdown"
  },
  {
   "metadata": {
    "pycharm": {
     "name": "#%% md\n"
    }
   },
   "outputs": [],
   "source": [
    "### 1. Using pandas' read_csv iterator for streaming data\n",
    "\n",
    "You're on the home stretch now! That was some great work with generators to read in large and/or streaming files."
   ],
   "execution_count": null,
   "cell_type": "markdown"
  },
  {
   "metadata": {
    "pycharm": {
     "name": "#%% md\n"
    }
   },
   "outputs": [],
   "source": [
    "### 2. Reading files in chunks\n",
    "\n",
    "In the remaining exercises, you'll revisit the pandas function read_csv, along with its chunksize argument in order to read in the World Indicator data in chunks, process each chunk and aggregate. Herein, you'll do so in order to look at specific indicators in specific countries and to plot the results over all the years for which the relevant data exists. You'll then try your hand at writing a function to perform the same task which will save so much work when you want to look at the data for a different country."
   ],
   "execution_count": null,
   "cell_type": "markdown"
  },
  {
   "metadata": {
    "pycharm": {
     "name": "#%% md\n"
    }
   },
   "outputs": [],
   "source": [
    "### 3. Let's practice!\n",
    "\n",
    "Good luck, stay cool and I'll see you again after you explore the data further and consolidate the skills that you've built in these courses. Enjoy! -"
   ],
   "execution_count": null,
   "cell_type": "markdown"
  },
  {
   "metadata": {
    "pycharm": {
     "name": "#%% md\n"
    }
   },
   "outputs": [],
   "source": [
    "## Writing an iterator to load data in chunks (1)\n",
    "\n",
    "<p>Another way to read data too large to store in memory in chunks is to read the file in as DataFrames of a certain length, say, 100. For example, with the pandas package (imported as <code>pd</code>), you can do <code>pd.read_csv(filename, chunksize=100)</code>. This creates an iterable <strong>reader object</strong>, which means that you can use <code>next()</code> on it.</p>\n",
    "<p>In this exercise, you will read a file in small DataFrame chunks with <code>read_csv()</code>. You're going to use the World Bank Indicators data <code>'ind_pop.csv'</code>, available in your current directory, to look at the urban population indicator for numerous countries and years.</p>"
   ],
   "execution_count": null,
   "cell_type": "markdown"
  },
  {
   "metadata": {
    "pycharm": {
     "name": "#%% md\n"
    }
   },
   "outputs": [],
   "source": [
    "Use <code>pd.read_csv()</code> to read in <code>'ind_pop.csv'</code> in chunks of size 10. Assign the result to <code>df_reader</code>."
   ],
   "execution_count": null,
   "cell_type": "markdown"
  },
  {
   "metadata": {
    "pycharm": {
     "name": "#%% md\n"
    }
   },
   "outputs": [],
   "source": [
    "Print the first two chunks from <code>df_reader</code>."
   ],
   "execution_count": null,
   "cell_type": "markdown"
  },
  {
   "cell_type": "code",
   "execution_count": 65,
   "outputs": [
    {
     "name": "stdout",
     "output_type": "stream",
     "text": [
      "                                 CountryName CountryCode  Year  \\\n",
      "0                                 Arab World         ARB  1960   \n",
      "1                     Caribbean small states         CSS  1960   \n",
      "2             Central Europe and the Baltics         CEB  1960   \n",
      "3    East Asia & Pacific (all income levels)         EAS  1960   \n",
      "4      East Asia & Pacific (developing only)         EAP  1960   \n",
      "5                                  Euro area         EMU  1960   \n",
      "6  Europe & Central Asia (all income levels)         ECS  1960   \n",
      "7    Europe & Central Asia (developing only)         ECA  1960   \n",
      "8                             European Union         EUU  1960   \n",
      "9   Fragile and conflict affected situations         FCS  1960   \n",
      "\n",
      "   Total Population  Urban population (% of total)  \n",
      "0      9.249590e+07                      31.285384  \n",
      "1      4.190810e+06                      31.597490  \n",
      "2      9.140158e+07                      44.507921  \n",
      "3      1.042475e+09                      22.471132  \n",
      "4      8.964930e+08                      16.917679  \n",
      "5      2.653965e+08                      62.096947  \n",
      "6      6.674890e+08                      55.378977  \n",
      "7      1.553174e+08                      38.066129  \n",
      "8      4.094985e+08                      61.212898  \n",
      "9      1.203546e+08                      17.891972  \n",
      "                                      CountryName CountryCode  Year  \\\n",
      "10         Heavily indebted poor countries (HIPC)         HPC  1960   \n",
      "11                                    High income         HIC  1960   \n",
      "12                           High income: nonOECD         NOC  1960   \n",
      "13                              High income: OECD         OEC  1960   \n",
      "14  Latin America & Caribbean (all income levels)         LCN  1960   \n",
      "15    Latin America & Caribbean (developing only)         LAC  1960   \n",
      "16   Least developed countries: UN classification         LDC  1960   \n",
      "17                            Low & middle income         LMY  1960   \n",
      "18                                     Low income         LIC  1960   \n",
      "19                            Lower middle income         LMC  1960   \n",
      "\n",
      "    Total Population  Urban population (% of total)  \n",
      "10      1.624912e+08                      12.236046  \n",
      "11      9.075975e+08                      62.680332  \n",
      "12      1.866767e+08                      56.107863  \n",
      "13      7.209208e+08                      64.285435  \n",
      "14      2.205642e+08                      49.284688  \n",
      "15      1.776822e+08                      44.863308  \n",
      "16      2.410728e+08                       9.616261  \n",
      "17      2.127373e+09                      21.272894  \n",
      "18      1.571884e+08                      11.498396  \n",
      "19      9.429116e+08                      19.810513  \n"
     ]
    }
   ],
   "source": [
    "\n",
    "# Initialize reader object: df_reader\n",
    "df_reader = pd.read_csv(\"data/world_ind_pop_data.csv\", chunksize=10)\n",
    "\n",
    "# Print two chunks\n",
    "print(next(df_reader))\n",
    "print(next(df_reader))"
   ],
   "metadata": {
    "collapsed": false,
    "pycharm": {
     "name": "#%%\n"
    }
   }
  },
  {
   "metadata": {
    "pycharm": {
     "name": "#%% md\n"
    }
   },
   "outputs": [],
   "source": [
    "## Writing an iterator to load data in chunks (2)\n",
    "\n",
    "<p>In the previous exercise, you used <code>read_csv()</code> to read in DataFrame chunks from a large dataset. In this exercise, you will read in a file using a bigger DataFrame chunk size and then process the data from the first chunk. </p>\n",
    "<p>To process the data, you will create another DataFrame composed of only the rows from a specific country. You will then zip together two of the columns from the new DataFrame, <code>'Total Population'</code> and <code>'Urban population (% of total)'</code>. Finally, you will create a list of tuples from the zip object, where each tuple is composed of a value from each of the two columns mentioned.</p>\n",
    "<p>You're going to use the data from <code>'ind_pop_data.csv'</code>, available in your current directory. <code>pandas</code> has been imported as <code>pd</code>.</p>"
   ],
   "execution_count": null,
   "cell_type": "markdown"
  },
  {
   "metadata": {
    "pycharm": {
     "name": "#%% md\n"
    }
   },
   "outputs": [],
   "source": [
    "Use <code>pd.read_csv()</code> to read in the file in <code>'ind_pop_data.csv'</code> in chunks of size <code>1000</code>. Assign the result to <code>urb_pop_reader</code>."
   ],
   "execution_count": null,
   "cell_type": "markdown"
  },
  {
   "cell_type": "code",
   "execution_count": 66,
   "outputs": [],
   "source": [
    "urb_pop_reader = pd.read_csv(\"data/world_ind_pop_data.csv\",chunksize=1000)"
   ],
   "metadata": {
    "collapsed": false,
    "pycharm": {
     "name": "#%%\n"
    }
   }
  },
  {
   "metadata": {
    "pycharm": {
     "name": "#%% md\n"
    }
   },
   "outputs": [],
   "source": [
    "Get the <strong>first</strong> DataFrame chunk from the iterable <code>urb_pop_reader</code> and assign this to <code>df_urb_pop</code>."
   ],
   "execution_count": null,
   "cell_type": "markdown"
  },
  {
   "cell_type": "code",
   "execution_count": 73,
   "outputs": [
    {
     "data": {
      "text/plain": "           CountryName CountryCode  Year  Total Population  \\\n3000    Faeroe Islands         FRO  1972           39360.0   \n3001              Fiji         FJI  1972          542811.0   \n3002           Finland         FIN  1972         4639657.0   \n3003            France         FRA  1972        52959228.0   \n3004  French Polynesia         PYF  1972          118279.0   \n\n      Urban population (% of total)  \n3000                         28.888  \n3001                         35.538  \n3002                         65.366  \n3003                         71.860  \n3004                         56.718  ",
      "text/html": "<div>\n<style scoped>\n    .dataframe tbody tr th:only-of-type {\n        vertical-align: middle;\n    }\n\n    .dataframe tbody tr th {\n        vertical-align: top;\n    }\n\n    .dataframe thead th {\n        text-align: right;\n    }\n</style>\n<table border=\"1\" class=\"dataframe\">\n  <thead>\n    <tr style=\"text-align: right;\">\n      <th></th>\n      <th>CountryName</th>\n      <th>CountryCode</th>\n      <th>Year</th>\n      <th>Total Population</th>\n      <th>Urban population (% of total)</th>\n    </tr>\n  </thead>\n  <tbody>\n    <tr>\n      <th>3000</th>\n      <td>Faeroe Islands</td>\n      <td>FRO</td>\n      <td>1972</td>\n      <td>39360.0</td>\n      <td>28.888</td>\n    </tr>\n    <tr>\n      <th>3001</th>\n      <td>Fiji</td>\n      <td>FJI</td>\n      <td>1972</td>\n      <td>542811.0</td>\n      <td>35.538</td>\n    </tr>\n    <tr>\n      <th>3002</th>\n      <td>Finland</td>\n      <td>FIN</td>\n      <td>1972</td>\n      <td>4639657.0</td>\n      <td>65.366</td>\n    </tr>\n    <tr>\n      <th>3003</th>\n      <td>France</td>\n      <td>FRA</td>\n      <td>1972</td>\n      <td>52959228.0</td>\n      <td>71.860</td>\n    </tr>\n    <tr>\n      <th>3004</th>\n      <td>French Polynesia</td>\n      <td>PYF</td>\n      <td>1972</td>\n      <td>118279.0</td>\n      <td>56.718</td>\n    </tr>\n  </tbody>\n</table>\n</div>"
     },
     "execution_count": 73,
     "metadata": {},
     "output_type": "execute_result"
    }
   ],
   "source": [
    "df_urb_pop = next(urb_pop_reader)\n",
    "df_urb_pop.head()"
   ],
   "metadata": {
    "collapsed": false,
    "pycharm": {
     "name": "#%%\n"
    }
   }
  },
  {
   "metadata": {
    "pycharm": {
     "name": "#%% md\n"
    }
   },
   "outputs": [],
   "source": [
    "Select only the rows of <code>df_urb_pop</code> that have a <code>'CountryCode'</code> of <code>'CEB'</code>. To do this, compare whether <code>df_urb_pop['CountryCode']</code> is <strong>equal</strong> to <code>'CEB'</code> within the square brackets in <code>df_urb_pop[____]</code>."
   ],
   "execution_count": null,
   "cell_type": "markdown"
  },
  {
   "cell_type": "code",
   "execution_count": 70,
   "outputs": [
    {
     "data": {
      "text/plain": "                         CountryName CountryCode  Year  Total Population  \\\n2180  Central Europe and the Baltics         CEB  1969        98602140.0   \n2422  Central Europe and the Baltics         CEB  1970        99133296.0   \n2664  Central Europe and the Baltics         CEB  1971        99638983.0   \n2906  Central Europe and the Baltics         CEB  1972       100363597.0   \n\n      Urban population (% of total)  \n2180                      50.215658  \n2422                      50.780410  \n2664                      51.429566  \n2906                      52.162106  ",
      "text/html": "<div>\n<style scoped>\n    .dataframe tbody tr th:only-of-type {\n        vertical-align: middle;\n    }\n\n    .dataframe tbody tr th {\n        vertical-align: top;\n    }\n\n    .dataframe thead th {\n        text-align: right;\n    }\n</style>\n<table border=\"1\" class=\"dataframe\">\n  <thead>\n    <tr style=\"text-align: right;\">\n      <th></th>\n      <th>CountryName</th>\n      <th>CountryCode</th>\n      <th>Year</th>\n      <th>Total Population</th>\n      <th>Urban population (% of total)</th>\n    </tr>\n  </thead>\n  <tbody>\n    <tr>\n      <th>2180</th>\n      <td>Central Europe and the Baltics</td>\n      <td>CEB</td>\n      <td>1969</td>\n      <td>98602140.0</td>\n      <td>50.215658</td>\n    </tr>\n    <tr>\n      <th>2422</th>\n      <td>Central Europe and the Baltics</td>\n      <td>CEB</td>\n      <td>1970</td>\n      <td>99133296.0</td>\n      <td>50.780410</td>\n    </tr>\n    <tr>\n      <th>2664</th>\n      <td>Central Europe and the Baltics</td>\n      <td>CEB</td>\n      <td>1971</td>\n      <td>99638983.0</td>\n      <td>51.429566</td>\n    </tr>\n    <tr>\n      <th>2906</th>\n      <td>Central Europe and the Baltics</td>\n      <td>CEB</td>\n      <td>1972</td>\n      <td>100363597.0</td>\n      <td>52.162106</td>\n    </tr>\n  </tbody>\n</table>\n</div>"
     },
     "execution_count": 70,
     "metadata": {},
     "output_type": "execute_result"
    }
   ],
   "source": [
    "df_pop_ceb = df_urb_pop[df_urb_pop[\"CountryCode\"] == \"CEB\"]\n",
    "df_pop_ceb"
   ],
   "metadata": {
    "collapsed": false,
    "pycharm": {
     "name": "#%%\n"
    }
   }
  },
  {
   "metadata": {
    "pycharm": {
     "name": "#%% md\n"
    }
   },
   "outputs": [],
   "source": [
    "Using <code>zip()</code>, zip together the <code>'Total Population'</code> and <code>'Urban population (% of total)'</code> columns of <code>df_pop_ceb</code>. Assign the resulting zip object to <code>pops</code>."
   ],
   "execution_count": null,
   "cell_type": "markdown"
  },
  {
   "cell_type": "code",
   "execution_count": 72,
   "outputs": [
    {
     "name": "stdout",
     "output_type": "stream",
     "text": [
      "[(98602140.0, 50.21565769332189), (99133296.0, 50.780409860457), (99638983.0, 51.4295664450529), (100363597.0, 52.1621059367571)]\n"
     ]
    }
   ],
   "source": [
    "pops = zip(df_pop_ceb[\"Total Population\"],df_pop_ceb[\"Urban population (% of total)\"])\n",
    "pops_list = list(pops)\n",
    "print(pops_list)"
   ],
   "metadata": {
    "collapsed": false,
    "pycharm": {
     "name": "#%%\n"
    }
   }
  },
  {
   "metadata": {
    "pycharm": {
     "name": "#%% md\n"
    }
   },
   "outputs": [],
   "source": [
    "## Writing an iterator to load data in chunks (3)\n",
    "\n",
    "<p>You're getting used to reading and processing data in chunks by now. Let's push your skills a little further by adding a column to a DataFrame.</p>\n",
    "<p>Starting from the code of the previous exercise, you will be using a <em>list comprehension</em> to create the values for a new column <code>'Total Urban Population'</code> from the list of tuples that you generated earlier. Recall from the previous exercise that the first and second elements of each tuple consist of, respectively, values from the columns <code>'Total Population'</code> and <code>'Urban population (% of total)'</code>. The values in this new column <code>'Total Urban Population'</code>, therefore, are the product of the first and second element in each tuple. Furthermore, because the 2nd element is a percentage, you need to divide the entire result by <code>100</code>, or alternatively, multiply it by <code>0.01</code>.</p>\n",
    "<p>You will also plot the data from this new column to create a visualization of the urban population data.</p>\n",
    "<p>The packages <code>pandas</code> and <code>matplotlib.pyplot</code> have been imported as <code>pd</code> and <code>plt</code> respectively for your use.</p>"
   ],
   "execution_count": null,
   "cell_type": "markdown"
  },
  {
   "metadata": {
    "pycharm": {
     "name": "#%% md\n"
    }
   },
   "outputs": [],
   "source": [
    "Write a list comprehension to generate a list of values from <code>pops_list</code> for the new column <code>'Total Urban Population'</code>. The <em>output expression</em> should be the product of the first and second element in each tuple in <code>pops_list</code>. Because the 2nd element is a percentage, you also need to either multiply the result by <code>0.01</code> or divide it by <code>100</code>. In addition, note that the column <code>'Total Urban Population'</code> should only be able to take on integer values. To ensure this, make sure you cast the <em>output expression</em> to an integer with <code>int()</code>."
   ],
   "execution_count": null,
   "cell_type": "markdown"
  },
  {
   "metadata": {
    "pycharm": {
     "name": "#%% md\n"
    }
   },
   "outputs": [],
   "source": [
    "Create a <em>scatter</em> plot where the x-axis are values from the <code>'Year'</code> column and the y-axis are values from the <code>'Total Urban Population'</code> column."
   ],
   "execution_count": null,
   "cell_type": "markdown"
  },
  {
   "cell_type": "code",
   "execution_count": 74,
   "outputs": [
    {
     "name": "stderr",
     "output_type": "stream",
     "text": [
      "C:\\Users\\Lenovo\\AppData\\Local\\Temp\\ipykernel_59600\\4004480912.py:3: SettingWithCopyWarning: \n",
      "A value is trying to be set on a copy of a slice from a DataFrame.\n",
      "Try using .loc[row_indexer,col_indexer] = value instead\n",
      "\n",
      "See the caveats in the documentation: https://pandas.pydata.org/pandas-docs/stable/user_guide/indexing.html#returning-a-view-versus-a-copy\n",
      "  df_pop_ceb['Total Urban Population'] = [int(tot * per *0.01) for tot , per in pops_list]\n"
     ]
    },
    {
     "data": {
      "text/plain": "<Figure size 432x288 with 1 Axes>",
      "image/png": "[encoded data removed]"
     },
     "metadata": {
      "needs_background": "light"
     },
     "output_type": "display_data"
    }
   ],
   "source": [
    "import matplotlib.pyplot as plt\n",
    "# Use list comprehension to create new DataFrame column 'Total Urban Population'\n",
    "df_pop_ceb['Total Urban Population'] = [int(tot * per *0.01) for tot , per in pops_list]\n",
    "\n",
    "# Plot urban population data\n",
    "df_pop_ceb.plot(kind=\"scatter\", x=\"Year\", y=\"Total Urban Population\")\n",
    "plt.show()"
   ],
   "metadata": {
    "collapsed": false,
    "pycharm": {
     "name": "#%%\n"
    }
   }
  },
  {
   "metadata": {
    "pycharm": {
     "name": "#%% md\n"
    }
   },
   "outputs": [],
   "source": [
    "## Writing an iterator to load data in chunks (4)\n",
    "\n",
    "<p>In the previous exercises, you've only processed the data from the first DataFrame chunk. This time, you will aggregate the results over all the DataFrame chunks in the dataset. This basically means you will be processing the <strong>entire</strong> dataset now. This is neat because you're going to be able to process the entire large dataset by just working on smaller pieces of it! </p>\n",
    "<p>You're going to use the data from <code>'ind_pop_data.csv'</code>, available in your current directory. The packages <code>pandas</code> and <code>matplotlib.pyplot</code> have been imported as <code>pd</code> and <code>plt</code> respectively for your use.</p>"
   ],
   "execution_count": null,
   "cell_type": "markdown"
  },
  {
   "metadata": {
    "pycharm": {
     "name": "#%% md\n"
    }
   },
   "outputs": [],
   "source": [
    "Initialize an empty DataFrame <code>data</code> using <code>pd.DataFrame()</code>."
   ],
   "execution_count": null,
   "cell_type": "markdown"
  },
  {
   "metadata": {
    "pycharm": {
     "name": "#%% md\n"
    }
   },
   "outputs": [],
   "source": [
    "In the <code>for</code> loop, iterate over <code>urb_pop_reader</code> to be able to process all the DataFrame chunks in the dataset."
   ],
   "execution_count": null,
   "cell_type": "markdown"
  },
  {
   "metadata": {
    "pycharm": {
     "name": "#%% md\n"
    }
   },
   "outputs": [],
   "source": [
    "Using the method <code>append()</code> of the DataFrame <code>data</code>, append <code>df_pop_ceb</code> to <code>data</code>."
   ],
   "execution_count": null,
   "cell_type": "markdown"
  },
  {
   "cell_type": "code",
   "execution_count": 87,
   "outputs": [
    {
     "name": "stderr",
     "output_type": "stream",
     "text": [
      "C:\\Users\\Lenovo\\AppData\\Local\\Temp\\ipykernel_59600\\2471276836.py:23: SettingWithCopyWarning: \n",
      "A value is trying to be set on a copy of a slice from a DataFrame.\n",
      "Try using .loc[row_indexer,col_indexer] = value instead\n",
      "\n",
      "See the caveats in the documentation: https://pandas.pydata.org/pandas-docs/stable/user_guide/indexing.html#returning-a-view-versus-a-copy\n",
      "  df_pop_ceb['Total Urban Population'] = [int(tup[0] * tup[1] * 0.01) for tup in pops_list]\n",
      "C:\\Users\\Lenovo\\AppData\\Local\\Temp\\ipykernel_59600\\2471276836.py:26: FutureWarning: The frame.append method is deprecated and will be removed from pandas in a future version. Use pandas.concat instead.\n",
      "  data = data.append(df_pop_ceb)\n",
      "C:\\Users\\Lenovo\\AppData\\Local\\Temp\\ipykernel_59600\\2471276836.py:23: SettingWithCopyWarning: \n",
      "A value is trying to be set on a copy of a slice from a DataFrame.\n",
      "Try using .loc[row_indexer,col_indexer] = value instead\n",
      "\n",
      "See the caveats in the documentation: https://pandas.pydata.org/pandas-docs/stable/user_guide/indexing.html#returning-a-view-versus-a-copy\n",
      "  df_pop_ceb['Total Urban Population'] = [int(tup[0] * tup[1] * 0.01) for tup in pops_list]\n",
      "C:\\Users\\Lenovo\\AppData\\Local\\Temp\\ipykernel_59600\\2471276836.py:26: FutureWarning: The frame.append method is deprecated and will be removed from pandas in a future version. Use pandas.concat instead.\n",
      "  data = data.append(df_pop_ceb)\n",
      "C:\\Users\\Lenovo\\AppData\\Local\\Temp\\ipykernel_59600\\2471276836.py:23: SettingWithCopyWarning: \n",
      "A value is trying to be set on a copy of a slice from a DataFrame.\n",
      "Try using .loc[row_indexer,col_indexer] = value instead\n",
      "\n",
      "See the caveats in the documentation: https://pandas.pydata.org/pandas-docs/stable/user_guide/indexing.html#returning-a-view-versus-a-copy\n",
      "  df_pop_ceb['Total Urban Population'] = [int(tup[0] * tup[1] * 0.01) for tup in pops_list]\n",
      "C:\\Users\\Lenovo\\AppData\\Local\\Temp\\ipykernel_59600\\2471276836.py:26: FutureWarning: The frame.append method is deprecated and will be removed from pandas in a future version. Use pandas.concat instead.\n",
      "  data = data.append(df_pop_ceb)\n",
      "C:\\Users\\Lenovo\\AppData\\Local\\Temp\\ipykernel_59600\\2471276836.py:23: SettingWithCopyWarning: \n",
      "A value is trying to be set on a copy of a slice from a DataFrame.\n",
      "Try using .loc[row_indexer,col_indexer] = value instead\n",
      "\n",
      "See the caveats in the documentation: https://pandas.pydata.org/pandas-docs/stable/user_guide/indexing.html#returning-a-view-versus-a-copy\n",
      "  df_pop_ceb['Total Urban Population'] = [int(tup[0] * tup[1] * 0.01) for tup in pops_list]\n",
      "C:\\Users\\Lenovo\\AppData\\Local\\Temp\\ipykernel_59600\\2471276836.py:26: FutureWarning: The frame.append method is deprecated and will be removed from pandas in a future version. Use pandas.concat instead.\n",
      "  data = data.append(df_pop_ceb)\n",
      "C:\\Users\\Lenovo\\AppData\\Local\\Temp\\ipykernel_59600\\2471276836.py:23: SettingWithCopyWarning: \n",
      "A value is trying to be set on a copy of a slice from a DataFrame.\n",
      "Try using .loc[row_indexer,col_indexer] = value instead\n",
      "\n",
      "See the caveats in the documentation: https://pandas.pydata.org/pandas-docs/stable/user_guide/indexing.html#returning-a-view-versus-a-copy\n",
      "  df_pop_ceb['Total Urban Population'] = [int(tup[0] * tup[1] * 0.01) for tup in pops_list]\n",
      "C:\\Users\\Lenovo\\AppData\\Local\\Temp\\ipykernel_59600\\2471276836.py:26: FutureWarning: The frame.append method is deprecated and will be removed from pandas in a future version. Use pandas.concat instead.\n",
      "  data = data.append(df_pop_ceb)\n",
      "C:\\Users\\Lenovo\\AppData\\Local\\Temp\\ipykernel_59600\\2471276836.py:23: SettingWithCopyWarning: \n",
      "A value is trying to be set on a copy of a slice from a DataFrame.\n",
      "Try using .loc[row_indexer,col_indexer] = value instead\n",
      "\n",
      "See the caveats in the documentation: https://pandas.pydata.org/pandas-docs/stable/user_guide/indexing.html#returning-a-view-versus-a-copy\n",
      "  df_pop_ceb['Total Urban Population'] = [int(tup[0] * tup[1] * 0.01) for tup in pops_list]\n",
      "C:\\Users\\Lenovo\\AppData\\Local\\Temp\\ipykernel_59600\\2471276836.py:26: FutureWarning: The frame.append method is deprecated and will be removed from pandas in a future version. Use pandas.concat instead.\n",
      "  data = data.append(df_pop_ceb)\n",
      "C:\\Users\\Lenovo\\AppData\\Local\\Temp\\ipykernel_59600\\2471276836.py:23: SettingWithCopyWarning: \n",
      "A value is trying to be set on a copy of a slice from a DataFrame.\n",
      "Try using .loc[row_indexer,col_indexer] = value instead\n",
      "\n",
      "See the caveats in the documentation: https://pandas.pydata.org/pandas-docs/stable/user_guide/indexing.html#returning-a-view-versus-a-copy\n",
      "  df_pop_ceb['Total Urban Population'] = [int(tup[0] * tup[1] * 0.01) for tup in pops_list]\n",
      "C:\\Users\\Lenovo\\AppData\\Local\\Temp\\ipykernel_59600\\2471276836.py:26: FutureWarning: The frame.append method is deprecated and will be removed from pandas in a future version. Use pandas.concat instead.\n",
      "  data = data.append(df_pop_ceb)\n",
      "C:\\Users\\Lenovo\\AppData\\Local\\Temp\\ipykernel_59600\\2471276836.py:23: SettingWithCopyWarning: \n",
      "A value is trying to be set on a copy of a slice from a DataFrame.\n",
      "Try using .loc[row_indexer,col_indexer] = value instead\n",
      "\n",
      "See the caveats in the documentation: https://pandas.pydata.org/pandas-docs/stable/user_guide/indexing.html#returning-a-view-versus-a-copy\n",
      "  df_pop_ceb['Total Urban Population'] = [int(tup[0] * tup[1] * 0.01) for tup in pops_list]\n",
      "C:\\Users\\Lenovo\\AppData\\Local\\Temp\\ipykernel_59600\\2471276836.py:26: FutureWarning: The frame.append method is deprecated and will be removed from pandas in a future version. Use pandas.concat instead.\n",
      "  data = data.append(df_pop_ceb)\n",
      "C:\\Users\\Lenovo\\AppData\\Local\\Temp\\ipykernel_59600\\2471276836.py:23: SettingWithCopyWarning: \n",
      "A value is trying to be set on a copy of a slice from a DataFrame.\n",
      "Try using .loc[row_indexer,col_indexer] = value instead\n",
      "\n",
      "See the caveats in the documentation: https://pandas.pydata.org/pandas-docs/stable/user_guide/indexing.html#returning-a-view-versus-a-copy\n",
      "  df_pop_ceb['Total Urban Population'] = [int(tup[0] * tup[1] * 0.01) for tup in pops_list]\n",
      "C:\\Users\\Lenovo\\AppData\\Local\\Temp\\ipykernel_59600\\2471276836.py:26: FutureWarning: The frame.append method is deprecated and will be removed from pandas in a future version. Use pandas.concat instead.\n",
      "  data = data.append(df_pop_ceb)\n",
      "C:\\Users\\Lenovo\\AppData\\Local\\Temp\\ipykernel_59600\\2471276836.py:23: SettingWithCopyWarning: \n",
      "A value is trying to be set on a copy of a slice from a DataFrame.\n",
      "Try using .loc[row_indexer,col_indexer] = value instead\n",
      "\n",
      "See the caveats in the documentation: https://pandas.pydata.org/pandas-docs/stable/user_guide/indexing.html#returning-a-view-versus-a-copy\n",
      "  df_pop_ceb['Total Urban Population'] = [int(tup[0] * tup[1] * 0.01) for tup in pops_list]\n",
      "C:\\Users\\Lenovo\\AppData\\Local\\Temp\\ipykernel_59600\\2471276836.py:26: FutureWarning: The frame.append method is deprecated and will be removed from pandas in a future version. Use pandas.concat instead.\n",
      "  data = data.append(df_pop_ceb)\n",
      "C:\\Users\\Lenovo\\AppData\\Local\\Temp\\ipykernel_59600\\2471276836.py:23: SettingWithCopyWarning: \n",
      "A value is trying to be set on a copy of a slice from a DataFrame.\n",
      "Try using .loc[row_indexer,col_indexer] = value instead\n",
      "\n",
      "See the caveats in the documentation: https://pandas.pydata.org/pandas-docs/stable/user_guide/indexing.html#returning-a-view-versus-a-copy\n",
      "  df_pop_ceb['Total Urban Population'] = [int(tup[0] * tup[1] * 0.01) for tup in pops_list]\n",
      "C:\\Users\\Lenovo\\AppData\\Local\\Temp\\ipykernel_59600\\2471276836.py:26: FutureWarning: The frame.append method is deprecated and will be removed from pandas in a future version. Use pandas.concat instead.\n",
      "  data = data.append(df_pop_ceb)\n",
      "C:\\Users\\Lenovo\\AppData\\Local\\Temp\\ipykernel_59600\\2471276836.py:23: SettingWithCopyWarning: \n",
      "A value is trying to be set on a copy of a slice from a DataFrame.\n",
      "Try using .loc[row_indexer,col_indexer] = value instead\n",
      "\n",
      "See the caveats in the documentation: https://pandas.pydata.org/pandas-docs/stable/user_guide/indexing.html#returning-a-view-versus-a-copy\n",
      "  df_pop_ceb['Total Urban Population'] = [int(tup[0] * tup[1] * 0.01) for tup in pops_list]\n",
      "C:\\Users\\Lenovo\\AppData\\Local\\Temp\\ipykernel_59600\\2471276836.py:26: FutureWarning: The frame.append method is deprecated and will be removed from pandas in a future version. Use pandas.concat instead.\n",
      "  data = data.append(df_pop_ceb)\n",
      "C:\\Users\\Lenovo\\AppData\\Local\\Temp\\ipykernel_59600\\2471276836.py:23: SettingWithCopyWarning: \n",
      "A value is trying to be set on a copy of a slice from a DataFrame.\n",
      "Try using .loc[row_indexer,col_indexer] = value instead\n",
      "\n",
      "See the caveats in the documentation: https://pandas.pydata.org/pandas-docs/stable/user_guide/indexing.html#returning-a-view-versus-a-copy\n",
      "  df_pop_ceb['Total Urban Population'] = [int(tup[0] * tup[1] * 0.01) for tup in pops_list]\n",
      "C:\\Users\\Lenovo\\AppData\\Local\\Temp\\ipykernel_59600\\2471276836.py:26: FutureWarning: The frame.append method is deprecated and will be removed from pandas in a future version. Use pandas.concat instead.\n",
      "  data = data.append(df_pop_ceb)\n",
      "C:\\Users\\Lenovo\\AppData\\Local\\Temp\\ipykernel_59600\\2471276836.py:23: SettingWithCopyWarning: \n",
      "A value is trying to be set on a copy of a slice from a DataFrame.\n",
      "Try using .loc[row_indexer,col_indexer] = value instead\n",
      "\n",
      "See the caveats in the documentation: https://pandas.pydata.org/pandas-docs/stable/user_guide/indexing.html#returning-a-view-versus-a-copy\n",
      "  df_pop_ceb['Total Urban Population'] = [int(tup[0] * tup[1] * 0.01) for tup in pops_list]\n",
      "C:\\Users\\Lenovo\\AppData\\Local\\Temp\\ipykernel_59600\\2471276836.py:26: FutureWarning: The frame.append method is deprecated and will be removed from pandas in a future version. Use pandas.concat instead.\n",
      "  data = data.append(df_pop_ceb)\n"
     ]
    },
    {
     "data": {
      "text/plain": "<Figure size 432x288 with 1 Axes>",
      "image/png": "[encoded data removed]"
     },
     "metadata": {
      "needs_background": "light"
     },
     "output_type": "display_data"
    }
   ],
   "source": [
    "# Initialize reader object: urb_pop_reader\n",
    "urb_pop_reader = pd.read_csv('data/world_ind_pop_data.csv', chunksize=1000)\n",
    "\n",
    "# Initialize empty DataFrame: data\n",
    "data = pd.DataFrame()\n",
    "\n",
    "# Iterate over each DataFrame chunk\n",
    "for df_urb_pop in urb_pop_reader:\n",
    "\n",
    "    # Check out specific country: df_pop_ceb\n",
    "    df_pop_ceb = df_urb_pop.loc[df_urb_pop['CountryCode'] == 'CEB',:]\n",
    "\n",
    "    # Zip DataFrame columns of interest: pops\n",
    "    pops = zip(df_pop_ceb.loc[:,'Total Population'],\n",
    "               df_pop_ceb.loc[:,'Urban population (% of total)'])\n",
    "\n",
    "    # Turn zip object into list: pops_list\n",
    "    pops_list = list(pops)\n",
    "\n",
    "    # print(pops_list)\n",
    "\n",
    "    # Use list comprehension to create new DataFrame column 'Total Urban Population'\n",
    "    df_pop_ceb['Total Urban Population'] = [int(tup[0] * tup[1] * 0.01) for tup in pops_list]\n",
    "\n",
    "    # Append DataFrame chunk to data: data\n",
    "    data = data.append(df_pop_ceb)\n",
    "\n",
    "\n",
    "# Plot urban population data\n",
    "data.plot(kind='scatter', x='Year', y='Total Urban Population')\n",
    "plt.show()\n"
   ],
   "metadata": {
    "collapsed": false,
    "pycharm": {
     "name": "#%%\n"
    }
   }
  },
  {
   "cell_type": "markdown",
   "source": [
    "## Writing an iterator to load data in chunks (5)\n",
    "\n",
    "<p>This is the last leg. You've learned a lot about processing a large dataset in chunks. In this last exercise, you will put all the code for processing the data into a single function so that you can reuse the code without having to rewrite the same things all over again.</p>\n",
    "<p>You're going to define the function <code>plot_pop()</code> which takes two arguments: the filename of the file to be processed, and the country code of the rows you want to process in the dataset. </p>\n",
    "<p>Because all of the previous code you've written in the previous exercises will be housed in <code>plot_pop()</code>, calling the function already does the following:</p>\n",
    "<ul>\n",
    "<li>Loading of the file chunk by chunk,</li>\n",
    "<li>Creating the new column of urban population values, and </li>\n",
    "<li>Plotting the urban population data. </li>\n",
    "</ul>\n",
    "<p>That's a lot of work, but the function now makes it convenient to repeat the same process for whatever file and country code you want to process and visualize!</p>\n",
    "<p>You're going to use the data from <code>'ind_pop_data.csv'</code>, available in your current directory. The packages pandas and matplotlib.pyplot has been imported as <code>pd</code> and <code>plt</code> respectively for your use.</p>\n",
    "<p>After you are done, take a moment to look at the plots and reflect on the new skills you have acquired. The journey doesn't end here! If you have enjoyed working with this data, you can continue exploring it using the pre-processed version available on Kaggle.</p>"
   ],
   "metadata": {
    "collapsed": false,
    "pycharm": {
     "name": "#%% md\n"
    }
   }
  },
  {
   "cell_type": "markdown",
   "source": [
    "Define the function <code>plot_pop()</code> that has two arguments: first is <code>filename</code> for the file to process and second is <code>country_code</code> for the country to be processed in the dataset."
   ],
   "metadata": {
    "collapsed": false,
    "pycharm": {
     "name": "#%% md\n"
    }
   }
  },
  {
   "cell_type": "markdown",
   "source": [
    "Call <code>plot_pop()</code> to process the data for country code <code>'CEB'</code> in the file <code>'ind_pop_data.csv'</code>."
   ],
   "metadata": {
    "collapsed": false,
    "pycharm": {
     "name": "#%% md\n"
    }
   }
  },
  {
   "cell_type": "markdown",
   "source": [
    "Call <code>plot_pop()</code> to process the data for country code <code>'ARB'</code> in the file <code>'ind_pop_data.csv'</code>."
   ],
   "metadata": {
    "collapsed": false,
    "pycharm": {
     "name": "#%% md\n"
    }
   }
  },
  {
   "cell_type": "code",
   "execution_count": null,
   "outputs": [],
   "source": [],
   "metadata": {
    "collapsed": false,
    "pycharm": {
     "name": "#%%\n"
    }
   }
  },
  {
   "cell_type": "code",
   "execution_count": 88,
   "outputs": [
    {
     "name": "stderr",
     "output_type": "stream",
     "text": [
      "C:\\Users\\Lenovo\\AppData\\Local\\Temp\\ipykernel_59600\\1293445471.py:23: SettingWithCopyWarning: \n",
      "A value is trying to be set on a copy of a slice from a DataFrame.\n",
      "Try using .loc[row_indexer,col_indexer] = value instead\n",
      "\n",
      "See the caveats in the documentation: https://pandas.pydata.org/pandas-docs/stable/user_guide/indexing.html#returning-a-view-versus-a-copy\n",
      "  df_pop_ceb['Total Urban Population'] = [int(tup[0] * tup[1] * 0.01) for tup in pops_list]\n",
      "C:\\Users\\Lenovo\\AppData\\Local\\Temp\\ipykernel_59600\\1293445471.py:26: FutureWarning: The frame.append method is deprecated and will be removed from pandas in a future version. Use pandas.concat instead.\n",
      "  data = data.append(df_pop_ceb)\n",
      "C:\\Users\\Lenovo\\AppData\\Local\\Temp\\ipykernel_59600\\1293445471.py:23: SettingWithCopyWarning: \n",
      "A value is trying to be set on a copy of a slice from a DataFrame.\n",
      "Try using .loc[row_indexer,col_indexer] = value instead\n",
      "\n",
      "See the caveats in the documentation: https://pandas.pydata.org/pandas-docs/stable/user_guide/indexing.html#returning-a-view-versus-a-copy\n",
      "  df_pop_ceb['Total Urban Population'] = [int(tup[0] * tup[1] * 0.01) for tup in pops_list]\n",
      "C:\\Users\\Lenovo\\AppData\\Local\\Temp\\ipykernel_59600\\1293445471.py:26: FutureWarning: The frame.append method is deprecated and will be removed from pandas in a future version. Use pandas.concat instead.\n",
      "  data = data.append(df_pop_ceb)\n",
      "C:\\Users\\Lenovo\\AppData\\Local\\Temp\\ipykernel_59600\\1293445471.py:23: SettingWithCopyWarning: \n",
      "A value is trying to be set on a copy of a slice from a DataFrame.\n",
      "Try using .loc[row_indexer,col_indexer] = value instead\n",
      "\n",
      "See the caveats in the documentation: https://pandas.pydata.org/pandas-docs/stable/user_guide/indexing.html#returning-a-view-versus-a-copy\n",
      "  df_pop_ceb['Total Urban Population'] = [int(tup[0] * tup[1] * 0.01) for tup in pops_list]\n",
      "C:\\Users\\Lenovo\\AppData\\Local\\Temp\\ipykernel_59600\\1293445471.py:26: FutureWarning: The frame.append method is deprecated and will be removed from pandas in a future version. Use pandas.concat instead.\n",
      "  data = data.append(df_pop_ceb)\n",
      "C:\\Users\\Lenovo\\AppData\\Local\\Temp\\ipykernel_59600\\1293445471.py:23: SettingWithCopyWarning: \n",
      "A value is trying to be set on a copy of a slice from a DataFrame.\n",
      "Try using .loc[row_indexer,col_indexer] = value instead\n",
      "\n",
      "See the caveats in the documentation: https://pandas.pydata.org/pandas-docs/stable/user_guide/indexing.html#returning-a-view-versus-a-copy\n",
      "  df_pop_ceb['Total Urban Population'] = [int(tup[0] * tup[1] * 0.01) for tup in pops_list]\n",
      "C:\\Users\\Lenovo\\AppData\\Local\\Temp\\ipykernel_59600\\1293445471.py:26: FutureWarning: The frame.append method is deprecated and will be removed from pandas in a future version. Use pandas.concat instead.\n",
      "  data = data.append(df_pop_ceb)\n",
      "C:\\Users\\Lenovo\\AppData\\Local\\Temp\\ipykernel_59600\\1293445471.py:23: SettingWithCopyWarning: \n",
      "A value is trying to be set on a copy of a slice from a DataFrame.\n",
      "Try using .loc[row_indexer,col_indexer] = value instead\n",
      "\n",
      "See the caveats in the documentation: https://pandas.pydata.org/pandas-docs/stable/user_guide/indexing.html#returning-a-view-versus-a-copy\n",
      "  df_pop_ceb['Total Urban Population'] = [int(tup[0] * tup[1] * 0.01) for tup in pops_list]\n",
      "C:\\Users\\Lenovo\\AppData\\Local\\Temp\\ipykernel_59600\\1293445471.py:26: FutureWarning: The frame.append method is deprecated and will be removed from pandas in a future version. Use pandas.concat instead.\n",
      "  data = data.append(df_pop_ceb)\n",
      "C:\\Users\\Lenovo\\AppData\\Local\\Temp\\ipykernel_59600\\1293445471.py:23: SettingWithCopyWarning: \n",
      "A value is trying to be set on a copy of a slice from a DataFrame.\n",
      "Try using .loc[row_indexer,col_indexer] = value instead\n",
      "\n",
      "See the caveats in the documentation: https://pandas.pydata.org/pandas-docs/stable/user_guide/indexing.html#returning-a-view-versus-a-copy\n",
      "  df_pop_ceb['Total Urban Population'] = [int(tup[0] * tup[1] * 0.01) for tup in pops_list]\n",
      "C:\\Users\\Lenovo\\AppData\\Local\\Temp\\ipykernel_59600\\1293445471.py:26: FutureWarning: The frame.append method is deprecated and will be removed from pandas in a future version. Use pandas.concat instead.\n",
      "  data = data.append(df_pop_ceb)\n",
      "C:\\Users\\Lenovo\\AppData\\Local\\Temp\\ipykernel_59600\\1293445471.py:23: SettingWithCopyWarning: \n",
      "A value is trying to be set on a copy of a slice from a DataFrame.\n",
      "Try using .loc[row_indexer,col_indexer] = value instead\n",
      "\n",
      "See the caveats in the documentation: https://pandas.pydata.org/pandas-docs/stable/user_guide/indexing.html#returning-a-view-versus-a-copy\n",
      "  df_pop_ceb['Total Urban Population'] = [int(tup[0] * tup[1] * 0.01) for tup in pops_list]\n",
      "C:\\Users\\Lenovo\\AppData\\Local\\Temp\\ipykernel_59600\\1293445471.py:26: FutureWarning: The frame.append method is deprecated and will be removed from pandas in a future version. Use pandas.concat instead.\n",
      "  data = data.append(df_pop_ceb)\n",
      "C:\\Users\\Lenovo\\AppData\\Local\\Temp\\ipykernel_59600\\1293445471.py:23: SettingWithCopyWarning: \n",
      "A value is trying to be set on a copy of a slice from a DataFrame.\n",
      "Try using .loc[row_indexer,col_indexer] = value instead\n",
      "\n",
      "See the caveats in the documentation: https://pandas.pydata.org/pandas-docs/stable/user_guide/indexing.html#returning-a-view-versus-a-copy\n",
      "  df_pop_ceb['Total Urban Population'] = [int(tup[0] * tup[1] * 0.01) for tup in pops_list]\n",
      "C:\\Users\\Lenovo\\AppData\\Local\\Temp\\ipykernel_59600\\1293445471.py:26: FutureWarning: The frame.append method is deprecated and will be removed from pandas in a future version. Use pandas.concat instead.\n",
      "  data = data.append(df_pop_ceb)\n",
      "C:\\Users\\Lenovo\\AppData\\Local\\Temp\\ipykernel_59600\\1293445471.py:23: SettingWithCopyWarning: \n",
      "A value is trying to be set on a copy of a slice from a DataFrame.\n",
      "Try using .loc[row_indexer,col_indexer] = value instead\n",
      "\n",
      "See the caveats in the documentation: https://pandas.pydata.org/pandas-docs/stable/user_guide/indexing.html#returning-a-view-versus-a-copy\n",
      "  df_pop_ceb['Total Urban Population'] = [int(tup[0] * tup[1] * 0.01) for tup in pops_list]\n",
      "C:\\Users\\Lenovo\\AppData\\Local\\Temp\\ipykernel_59600\\1293445471.py:26: FutureWarning: The frame.append method is deprecated and will be removed from pandas in a future version. Use pandas.concat instead.\n",
      "  data = data.append(df_pop_ceb)\n",
      "C:\\Users\\Lenovo\\AppData\\Local\\Temp\\ipykernel_59600\\1293445471.py:23: SettingWithCopyWarning: \n",
      "A value is trying to be set on a copy of a slice from a DataFrame.\n",
      "Try using .loc[row_indexer,col_indexer] = value instead\n",
      "\n",
      "See the caveats in the documentation: https://pandas.pydata.org/pandas-docs/stable/user_guide/indexing.html#returning-a-view-versus-a-copy\n",
      "  df_pop_ceb['Total Urban Population'] = [int(tup[0] * tup[1] * 0.01) for tup in pops_list]\n",
      "C:\\Users\\Lenovo\\AppData\\Local\\Temp\\ipykernel_59600\\1293445471.py:26: FutureWarning: The frame.append method is deprecated and will be removed from pandas in a future version. Use pandas.concat instead.\n",
      "  data = data.append(df_pop_ceb)\n",
      "C:\\Users\\Lenovo\\AppData\\Local\\Temp\\ipykernel_59600\\1293445471.py:23: SettingWithCopyWarning: \n",
      "A value is trying to be set on a copy of a slice from a DataFrame.\n",
      "Try using .loc[row_indexer,col_indexer] = value instead\n",
      "\n",
      "See the caveats in the documentation: https://pandas.pydata.org/pandas-docs/stable/user_guide/indexing.html#returning-a-view-versus-a-copy\n",
      "  df_pop_ceb['Total Urban Population'] = [int(tup[0] * tup[1] * 0.01) for tup in pops_list]\n",
      "C:\\Users\\Lenovo\\AppData\\Local\\Temp\\ipykernel_59600\\1293445471.py:26: FutureWarning: The frame.append method is deprecated and will be removed from pandas in a future version. Use pandas.concat instead.\n",
      "  data = data.append(df_pop_ceb)\n",
      "C:\\Users\\Lenovo\\AppData\\Local\\Temp\\ipykernel_59600\\1293445471.py:23: SettingWithCopyWarning: \n",
      "A value is trying to be set on a copy of a slice from a DataFrame.\n",
      "Try using .loc[row_indexer,col_indexer] = value instead\n",
      "\n",
      "See the caveats in the documentation: https://pandas.pydata.org/pandas-docs/stable/user_guide/indexing.html#returning-a-view-versus-a-copy\n",
      "  df_pop_ceb['Total Urban Population'] = [int(tup[0] * tup[1] * 0.01) for tup in pops_list]\n",
      "C:\\Users\\Lenovo\\AppData\\Local\\Temp\\ipykernel_59600\\1293445471.py:26: FutureWarning: The frame.append method is deprecated and will be removed from pandas in a future version. Use pandas.concat instead.\n",
      "  data = data.append(df_pop_ceb)\n",
      "C:\\Users\\Lenovo\\AppData\\Local\\Temp\\ipykernel_59600\\1293445471.py:23: SettingWithCopyWarning: \n",
      "A value is trying to be set on a copy of a slice from a DataFrame.\n",
      "Try using .loc[row_indexer,col_indexer] = value instead\n",
      "\n",
      "See the caveats in the documentation: https://pandas.pydata.org/pandas-docs/stable/user_guide/indexing.html#returning-a-view-versus-a-copy\n",
      "  df_pop_ceb['Total Urban Population'] = [int(tup[0] * tup[1] * 0.01) for tup in pops_list]\n",
      "C:\\Users\\Lenovo\\AppData\\Local\\Temp\\ipykernel_59600\\1293445471.py:26: FutureWarning: The frame.append method is deprecated and will be removed from pandas in a future version. Use pandas.concat instead.\n",
      "  data = data.append(df_pop_ceb)\n",
      "C:\\Users\\Lenovo\\AppData\\Local\\Temp\\ipykernel_59600\\1293445471.py:23: SettingWithCopyWarning: \n",
      "A value is trying to be set on a copy of a slice from a DataFrame.\n",
      "Try using .loc[row_indexer,col_indexer] = value instead\n",
      "\n",
      "See the caveats in the documentation: https://pandas.pydata.org/pandas-docs/stable/user_guide/indexing.html#returning-a-view-versus-a-copy\n",
      "  df_pop_ceb['Total Urban Population'] = [int(tup[0] * tup[1] * 0.01) for tup in pops_list]\n",
      "C:\\Users\\Lenovo\\AppData\\Local\\Temp\\ipykernel_59600\\1293445471.py:26: FutureWarning: The frame.append method is deprecated and will be removed from pandas in a future version. Use pandas.concat instead.\n",
      "  data = data.append(df_pop_ceb)\n"
     ]
    },
    {
     "data": {
      "text/plain": "<Figure size 432x288 with 1 Axes>",
      "image/png": "[encoded data removed]"
     },
     "metadata": {
      "needs_background": "light"
     },
     "output_type": "display_data"
    },
    {
     "name": "stderr",
     "output_type": "stream",
     "text": [
      "C:\\Users\\Lenovo\\AppData\\Local\\Temp\\ipykernel_59600\\1293445471.py:23: SettingWithCopyWarning: \n",
      "A value is trying to be set on a copy of a slice from a DataFrame.\n",
      "Try using .loc[row_indexer,col_indexer] = value instead\n",
      "\n",
      "See the caveats in the documentation: https://pandas.pydata.org/pandas-docs/stable/user_guide/indexing.html#returning-a-view-versus-a-copy\n",
      "  df_pop_ceb['Total Urban Population'] = [int(tup[0] * tup[1] * 0.01) for tup in pops_list]\n",
      "C:\\Users\\Lenovo\\AppData\\Local\\Temp\\ipykernel_59600\\1293445471.py:26: FutureWarning: The frame.append method is deprecated and will be removed from pandas in a future version. Use pandas.concat instead.\n",
      "  data = data.append(df_pop_ceb)\n",
      "C:\\Users\\Lenovo\\AppData\\Local\\Temp\\ipykernel_59600\\1293445471.py:23: SettingWithCopyWarning: \n",
      "A value is trying to be set on a copy of a slice from a DataFrame.\n",
      "Try using .loc[row_indexer,col_indexer] = value instead\n",
      "\n",
      "See the caveats in the documentation: https://pandas.pydata.org/pandas-docs/stable/user_guide/indexing.html#returning-a-view-versus-a-copy\n",
      "  df_pop_ceb['Total Urban Population'] = [int(tup[0] * tup[1] * 0.01) for tup in pops_list]\n",
      "C:\\Users\\Lenovo\\AppData\\Local\\Temp\\ipykernel_59600\\1293445471.py:26: FutureWarning: The frame.append method is deprecated and will be removed from pandas in a future version. Use pandas.concat instead.\n",
      "  data = data.append(df_pop_ceb)\n",
      "C:\\Users\\Lenovo\\AppData\\Local\\Temp\\ipykernel_59600\\1293445471.py:23: SettingWithCopyWarning: \n",
      "A value is trying to be set on a copy of a slice from a DataFrame.\n",
      "Try using .loc[row_indexer,col_indexer] = value instead\n",
      "\n",
      "See the caveats in the documentation: https://pandas.pydata.org/pandas-docs/stable/user_guide/indexing.html#returning-a-view-versus-a-copy\n",
      "  df_pop_ceb['Total Urban Population'] = [int(tup[0] * tup[1] * 0.01) for tup in pops_list]\n",
      "C:\\Users\\Lenovo\\AppData\\Local\\Temp\\ipykernel_59600\\1293445471.py:26: FutureWarning: The frame.append method is deprecated and will be removed from pandas in a future version. Use pandas.concat instead.\n",
      "  data = data.append(df_pop_ceb)\n",
      "C:\\Users\\Lenovo\\AppData\\Local\\Temp\\ipykernel_59600\\1293445471.py:23: SettingWithCopyWarning: \n",
      "A value is trying to be set on a copy of a slice from a DataFrame.\n",
      "Try using .loc[row_indexer,col_indexer] = value instead\n",
      "\n",
      "See the caveats in the documentation: https://pandas.pydata.org/pandas-docs/stable/user_guide/indexing.html#returning-a-view-versus-a-copy\n",
      "  df_pop_ceb['Total Urban Population'] = [int(tup[0] * tup[1] * 0.01) for tup in pops_list]\n",
      "C:\\Users\\Lenovo\\AppData\\Local\\Temp\\ipykernel_59600\\1293445471.py:26: FutureWarning: The frame.append method is deprecated and will be removed from pandas in a future version. Use pandas.concat instead.\n",
      "  data = data.append(df_pop_ceb)\n",
      "C:\\Users\\Lenovo\\AppData\\Local\\Temp\\ipykernel_59600\\1293445471.py:23: SettingWithCopyWarning: \n",
      "A value is trying to be set on a copy of a slice from a DataFrame.\n",
      "Try using .loc[row_indexer,col_indexer] = value instead\n",
      "\n",
      "See the caveats in the documentation: https://pandas.pydata.org/pandas-docs/stable/user_guide/indexing.html#returning-a-view-versus-a-copy\n",
      "  df_pop_ceb['Total Urban Population'] = [int(tup[0] * tup[1] * 0.01) for tup in pops_list]\n",
      "C:\\Users\\Lenovo\\AppData\\Local\\Temp\\ipykernel_59600\\1293445471.py:26: FutureWarning: The frame.append method is deprecated and will be removed from pandas in a future version. Use pandas.concat instead.\n",
      "  data = data.append(df_pop_ceb)\n",
      "C:\\Users\\Lenovo\\AppData\\Local\\Temp\\ipykernel_59600\\1293445471.py:23: SettingWithCopyWarning: \n",
      "A value is trying to be set on a copy of a slice from a DataFrame.\n",
      "Try using .loc[row_indexer,col_indexer] = value instead\n",
      "\n",
      "See the caveats in the documentation: https://pandas.pydata.org/pandas-docs/stable/user_guide/indexing.html#returning-a-view-versus-a-copy\n",
      "  df_pop_ceb['Total Urban Population'] = [int(tup[0] * tup[1] * 0.01) for tup in pops_list]\n",
      "C:\\Users\\Lenovo\\AppData\\Local\\Temp\\ipykernel_59600\\1293445471.py:26: FutureWarning: The frame.append method is deprecated and will be removed from pandas in a future version. Use pandas.concat instead.\n",
      "  data = data.append(df_pop_ceb)\n",
      "C:\\Users\\Lenovo\\AppData\\Local\\Temp\\ipykernel_59600\\1293445471.py:23: SettingWithCopyWarning: \n",
      "A value is trying to be set on a copy of a slice from a DataFrame.\n",
      "Try using .loc[row_indexer,col_indexer] = value instead\n",
      "\n",
      "See the caveats in the documentation: https://pandas.pydata.org/pandas-docs/stable/user_guide/indexing.html#returning-a-view-versus-a-copy\n",
      "  df_pop_ceb['Total Urban Population'] = [int(tup[0] * tup[1] * 0.01) for tup in pops_list]\n",
      "C:\\Users\\Lenovo\\AppData\\Local\\Temp\\ipykernel_59600\\1293445471.py:26: FutureWarning: The frame.append method is deprecated and will be removed from pandas in a future version. Use pandas.concat instead.\n",
      "  data = data.append(df_pop_ceb)\n",
      "C:\\Users\\Lenovo\\AppData\\Local\\Temp\\ipykernel_59600\\1293445471.py:23: SettingWithCopyWarning: \n",
      "A value is trying to be set on a copy of a slice from a DataFrame.\n",
      "Try using .loc[row_indexer,col_indexer] = value instead\n",
      "\n",
      "See the caveats in the documentation: https://pandas.pydata.org/pandas-docs/stable/user_guide/indexing.html#returning-a-view-versus-a-copy\n",
      "  df_pop_ceb['Total Urban Population'] = [int(tup[0] * tup[1] * 0.01) for tup in pops_list]\n",
      "C:\\Users\\Lenovo\\AppData\\Local\\Temp\\ipykernel_59600\\1293445471.py:26: FutureWarning: The frame.append method is deprecated and will be removed from pandas in a future version. Use pandas.concat instead.\n",
      "  data = data.append(df_pop_ceb)\n",
      "C:\\Users\\Lenovo\\AppData\\Local\\Temp\\ipykernel_59600\\1293445471.py:23: SettingWithCopyWarning: \n",
      "A value is trying to be set on a copy of a slice from a DataFrame.\n",
      "Try using .loc[row_indexer,col_indexer] = value instead\n",
      "\n",
      "See the caveats in the documentation: https://pandas.pydata.org/pandas-docs/stable/user_guide/indexing.html#returning-a-view-versus-a-copy\n",
      "  df_pop_ceb['Total Urban Population'] = [int(tup[0] * tup[1] * 0.01) for tup in pops_list]\n",
      "C:\\Users\\Lenovo\\AppData\\Local\\Temp\\ipykernel_59600\\1293445471.py:26: FutureWarning: The frame.append method is deprecated and will be removed from pandas in a future version. Use pandas.concat instead.\n",
      "  data = data.append(df_pop_ceb)\n",
      "C:\\Users\\Lenovo\\AppData\\Local\\Temp\\ipykernel_59600\\1293445471.py:23: SettingWithCopyWarning: \n",
      "A value is trying to be set on a copy of a slice from a DataFrame.\n",
      "Try using .loc[row_indexer,col_indexer] = value instead\n",
      "\n",
      "See the caveats in the documentation: https://pandas.pydata.org/pandas-docs/stable/user_guide/indexing.html#returning-a-view-versus-a-copy\n",
      "  df_pop_ceb['Total Urban Population'] = [int(tup[0] * tup[1] * 0.01) for tup in pops_list]\n",
      "C:\\Users\\Lenovo\\AppData\\Local\\Temp\\ipykernel_59600\\1293445471.py:26: FutureWarning: The frame.append method is deprecated and will be removed from pandas in a future version. Use pandas.concat instead.\n",
      "  data = data.append(df_pop_ceb)\n",
      "C:\\Users\\Lenovo\\AppData\\Local\\Temp\\ipykernel_59600\\1293445471.py:23: SettingWithCopyWarning: \n",
      "A value is trying to be set on a copy of a slice from a DataFrame.\n",
      "Try using .loc[row_indexer,col_indexer] = value instead\n",
      "\n",
      "See the caveats in the documentation: https://pandas.pydata.org/pandas-docs/stable/user_guide/indexing.html#returning-a-view-versus-a-copy\n",
      "  df_pop_ceb['Total Urban Population'] = [int(tup[0] * tup[1] * 0.01) for tup in pops_list]\n",
      "C:\\Users\\Lenovo\\AppData\\Local\\Temp\\ipykernel_59600\\1293445471.py:26: FutureWarning: The frame.append method is deprecated and will be removed from pandas in a future version. Use pandas.concat instead.\n",
      "  data = data.append(df_pop_ceb)\n",
      "C:\\Users\\Lenovo\\AppData\\Local\\Temp\\ipykernel_59600\\1293445471.py:23: SettingWithCopyWarning: \n",
      "A value is trying to be set on a copy of a slice from a DataFrame.\n",
      "Try using .loc[row_indexer,col_indexer] = value instead\n",
      "\n",
      "See the caveats in the documentation: https://pandas.pydata.org/pandas-docs/stable/user_guide/indexing.html#returning-a-view-versus-a-copy\n",
      "  df_pop_ceb['Total Urban Population'] = [int(tup[0] * tup[1] * 0.01) for tup in pops_list]\n",
      "C:\\Users\\Lenovo\\AppData\\Local\\Temp\\ipykernel_59600\\1293445471.py:26: FutureWarning: The frame.append method is deprecated and will be removed from pandas in a future version. Use pandas.concat instead.\n",
      "  data = data.append(df_pop_ceb)\n",
      "C:\\Users\\Lenovo\\AppData\\Local\\Temp\\ipykernel_59600\\1293445471.py:23: SettingWithCopyWarning: \n",
      "A value is trying to be set on a copy of a slice from a DataFrame.\n",
      "Try using .loc[row_indexer,col_indexer] = value instead\n",
      "\n",
      "See the caveats in the documentation: https://pandas.pydata.org/pandas-docs/stable/user_guide/indexing.html#returning-a-view-versus-a-copy\n",
      "  df_pop_ceb['Total Urban Population'] = [int(tup[0] * tup[1] * 0.01) for tup in pops_list]\n",
      "C:\\Users\\Lenovo\\AppData\\Local\\Temp\\ipykernel_59600\\1293445471.py:26: FutureWarning: The frame.append method is deprecated and will be removed from pandas in a future version. Use pandas.concat instead.\n",
      "  data = data.append(df_pop_ceb)\n",
      "C:\\Users\\Lenovo\\AppData\\Local\\Temp\\ipykernel_59600\\1293445471.py:23: SettingWithCopyWarning: \n",
      "A value is trying to be set on a copy of a slice from a DataFrame.\n",
      "Try using .loc[row_indexer,col_indexer] = value instead\n",
      "\n",
      "See the caveats in the documentation: https://pandas.pydata.org/pandas-docs/stable/user_guide/indexing.html#returning-a-view-versus-a-copy\n",
      "  df_pop_ceb['Total Urban Population'] = [int(tup[0] * tup[1] * 0.01) for tup in pops_list]\n",
      "C:\\Users\\Lenovo\\AppData\\Local\\Temp\\ipykernel_59600\\1293445471.py:26: FutureWarning: The frame.append method is deprecated and will be removed from pandas in a future version. Use pandas.concat instead.\n",
      "  data = data.append(df_pop_ceb)\n"
     ]
    },
    {
     "data": {
      "text/plain": "<Figure size 432x288 with 1 Axes>",
      "image/png": "[encoded data removed]"
     },
     "metadata": {
      "needs_background": "light"
     },
     "output_type": "display_data"
    }
   ],
   "source": [
    "# Define plot_pop()\n",
    "def plot_pop(filename, country_code):\n",
    "\n",
    "    # Initialize reader object: urb_pop_reader\n",
    "    urb_pop_reader = pd.read_csv(filename, chunksize=1000)\n",
    "\n",
    "    # Initialize empty DataFrame: data\n",
    "    data = pd.DataFrame()\n",
    "\n",
    "    # Iterate over each DataFrame chunk\n",
    "    for df_urb_pop in urb_pop_reader:\n",
    "        # Check out specific country: df_pop_ceb\n",
    "        df_pop_ceb = df_urb_pop[df_urb_pop['CountryCode'] == country_code]\n",
    "\n",
    "        # Zip DataFrame columns of interest: pops\n",
    "        pops = zip(df_pop_ceb['Total Population'],\n",
    "                    df_pop_ceb['Urban population (% of total)'])\n",
    "\n",
    "        # Turn zip object into list: pops_list\n",
    "        pops_list = list(pops)\n",
    "\n",
    "        # Use list comprehension to create new DataFrame column 'Total Urban Population'\n",
    "        df_pop_ceb['Total Urban Population'] = [int(tup[0] * tup[1] * 0.01) for tup in pops_list]\n",
    "\n",
    "        # Append DataFrame chunk to data: data\n",
    "        data = data.append(df_pop_ceb)\n",
    "\n",
    "    # Plot urban population data\n",
    "    data.plot(kind='scatter', x='Year', y='Total Urban Population')\n",
    "    plt.show()\n",
    "\n",
    "# Set the filename: fn\n",
    "fn = 'data/world_ind_pop_data.csv'\n",
    "\n",
    "# Call plot_pop for country code 'CEB'\n",
    "plot_pop(fn,\"CEB\")\n",
    "\n",
    "# Call plot_pop for country code 'ARB'\n",
    "plot_pop(fn,\"ARB\")\n"
   ],
   "metadata": {
    "collapsed": false,
    "pycharm": {
     "name": "#%%\n"
    }
   }
  },
  {
   "metadata": {
    "pycharm": {
     "name": "#%% md\n"
    }
   },
   "outputs": [],
   "source": [
    "## Final thoughts"
   ],
   "execution_count": null,
   "cell_type": "markdown"
  },
  {
   "metadata": {
    "pycharm": {
     "name": "#%% md\n"
    }
   },
   "outputs": [],
   "source": [
    "### 1. Final thoughts\n",
    "\n",
    "Wow, you sure have come a long way! Congratulations on making it through the case study, in which you had to apply skills from both of these Data Science toolbox courses."
   ],
   "execution_count": null,
   "cell_type": "markdown"
  },
  {
   "metadata": {
    "pycharm": {
     "name": "#%% md\n"
    }
   },
   "outputs": [],
   "source": [
    "### 2. You’ve applied your skills in:\n",
    "\n",
    "You have just used your new skills of writing user-defined functions, iterators, list comprehensions and generators to explore and extract results from the World Bank World Development Indicators dataset. These are all tools that you'll utilize time and time again in your work as a Data Scientist and you have worked hard to earn your Pythonista stripes."
   ],
   "execution_count": null,
   "cell_type": "markdown"
  },
  {
   "metadata": {
    "pycharm": {
     "name": "#%% md\n"
    }
   },
   "outputs": [],
   "source": [
    "### 3. Congratulations!\n",
    "\n",
    "Good work and keep on coding in PythonLand!"
   ],
   "execution_count": null,
   "cell_type": "markdown"
  }
 ],
 "metadata": {
  "kernelspec": {
   "display_name": "Python 3 (ipykernel)",
   "language": "python",
   "name": "python3"
  },
  "language_info": {
   "codemirror_mode": {
    "name": "ipython",
    "version": 3
   },
   "file_extension": ".py",
   "mimetype": "text/x-python",
   "name": "python",
   "nbconvert_exporter": "python",
   "pygments_lexer": "ipython3",
   "version": "3.9.12"
  },
  "toc": {
   "base_numbering": 1,
   "nav_menu": {},
   "number_sections": true,
   "sideBar": true,
   "skip_h1_title": false,
   "title_cell": "Table of Contents",
   "title_sidebar": "Contents",
   "toc_cell": false,
   "toc_position": {
    "height": "calc(100% - 180px)",
    "left": "10px",
    "top": "150px",
    "width": "165px"
   },
   "toc_section_display": true,
   "toc_window_display": true
  },
  "varInspector": {
   "cols": {
    "lenName": 16,
    "lenType": 16,
    "lenVar": 40
   },
   "kernels_config": {
    "python": {
     "delete_cmd_postfix": "",
     "delete_cmd_prefix": "del ",
     "library": "var_list.py",
     "varRefreshCmd": "print(var_dic_list())"
    },
    "r": {
     "delete_cmd_postfix": ") ",
     "delete_cmd_prefix": "rm(",
     "library": "var_list.r",
     "varRefreshCmd": "cat(var_dic_list()) "
    }
   },
   "types_to_exclude": [
    "module",
    "function",
    "builtin_function_or_method",
    "instance",
    "_Feature"
   ],
   "window_display": false
  }
 },
 "nbformat": 4,
 "nbformat_minor": 5
}